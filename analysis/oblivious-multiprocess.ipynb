{
 "cells": [
  {
   "cell_type": "code",
   "execution_count": 700,
   "id": "d5bc36a4",
   "metadata": {},
   "outputs": [],
   "source": [
    "%reload_ext autoreload\n",
    "%autoreload 2\n",
    "#import pandas as pd\n",
    "import numpy as np \n",
    "import plotly.express as px\n",
    "import plotly.graph_objects as go\n",
    "import chart_studio\n",
    "import chart_studio.plotly as py\n",
    "import os\n",
    "\n",
    "import experiment_helpers\n",
    "\n",
    "#debug\n",
    "from importlib import reload\n",
    "from experiment_helpers import *\n",
    "reload(experiment_helpers)\n",
    "from experiment_helpers import *"
   ]
  },
  {
   "cell_type": "code",
   "execution_count": 701,
   "id": "b9123f9b",
   "metadata": {},
   "outputs": [],
   "source": [
    "### update per hardware setting\n",
    "## updates plot titles when uploading charts to chart-studio.\n",
    "PLACE=\"CLOUDLAB:\""
   ]
  },
  {
   "cell_type": "code",
   "execution_count": 702,
   "id": "041b674e",
   "metadata": {},
   "outputs": [],
   "source": [
    "def add_annotation(text):\n",
    "    anno = \"<h3><pre>%s</pre></h3>\" % text\n",
    "    annotations.append(anno)"
   ]
  },
  {
   "cell_type": "code",
   "execution_count": 703,
   "id": "e6b68c96",
   "metadata": {},
   "outputs": [
    {
     "data": {
      "application/javascript": [
       "IPython.OutputArea.prototype._should_scroll = function(lines) {\n",
       "    return false;\n",
       "}\n"
      ],
      "text/plain": [
       "<IPython.core.display.Javascript object>"
      ]
     },
     "metadata": {},
     "output_type": "display_data"
    }
   ],
   "source": [
    "%%javascript\n",
    "IPython.OutputArea.prototype._should_scroll = function(lines) {\n",
    "    return false;\n",
    "}"
   ]
  },
  {
   "cell_type": "markdown",
   "id": "01d86478",
   "metadata": {},
   "source": [
    "### set up remote plotting"
   ]
  },
  {
   "cell_type": "code",
   "execution_count": 704,
   "id": "8ee5a489",
   "metadata": {},
   "outputs": [],
   "source": [
    "if os.getlogin() == 'narekg':\n",
    "    # Please do not override my chartly plots if you are not me\n",
    "    chart_studio.tools.set_credentials_file(username='ngalstyan', api_key='dApbes8sgyjaWkPJL8cA')\n",
    "\n",
    "from datetime import date\n",
    "UPLOAD_PLOTS = False\n",
    "def plot(fig):\n",
    "    fig.layout.title.text = PLACE + fig.layout.title.text\n",
    "    if UPLOAD_PLOTS:\n",
    "        f = \"%s:%s\" % (date.today(), fig.layout.title.text)\n",
    "        f = f[:50]\n",
    "        url = py.plot(fig, auto_open=False)\n",
    "        print(url)\n",
    "        fig.layout.title.text += url\n",
    "\n",
    "    return fig.show()"
   ]
  },
  {
   "cell_type": "markdown",
   "id": "9ebab666",
   "metadata": {},
   "source": [
    "# Experiment plots"
   ]
  },
  {
   "cell_type": "markdown",
   "id": "8e865026",
   "metadata": {},
   "source": [
    "## Define experiments"
   ]
  },
  {
   "cell_type": "code",
   "execution_count": 705,
   "id": "0eef23ed",
   "metadata": {},
   "outputs": [],
   "source": [
    "EXPERIMENT_TYPES = [\n",
    "#     \"no_prefetching\",\n",
    "#     \"linux_prefetching_asyncwrites\",\n",
    "    #\"linux_prefetching_ssdopt\",\n",
    "    #\"linux_prefetching_ssdopt_asyncwrites\",\n",
    "    #\"linux_prefetching_ssdopt_asyncwrites\",\n",
    "\n",
    "#     \"tape_prefetching_syncwrites\",\n",
    "    \"tape_prefetching_asyncwrites\",\n",
    "   # \"tape_prefetching_asyncwrites_linux\",\n",
    "\n",
    "    #\"tape_prefetching_asyncwrites_offload_fetch\",\n",
    "]\n",
    "annotations=[]"
   ]
  },
  {
   "cell_type": "code",
   "execution_count": 706,
   "id": "b41144ff",
   "metadata": {},
   "outputs": [],
   "source": [
    "WORKLOADS = [\"mmult_eigen\",  \"mmult_eigen_dot\", \"mmult_eigen_vec\",  \"python\", \"sparse_eigen\"\n",
    "             # \"vec_eigen\",\n",
    "             # \"dot_eigen\", \"mmap_random_rw\",\"kissfft\",  \"kmeans\", \"torch\",\n",
    "             # \"bitonic_merge\", \"native_sort\",\n",
    "             # \"bitonic_sort\", \"torch\", \"torch_par\",\"torch_par4\",\"linpack\", \"mmult_eigen_par\"\n",
    "             # \"alexnet\", \"vgg16\", \"batcher_sort\"\n",
    "            ]"
   ]
  },
  {
   "cell_type": "markdown",
   "id": "d04dab36",
   "metadata": {},
   "source": [
    "## Load data(single pandas table of all experiments per workload)"
   ]
  },
  {
   "cell_type": "code",
   "execution_count": 707,
   "id": "af53e79c",
   "metadata": {},
   "outputs": [],
   "source": [
    "data = {}\n",
    "def update_data(path, ind=1):\n",
    "    global data\n",
    "    data = {}\n",
    "    for workload in WORKLOADS:\n",
    "        data[workload] = augment_tables(get_experiment_data(EXPERIMENT_TYPES, ind, workload,path), filter_raw=True)\n",
    "        \n",
    "update_data(\"../prefetching-data/evictions-data/multiprocess/10gbps/experiment_results_nproc_3\")"
   ]
  },
  {
   "cell_type": "markdown",
   "id": "7bab064a",
   "metadata": {},
   "source": [
    "## Explore & Plot"
   ]
  },
  {
   "cell_type": "code",
   "execution_count": 763,
   "id": "843d8b5f",
   "metadata": {},
   "outputs": [
    {
     "name": "stdout",
     "output_type": "stream",
     "text": [
      "\u001b[0m\u001b[01;34mpyfft\u001b[0m/\r\n"
     ]
    }
   ],
   "source": [
    "ls ../experiment_results_fft_nproc_1"
   ]
  },
  {
   "cell_type": "code",
   "execution_count": 772,
   "id": "3dc7c428",
   "metadata": {},
   "outputs": [
    {
     "ename": "FileNotFoundError",
     "evalue": "[Errno 2] No such file or directory: '../experiment_results_fft_nproc_1/mmult_eigen_dot/tape_prefetching_asyncwrites/1/cgroup_results.csv'",
     "output_type": "error",
     "traceback": [
      "\u001b[0;31m---------------------------------------------------------------------------\u001b[0m",
      "\u001b[0;31mFileNotFoundError\u001b[0m                         Traceback (most recent call last)",
      "\u001b[0;32m/tmp/ipykernel_21299/1822378113.py\u001b[0m in \u001b[0;36m<module>\u001b[0;34m\u001b[0m\n\u001b[1;32m      6\u001b[0m \u001b[0;31m# data_dir = \"../prefetching-data/evictions-data/multiprocess/56gbps/experiment_results_nproc_11\"\u001b[0m\u001b[0;34m\u001b[0m\u001b[0;34m\u001b[0m\u001b[0;34m\u001b[0m\u001b[0m\n\u001b[1;32m      7\u001b[0m \u001b[0;34m\u001b[0m\u001b[0m\n\u001b[0;32m----> 8\u001b[0;31m \u001b[0mupdate_data\u001b[0m\u001b[0;34m(\u001b[0m\u001b[0mdata_dir\u001b[0m\u001b[0;34m,\u001b[0m \u001b[0mind\u001b[0m\u001b[0;34m=\u001b[0m\u001b[0;36m1\u001b[0m\u001b[0;34m)\u001b[0m\u001b[0;34m\u001b[0m\u001b[0;34m\u001b[0m\u001b[0m\n\u001b[0m",
      "\u001b[0;32m/tmp/ipykernel_21299/452391117.py\u001b[0m in \u001b[0;36mupdate_data\u001b[0;34m(path, ind)\u001b[0m\n\u001b[1;32m      4\u001b[0m     \u001b[0mdata\u001b[0m \u001b[0;34m=\u001b[0m \u001b[0;34m{\u001b[0m\u001b[0;34m}\u001b[0m\u001b[0;34m\u001b[0m\u001b[0;34m\u001b[0m\u001b[0m\n\u001b[1;32m      5\u001b[0m     \u001b[0;32mfor\u001b[0m \u001b[0mworkload\u001b[0m \u001b[0;32min\u001b[0m \u001b[0mWORKLOADS\u001b[0m\u001b[0;34m:\u001b[0m\u001b[0;34m\u001b[0m\u001b[0;34m\u001b[0m\u001b[0m\n\u001b[0;32m----> 6\u001b[0;31m         \u001b[0mdata\u001b[0m\u001b[0;34m[\u001b[0m\u001b[0mworkload\u001b[0m\u001b[0;34m]\u001b[0m \u001b[0;34m=\u001b[0m \u001b[0maugment_tables\u001b[0m\u001b[0;34m(\u001b[0m\u001b[0mget_experiment_data\u001b[0m\u001b[0;34m(\u001b[0m\u001b[0mEXPERIMENT_TYPES\u001b[0m\u001b[0;34m,\u001b[0m \u001b[0mind\u001b[0m\u001b[0;34m,\u001b[0m \u001b[0mworkload\u001b[0m\u001b[0;34m,\u001b[0m\u001b[0mpath\u001b[0m\u001b[0;34m)\u001b[0m\u001b[0;34m,\u001b[0m \u001b[0mfilter_raw\u001b[0m\u001b[0;34m=\u001b[0m\u001b[0;32mTrue\u001b[0m\u001b[0;34m)\u001b[0m\u001b[0;34m\u001b[0m\u001b[0;34m\u001b[0m\u001b[0m\n\u001b[0m\u001b[1;32m      7\u001b[0m \u001b[0;34m\u001b[0m\u001b[0m\n\u001b[1;32m      8\u001b[0m \u001b[0mupdate_data\u001b[0m\u001b[0;34m(\u001b[0m\u001b[0;34m\"../prefetching-data/evictions-data/multiprocess/10gbps/experiment_results_nproc_3\"\u001b[0m\u001b[0;34m)\u001b[0m\u001b[0;34m\u001b[0m\u001b[0;34m\u001b[0m\u001b[0m\n",
      "\u001b[0;32m/mydata/oblivious/experiments/analysis/experiment_helpers.py\u001b[0m in \u001b[0;36mget_experiment_data\u001b[0;34m(EXPERIMENT_TYPES, ind, experiment_name, experiment_dir)\u001b[0m\n\u001b[1;32m     67\u001b[0m     \u001b[0mall_data\u001b[0m \u001b[0;34m=\u001b[0m \u001b[0mpd\u001b[0m\u001b[0;34m.\u001b[0m\u001b[0mDataFrame\u001b[0m\u001b[0;34m(\u001b[0m\u001b[0;34m)\u001b[0m\u001b[0;34m\u001b[0m\u001b[0;34m\u001b[0m\u001b[0m\n\u001b[1;32m     68\u001b[0m     \u001b[0;32mfor\u001b[0m \u001b[0mexp_type\u001b[0m \u001b[0;32min\u001b[0m \u001b[0mEXPERIMENT_TYPES\u001b[0m\u001b[0;34m:\u001b[0m\u001b[0;34m\u001b[0m\u001b[0;34m\u001b[0m\u001b[0m\n\u001b[0;32m---> 69\u001b[0;31m         \u001b[0mcgroup\u001b[0m \u001b[0;34m=\u001b[0m \u001b[0mget_table\u001b[0m\u001b[0;34m(\u001b[0m\u001b[0mexp_type\u001b[0m\u001b[0;34m,\u001b[0m \u001b[0;34m\"cgroup\"\u001b[0m\u001b[0;34m)\u001b[0m\u001b[0;34m.\u001b[0m\u001b[0mset_index\u001b[0m\u001b[0;34m(\u001b[0m\u001b[0;34m\"RATIO\"\u001b[0m\u001b[0;34m)\u001b[0m\u001b[0;34m\u001b[0m\u001b[0;34m\u001b[0m\u001b[0m\n\u001b[0m\u001b[1;32m     70\u001b[0m         \u001b[0mftrace\u001b[0m \u001b[0;34m=\u001b[0m \u001b[0mget_table\u001b[0m\u001b[0;34m(\u001b[0m\u001b[0mexp_type\u001b[0m\u001b[0;34m,\u001b[0m \u001b[0;34m\"ftrace\"\u001b[0m\u001b[0;34m)\u001b[0m\u001b[0;34m.\u001b[0m\u001b[0mset_index\u001b[0m\u001b[0;34m(\u001b[0m\u001b[0;34m\"RATIO\"\u001b[0m\u001b[0;34m)\u001b[0m\u001b[0;34m\u001b[0m\u001b[0;34m\u001b[0m\u001b[0m\n\u001b[1;32m     71\u001b[0m \u001b[0;34m\u001b[0m\u001b[0m\n",
      "\u001b[0;32m/mydata/oblivious/experiments/analysis/experiment_helpers.py\u001b[0m in \u001b[0;36m<lambda>\u001b[0;34m(experiment_type, table)\u001b[0m\n\u001b[1;32m     64\u001b[0m     \u001b[0minds\u001b[0m \u001b[0;34m=\u001b[0m \u001b[0mstr\u001b[0m\u001b[0;34m(\u001b[0m\u001b[0mind\u001b[0m\u001b[0;34m)\u001b[0m\u001b[0;34m\u001b[0m\u001b[0;34m\u001b[0m\u001b[0m\n\u001b[1;32m     65\u001b[0m     \u001b[0;31m# get experiment data\u001b[0m\u001b[0;34m\u001b[0m\u001b[0;34m\u001b[0m\u001b[0;34m\u001b[0m\u001b[0m\n\u001b[0;32m---> 66\u001b[0;31m     \u001b[0mget_table\u001b[0m \u001b[0;34m=\u001b[0m \u001b[0;32mlambda\u001b[0m \u001b[0mexperiment_type\u001b[0m\u001b[0;34m,\u001b[0m \u001b[0mtable\u001b[0m\u001b[0;34m:\u001b[0m \u001b[0mpd\u001b[0m\u001b[0;34m.\u001b[0m\u001b[0mread_csv\u001b[0m\u001b[0;34m(\u001b[0m\u001b[0;34m\"%s/%s/%s/%s/%s_results.csv\"\u001b[0m \u001b[0;34m%\u001b[0m \u001b[0;34m(\u001b[0m\u001b[0mexperiment_dir\u001b[0m\u001b[0;34m,\u001b[0m \u001b[0mexperiment_name\u001b[0m\u001b[0;34m,\u001b[0m \u001b[0mexperiment_type\u001b[0m\u001b[0;34m,\u001b[0m \u001b[0minds\u001b[0m\u001b[0;34m,\u001b[0m \u001b[0mtable\u001b[0m\u001b[0;34m)\u001b[0m\u001b[0;34m)\u001b[0m\u001b[0;34m\u001b[0m\u001b[0;34m\u001b[0m\u001b[0m\n\u001b[0m\u001b[1;32m     67\u001b[0m     \u001b[0mall_data\u001b[0m \u001b[0;34m=\u001b[0m \u001b[0mpd\u001b[0m\u001b[0;34m.\u001b[0m\u001b[0mDataFrame\u001b[0m\u001b[0;34m(\u001b[0m\u001b[0;34m)\u001b[0m\u001b[0;34m\u001b[0m\u001b[0;34m\u001b[0m\u001b[0m\n\u001b[1;32m     68\u001b[0m     \u001b[0;32mfor\u001b[0m \u001b[0mexp_type\u001b[0m \u001b[0;32min\u001b[0m \u001b[0mEXPERIMENT_TYPES\u001b[0m\u001b[0;34m:\u001b[0m\u001b[0;34m\u001b[0m\u001b[0;34m\u001b[0m\u001b[0m\n",
      "\u001b[0;32m~/miniconda3/lib/python3.9/site-packages/pandas/util/_decorators.py\u001b[0m in \u001b[0;36mwrapper\u001b[0;34m(*args, **kwargs)\u001b[0m\n\u001b[1;32m    309\u001b[0m                     \u001b[0mstacklevel\u001b[0m\u001b[0;34m=\u001b[0m\u001b[0mstacklevel\u001b[0m\u001b[0;34m,\u001b[0m\u001b[0;34m\u001b[0m\u001b[0;34m\u001b[0m\u001b[0m\n\u001b[1;32m    310\u001b[0m                 )\n\u001b[0;32m--> 311\u001b[0;31m             \u001b[0;32mreturn\u001b[0m \u001b[0mfunc\u001b[0m\u001b[0;34m(\u001b[0m\u001b[0;34m*\u001b[0m\u001b[0margs\u001b[0m\u001b[0;34m,\u001b[0m \u001b[0;34m**\u001b[0m\u001b[0mkwargs\u001b[0m\u001b[0;34m)\u001b[0m\u001b[0;34m\u001b[0m\u001b[0;34m\u001b[0m\u001b[0m\n\u001b[0m\u001b[1;32m    312\u001b[0m \u001b[0;34m\u001b[0m\u001b[0m\n\u001b[1;32m    313\u001b[0m         \u001b[0;32mreturn\u001b[0m \u001b[0mwrapper\u001b[0m\u001b[0;34m\u001b[0m\u001b[0;34m\u001b[0m\u001b[0m\n",
      "\u001b[0;32m~/miniconda3/lib/python3.9/site-packages/pandas/io/parsers/readers.py\u001b[0m in \u001b[0;36mread_csv\u001b[0;34m(filepath_or_buffer, sep, delimiter, header, names, index_col, usecols, squeeze, prefix, mangle_dupe_cols, dtype, engine, converters, true_values, false_values, skipinitialspace, skiprows, skipfooter, nrows, na_values, keep_default_na, na_filter, verbose, skip_blank_lines, parse_dates, infer_datetime_format, keep_date_col, date_parser, dayfirst, cache_dates, iterator, chunksize, compression, thousands, decimal, lineterminator, quotechar, quoting, doublequote, escapechar, comment, encoding, encoding_errors, dialect, error_bad_lines, warn_bad_lines, on_bad_lines, delim_whitespace, low_memory, memory_map, float_precision, storage_options)\u001b[0m\n\u001b[1;32m    584\u001b[0m     \u001b[0mkwds\u001b[0m\u001b[0;34m.\u001b[0m\u001b[0mupdate\u001b[0m\u001b[0;34m(\u001b[0m\u001b[0mkwds_defaults\u001b[0m\u001b[0;34m)\u001b[0m\u001b[0;34m\u001b[0m\u001b[0;34m\u001b[0m\u001b[0m\n\u001b[1;32m    585\u001b[0m \u001b[0;34m\u001b[0m\u001b[0m\n\u001b[0;32m--> 586\u001b[0;31m     \u001b[0;32mreturn\u001b[0m \u001b[0m_read\u001b[0m\u001b[0;34m(\u001b[0m\u001b[0mfilepath_or_buffer\u001b[0m\u001b[0;34m,\u001b[0m \u001b[0mkwds\u001b[0m\u001b[0;34m)\u001b[0m\u001b[0;34m\u001b[0m\u001b[0;34m\u001b[0m\u001b[0m\n\u001b[0m\u001b[1;32m    587\u001b[0m \u001b[0;34m\u001b[0m\u001b[0m\n\u001b[1;32m    588\u001b[0m \u001b[0;34m\u001b[0m\u001b[0m\n",
      "\u001b[0;32m~/miniconda3/lib/python3.9/site-packages/pandas/io/parsers/readers.py\u001b[0m in \u001b[0;36m_read\u001b[0;34m(filepath_or_buffer, kwds)\u001b[0m\n\u001b[1;32m    480\u001b[0m \u001b[0;34m\u001b[0m\u001b[0m\n\u001b[1;32m    481\u001b[0m     \u001b[0;31m# Create the parser.\u001b[0m\u001b[0;34m\u001b[0m\u001b[0;34m\u001b[0m\u001b[0;34m\u001b[0m\u001b[0m\n\u001b[0;32m--> 482\u001b[0;31m     \u001b[0mparser\u001b[0m \u001b[0;34m=\u001b[0m \u001b[0mTextFileReader\u001b[0m\u001b[0;34m(\u001b[0m\u001b[0mfilepath_or_buffer\u001b[0m\u001b[0;34m,\u001b[0m \u001b[0;34m**\u001b[0m\u001b[0mkwds\u001b[0m\u001b[0;34m)\u001b[0m\u001b[0;34m\u001b[0m\u001b[0;34m\u001b[0m\u001b[0m\n\u001b[0m\u001b[1;32m    483\u001b[0m \u001b[0;34m\u001b[0m\u001b[0m\n\u001b[1;32m    484\u001b[0m     \u001b[0;32mif\u001b[0m \u001b[0mchunksize\u001b[0m \u001b[0;32mor\u001b[0m \u001b[0miterator\u001b[0m\u001b[0;34m:\u001b[0m\u001b[0;34m\u001b[0m\u001b[0;34m\u001b[0m\u001b[0m\n",
      "\u001b[0;32m~/miniconda3/lib/python3.9/site-packages/pandas/io/parsers/readers.py\u001b[0m in \u001b[0;36m__init__\u001b[0;34m(self, f, engine, **kwds)\u001b[0m\n\u001b[1;32m    809\u001b[0m             \u001b[0mself\u001b[0m\u001b[0;34m.\u001b[0m\u001b[0moptions\u001b[0m\u001b[0;34m[\u001b[0m\u001b[0;34m\"has_index_names\"\u001b[0m\u001b[0;34m]\u001b[0m \u001b[0;34m=\u001b[0m \u001b[0mkwds\u001b[0m\u001b[0;34m[\u001b[0m\u001b[0;34m\"has_index_names\"\u001b[0m\u001b[0;34m]\u001b[0m\u001b[0;34m\u001b[0m\u001b[0;34m\u001b[0m\u001b[0m\n\u001b[1;32m    810\u001b[0m \u001b[0;34m\u001b[0m\u001b[0m\n\u001b[0;32m--> 811\u001b[0;31m         \u001b[0mself\u001b[0m\u001b[0;34m.\u001b[0m\u001b[0m_engine\u001b[0m \u001b[0;34m=\u001b[0m \u001b[0mself\u001b[0m\u001b[0;34m.\u001b[0m\u001b[0m_make_engine\u001b[0m\u001b[0;34m(\u001b[0m\u001b[0mself\u001b[0m\u001b[0;34m.\u001b[0m\u001b[0mengine\u001b[0m\u001b[0;34m)\u001b[0m\u001b[0;34m\u001b[0m\u001b[0;34m\u001b[0m\u001b[0m\n\u001b[0m\u001b[1;32m    812\u001b[0m \u001b[0;34m\u001b[0m\u001b[0m\n\u001b[1;32m    813\u001b[0m     \u001b[0;32mdef\u001b[0m \u001b[0mclose\u001b[0m\u001b[0;34m(\u001b[0m\u001b[0mself\u001b[0m\u001b[0;34m)\u001b[0m\u001b[0;34m:\u001b[0m\u001b[0;34m\u001b[0m\u001b[0;34m\u001b[0m\u001b[0m\n",
      "\u001b[0;32m~/miniconda3/lib/python3.9/site-packages/pandas/io/parsers/readers.py\u001b[0m in \u001b[0;36m_make_engine\u001b[0;34m(self, engine)\u001b[0m\n\u001b[1;32m   1038\u001b[0m             )\n\u001b[1;32m   1039\u001b[0m         \u001b[0;31m# error: Too many arguments for \"ParserBase\"\u001b[0m\u001b[0;34m\u001b[0m\u001b[0;34m\u001b[0m\u001b[0;34m\u001b[0m\u001b[0m\n\u001b[0;32m-> 1040\u001b[0;31m         \u001b[0;32mreturn\u001b[0m \u001b[0mmapping\u001b[0m\u001b[0;34m[\u001b[0m\u001b[0mengine\u001b[0m\u001b[0;34m]\u001b[0m\u001b[0;34m(\u001b[0m\u001b[0mself\u001b[0m\u001b[0;34m.\u001b[0m\u001b[0mf\u001b[0m\u001b[0;34m,\u001b[0m \u001b[0;34m**\u001b[0m\u001b[0mself\u001b[0m\u001b[0;34m.\u001b[0m\u001b[0moptions\u001b[0m\u001b[0;34m)\u001b[0m  \u001b[0;31m# type: ignore[call-arg]\u001b[0m\u001b[0;34m\u001b[0m\u001b[0;34m\u001b[0m\u001b[0m\n\u001b[0m\u001b[1;32m   1041\u001b[0m \u001b[0;34m\u001b[0m\u001b[0m\n\u001b[1;32m   1042\u001b[0m     \u001b[0;32mdef\u001b[0m \u001b[0m_failover_to_python\u001b[0m\u001b[0;34m(\u001b[0m\u001b[0mself\u001b[0m\u001b[0;34m)\u001b[0m\u001b[0;34m:\u001b[0m\u001b[0;34m\u001b[0m\u001b[0;34m\u001b[0m\u001b[0m\n",
      "\u001b[0;32m~/miniconda3/lib/python3.9/site-packages/pandas/io/parsers/c_parser_wrapper.py\u001b[0m in \u001b[0;36m__init__\u001b[0;34m(self, src, **kwds)\u001b[0m\n\u001b[1;32m     49\u001b[0m \u001b[0;34m\u001b[0m\u001b[0m\n\u001b[1;32m     50\u001b[0m         \u001b[0;31m# open handles\u001b[0m\u001b[0;34m\u001b[0m\u001b[0;34m\u001b[0m\u001b[0;34m\u001b[0m\u001b[0m\n\u001b[0;32m---> 51\u001b[0;31m         \u001b[0mself\u001b[0m\u001b[0;34m.\u001b[0m\u001b[0m_open_handles\u001b[0m\u001b[0;34m(\u001b[0m\u001b[0msrc\u001b[0m\u001b[0;34m,\u001b[0m \u001b[0mkwds\u001b[0m\u001b[0;34m)\u001b[0m\u001b[0;34m\u001b[0m\u001b[0;34m\u001b[0m\u001b[0m\n\u001b[0m\u001b[1;32m     52\u001b[0m         \u001b[0;32massert\u001b[0m \u001b[0mself\u001b[0m\u001b[0;34m.\u001b[0m\u001b[0mhandles\u001b[0m \u001b[0;32mis\u001b[0m \u001b[0;32mnot\u001b[0m \u001b[0;32mNone\u001b[0m\u001b[0;34m\u001b[0m\u001b[0;34m\u001b[0m\u001b[0m\n\u001b[1;32m     53\u001b[0m \u001b[0;34m\u001b[0m\u001b[0m\n",
      "\u001b[0;32m~/miniconda3/lib/python3.9/site-packages/pandas/io/parsers/base_parser.py\u001b[0m in \u001b[0;36m_open_handles\u001b[0;34m(self, src, kwds)\u001b[0m\n\u001b[1;32m    220\u001b[0m         \u001b[0mLet\u001b[0m \u001b[0mthe\u001b[0m \u001b[0mreaders\u001b[0m \u001b[0mopen\u001b[0m \u001b[0mIOHandles\u001b[0m \u001b[0mafter\u001b[0m \u001b[0mthey\u001b[0m \u001b[0mare\u001b[0m \u001b[0mdone\u001b[0m \u001b[0;32mwith\u001b[0m \u001b[0mtheir\u001b[0m \u001b[0mpotential\u001b[0m \u001b[0mraises\u001b[0m\u001b[0;34m.\u001b[0m\u001b[0;34m\u001b[0m\u001b[0;34m\u001b[0m\u001b[0m\n\u001b[1;32m    221\u001b[0m         \"\"\"\n\u001b[0;32m--> 222\u001b[0;31m         self.handles = get_handle(\n\u001b[0m\u001b[1;32m    223\u001b[0m             \u001b[0msrc\u001b[0m\u001b[0;34m,\u001b[0m\u001b[0;34m\u001b[0m\u001b[0;34m\u001b[0m\u001b[0m\n\u001b[1;32m    224\u001b[0m             \u001b[0;34m\"r\"\u001b[0m\u001b[0;34m,\u001b[0m\u001b[0;34m\u001b[0m\u001b[0;34m\u001b[0m\u001b[0m\n",
      "\u001b[0;32m~/miniconda3/lib/python3.9/site-packages/pandas/io/common.py\u001b[0m in \u001b[0;36mget_handle\u001b[0;34m(path_or_buf, mode, encoding, compression, memory_map, is_text, errors, storage_options)\u001b[0m\n\u001b[1;32m    700\u001b[0m         \u001b[0;32mif\u001b[0m \u001b[0mioargs\u001b[0m\u001b[0;34m.\u001b[0m\u001b[0mencoding\u001b[0m \u001b[0;32mand\u001b[0m \u001b[0;34m\"b\"\u001b[0m \u001b[0;32mnot\u001b[0m \u001b[0;32min\u001b[0m \u001b[0mioargs\u001b[0m\u001b[0;34m.\u001b[0m\u001b[0mmode\u001b[0m\u001b[0;34m:\u001b[0m\u001b[0;34m\u001b[0m\u001b[0;34m\u001b[0m\u001b[0m\n\u001b[1;32m    701\u001b[0m             \u001b[0;31m# Encoding\u001b[0m\u001b[0;34m\u001b[0m\u001b[0;34m\u001b[0m\u001b[0;34m\u001b[0m\u001b[0m\n\u001b[0;32m--> 702\u001b[0;31m             handle = open(\n\u001b[0m\u001b[1;32m    703\u001b[0m                 \u001b[0mhandle\u001b[0m\u001b[0;34m,\u001b[0m\u001b[0;34m\u001b[0m\u001b[0;34m\u001b[0m\u001b[0m\n\u001b[1;32m    704\u001b[0m                 \u001b[0mioargs\u001b[0m\u001b[0;34m.\u001b[0m\u001b[0mmode\u001b[0m\u001b[0;34m,\u001b[0m\u001b[0;34m\u001b[0m\u001b[0;34m\u001b[0m\u001b[0m\n",
      "\u001b[0;31mFileNotFoundError\u001b[0m: [Errno 2] No such file or directory: '../experiment_results_fft_nproc_1/mmult_eigen_dot/tape_prefetching_asyncwrites/1/cgroup_results.csv'"
     ]
    }
   ],
   "source": [
    "WORKLOADS = [\"mmult_eigen_dot\"]\n",
    "data_dir = \"../prefetching-data/evictions-data/multiprocess/10gbps/experiment_results_nproc_1\"\n",
    "\n",
    "data_dir = \"../prefetching-data/evictions-data/multiprocess/25gpbs/experiment_results_nproc_10\"\n",
    "data_dir = \"../experiment_results_fft_nproc_1\"\n",
    "# data_dir = \"../prefetching-data/evictions-data/multiprocess/56gbps/experiment_results_nproc_11\"\n",
    "\n",
    "update_data(data_dir, ind=1)\n"
   ]
  },
  {
   "cell_type": "code",
   "execution_count": 770,
   "id": "441c9082",
   "metadata": {},
   "outputs": [
    {
     "name": "stderr",
     "output_type": "stream",
     "text": [
      "/mydata/oblivious/experiments/analysis/experiment_helpers.py:9: SettingWithCopyWarning:\n",
      "\n",
      "\n",
      "A value is trying to be set on a copy of a slice from a DataFrame.\n",
      "Try using .loc[row_indexer,col_indexer] = value instead\n",
      "\n",
      "See the caveats in the documentation: https://pandas.pydata.org/pandas-docs/stable/user_guide/indexing.html#returning-a-view-versus-a-copy\n",
      "\n",
      "/mydata/oblivious/experiments/analysis/experiment_helpers.py:10: SettingWithCopyWarning:\n",
      "\n",
      "\n",
      "A value is trying to be set on a copy of a slice from a DataFrame.\n",
      "Try using .loc[row_indexer,col_indexer] = value instead\n",
      "\n",
      "See the caveats in the documentation: https://pandas.pydata.org/pandas-docs/stable/user_guide/indexing.html#returning-a-view-versus-a-copy\n",
      "\n",
      "/mydata/oblivious/experiments/analysis/experiment_helpers.py:11: SettingWithCopyWarning:\n",
      "\n",
      "\n",
      "A value is trying to be set on a copy of a slice from a DataFrame.\n",
      "Try using .loc[row_indexer,col_indexer] = value instead\n",
      "\n",
      "See the caveats in the documentation: https://pandas.pydata.org/pandas-docs/stable/user_guide/indexing.html#returning-a-view-versus-a-copy\n",
      "\n"
     ]
    },
    {
     "data": {
      "application/vnd.plotly.v1+json": {
       "config": {
        "plotlyServerURL": "https://plotly.com"
       },
       "data": [
        {
         "hovertemplate": "variable=Eviction Time<br>Experiment Name=tape_prefetching_asyncwrites<br>RATIO=%{x}<br>value=%{y}<extra></extra>",
         "legendgroup": "Eviction Time",
         "line": {
          "color": "#636efa",
          "dash": "solid"
         },
         "marker": {
          "symbol": "circle"
         },
         "mode": "lines",
         "name": "Eviction Time",
         "orientation": "v",
         "showlegend": true,
         "type": "scatter",
         "x": [
          20,
          30,
          40,
          50,
          60,
          70,
          80,
          90
         ],
         "xaxis": "x",
         "y": [
          4.671875515251442,
          5.493733681462141,
          9.898226395409493,
          6.545181574239714,
          6.711954597048806,
          4.572694293478261,
          2.683453416149068,
          1.6468219395866452
         ],
         "yaxis": "y"
        },
        {
         "hovertemplate": "variable=CUTOFF<br>Experiment Name=tape_prefetching_asyncwrites<br>RATIO=%{x}<br>value=%{y}<extra></extra>",
         "legendgroup": "CUTOFF",
         "line": {
          "color": "#EF553B",
          "dash": "solid"
         },
         "marker": {
          "symbol": "circle"
         },
         "mode": "lines",
         "name": "CUTOFF",
         "orientation": "v",
         "showlegend": true,
         "type": "scatter",
         "x": [
          20,
          30,
          40,
          50,
          60,
          70,
          80,
          90
         ],
         "xaxis": "x",
         "y": [
          5,
          5,
          5,
          5,
          5,
          5,
          5,
          5
         ],
         "yaxis": "y"
        }
       ],
       "layout": {
        "legend": {
         "title": {
          "text": "variable"
         },
         "tracegroupgap": 0
        },
        "template": {
         "data": {
          "bar": [
           {
            "error_x": {
             "color": "#2a3f5f"
            },
            "error_y": {
             "color": "#2a3f5f"
            },
            "marker": {
             "line": {
              "color": "#E5ECF6",
              "width": 0.5
             },
             "pattern": {
              "fillmode": "overlay",
              "size": 10,
              "solidity": 0.2
             }
            },
            "type": "bar"
           }
          ],
          "barpolar": [
           {
            "marker": {
             "line": {
              "color": "#E5ECF6",
              "width": 0.5
             },
             "pattern": {
              "fillmode": "overlay",
              "size": 10,
              "solidity": 0.2
             }
            },
            "type": "barpolar"
           }
          ],
          "carpet": [
           {
            "aaxis": {
             "endlinecolor": "#2a3f5f",
             "gridcolor": "white",
             "linecolor": "white",
             "minorgridcolor": "white",
             "startlinecolor": "#2a3f5f"
            },
            "baxis": {
             "endlinecolor": "#2a3f5f",
             "gridcolor": "white",
             "linecolor": "white",
             "minorgridcolor": "white",
             "startlinecolor": "#2a3f5f"
            },
            "type": "carpet"
           }
          ],
          "choropleth": [
           {
            "colorbar": {
             "outlinewidth": 0,
             "ticks": ""
            },
            "type": "choropleth"
           }
          ],
          "contour": [
           {
            "colorbar": {
             "outlinewidth": 0,
             "ticks": ""
            },
            "colorscale": [
             [
              0,
              "#0d0887"
             ],
             [
              0.1111111111111111,
              "#46039f"
             ],
             [
              0.2222222222222222,
              "#7201a8"
             ],
             [
              0.3333333333333333,
              "#9c179e"
             ],
             [
              0.4444444444444444,
              "#bd3786"
             ],
             [
              0.5555555555555556,
              "#d8576b"
             ],
             [
              0.6666666666666666,
              "#ed7953"
             ],
             [
              0.7777777777777778,
              "#fb9f3a"
             ],
             [
              0.8888888888888888,
              "#fdca26"
             ],
             [
              1,
              "#f0f921"
             ]
            ],
            "type": "contour"
           }
          ],
          "contourcarpet": [
           {
            "colorbar": {
             "outlinewidth": 0,
             "ticks": ""
            },
            "type": "contourcarpet"
           }
          ],
          "heatmap": [
           {
            "colorbar": {
             "outlinewidth": 0,
             "ticks": ""
            },
            "colorscale": [
             [
              0,
              "#0d0887"
             ],
             [
              0.1111111111111111,
              "#46039f"
             ],
             [
              0.2222222222222222,
              "#7201a8"
             ],
             [
              0.3333333333333333,
              "#9c179e"
             ],
             [
              0.4444444444444444,
              "#bd3786"
             ],
             [
              0.5555555555555556,
              "#d8576b"
             ],
             [
              0.6666666666666666,
              "#ed7953"
             ],
             [
              0.7777777777777778,
              "#fb9f3a"
             ],
             [
              0.8888888888888888,
              "#fdca26"
             ],
             [
              1,
              "#f0f921"
             ]
            ],
            "type": "heatmap"
           }
          ],
          "heatmapgl": [
           {
            "colorbar": {
             "outlinewidth": 0,
             "ticks": ""
            },
            "colorscale": [
             [
              0,
              "#0d0887"
             ],
             [
              0.1111111111111111,
              "#46039f"
             ],
             [
              0.2222222222222222,
              "#7201a8"
             ],
             [
              0.3333333333333333,
              "#9c179e"
             ],
             [
              0.4444444444444444,
              "#bd3786"
             ],
             [
              0.5555555555555556,
              "#d8576b"
             ],
             [
              0.6666666666666666,
              "#ed7953"
             ],
             [
              0.7777777777777778,
              "#fb9f3a"
             ],
             [
              0.8888888888888888,
              "#fdca26"
             ],
             [
              1,
              "#f0f921"
             ]
            ],
            "type": "heatmapgl"
           }
          ],
          "histogram": [
           {
            "marker": {
             "pattern": {
              "fillmode": "overlay",
              "size": 10,
              "solidity": 0.2
             }
            },
            "type": "histogram"
           }
          ],
          "histogram2d": [
           {
            "colorbar": {
             "outlinewidth": 0,
             "ticks": ""
            },
            "colorscale": [
             [
              0,
              "#0d0887"
             ],
             [
              0.1111111111111111,
              "#46039f"
             ],
             [
              0.2222222222222222,
              "#7201a8"
             ],
             [
              0.3333333333333333,
              "#9c179e"
             ],
             [
              0.4444444444444444,
              "#bd3786"
             ],
             [
              0.5555555555555556,
              "#d8576b"
             ],
             [
              0.6666666666666666,
              "#ed7953"
             ],
             [
              0.7777777777777778,
              "#fb9f3a"
             ],
             [
              0.8888888888888888,
              "#fdca26"
             ],
             [
              1,
              "#f0f921"
             ]
            ],
            "type": "histogram2d"
           }
          ],
          "histogram2dcontour": [
           {
            "colorbar": {
             "outlinewidth": 0,
             "ticks": ""
            },
            "colorscale": [
             [
              0,
              "#0d0887"
             ],
             [
              0.1111111111111111,
              "#46039f"
             ],
             [
              0.2222222222222222,
              "#7201a8"
             ],
             [
              0.3333333333333333,
              "#9c179e"
             ],
             [
              0.4444444444444444,
              "#bd3786"
             ],
             [
              0.5555555555555556,
              "#d8576b"
             ],
             [
              0.6666666666666666,
              "#ed7953"
             ],
             [
              0.7777777777777778,
              "#fb9f3a"
             ],
             [
              0.8888888888888888,
              "#fdca26"
             ],
             [
              1,
              "#f0f921"
             ]
            ],
            "type": "histogram2dcontour"
           }
          ],
          "mesh3d": [
           {
            "colorbar": {
             "outlinewidth": 0,
             "ticks": ""
            },
            "type": "mesh3d"
           }
          ],
          "parcoords": [
           {
            "line": {
             "colorbar": {
              "outlinewidth": 0,
              "ticks": ""
             }
            },
            "type": "parcoords"
           }
          ],
          "pie": [
           {
            "automargin": true,
            "type": "pie"
           }
          ],
          "scatter": [
           {
            "marker": {
             "colorbar": {
              "outlinewidth": 0,
              "ticks": ""
             }
            },
            "type": "scatter"
           }
          ],
          "scatter3d": [
           {
            "line": {
             "colorbar": {
              "outlinewidth": 0,
              "ticks": ""
             }
            },
            "marker": {
             "colorbar": {
              "outlinewidth": 0,
              "ticks": ""
             }
            },
            "type": "scatter3d"
           }
          ],
          "scattercarpet": [
           {
            "marker": {
             "colorbar": {
              "outlinewidth": 0,
              "ticks": ""
             }
            },
            "type": "scattercarpet"
           }
          ],
          "scattergeo": [
           {
            "marker": {
             "colorbar": {
              "outlinewidth": 0,
              "ticks": ""
             }
            },
            "type": "scattergeo"
           }
          ],
          "scattergl": [
           {
            "marker": {
             "colorbar": {
              "outlinewidth": 0,
              "ticks": ""
             }
            },
            "type": "scattergl"
           }
          ],
          "scattermapbox": [
           {
            "marker": {
             "colorbar": {
              "outlinewidth": 0,
              "ticks": ""
             }
            },
            "type": "scattermapbox"
           }
          ],
          "scatterpolar": [
           {
            "marker": {
             "colorbar": {
              "outlinewidth": 0,
              "ticks": ""
             }
            },
            "type": "scatterpolar"
           }
          ],
          "scatterpolargl": [
           {
            "marker": {
             "colorbar": {
              "outlinewidth": 0,
              "ticks": ""
             }
            },
            "type": "scatterpolargl"
           }
          ],
          "scatterternary": [
           {
            "marker": {
             "colorbar": {
              "outlinewidth": 0,
              "ticks": ""
             }
            },
            "type": "scatterternary"
           }
          ],
          "surface": [
           {
            "colorbar": {
             "outlinewidth": 0,
             "ticks": ""
            },
            "colorscale": [
             [
              0,
              "#0d0887"
             ],
             [
              0.1111111111111111,
              "#46039f"
             ],
             [
              0.2222222222222222,
              "#7201a8"
             ],
             [
              0.3333333333333333,
              "#9c179e"
             ],
             [
              0.4444444444444444,
              "#bd3786"
             ],
             [
              0.5555555555555556,
              "#d8576b"
             ],
             [
              0.6666666666666666,
              "#ed7953"
             ],
             [
              0.7777777777777778,
              "#fb9f3a"
             ],
             [
              0.8888888888888888,
              "#fdca26"
             ],
             [
              1,
              "#f0f921"
             ]
            ],
            "type": "surface"
           }
          ],
          "table": [
           {
            "cells": {
             "fill": {
              "color": "#EBF0F8"
             },
             "line": {
              "color": "white"
             }
            },
            "header": {
             "fill": {
              "color": "#C8D4E3"
             },
             "line": {
              "color": "white"
             }
            },
            "type": "table"
           }
          ]
         },
         "layout": {
          "annotationdefaults": {
           "arrowcolor": "#2a3f5f",
           "arrowhead": 0,
           "arrowwidth": 1
          },
          "autotypenumbers": "strict",
          "coloraxis": {
           "colorbar": {
            "outlinewidth": 0,
            "ticks": ""
           }
          },
          "colorscale": {
           "diverging": [
            [
             0,
             "#8e0152"
            ],
            [
             0.1,
             "#c51b7d"
            ],
            [
             0.2,
             "#de77ae"
            ],
            [
             0.3,
             "#f1b6da"
            ],
            [
             0.4,
             "#fde0ef"
            ],
            [
             0.5,
             "#f7f7f7"
            ],
            [
             0.6,
             "#e6f5d0"
            ],
            [
             0.7,
             "#b8e186"
            ],
            [
             0.8,
             "#7fbc41"
            ],
            [
             0.9,
             "#4d9221"
            ],
            [
             1,
             "#276419"
            ]
           ],
           "sequential": [
            [
             0,
             "#0d0887"
            ],
            [
             0.1111111111111111,
             "#46039f"
            ],
            [
             0.2222222222222222,
             "#7201a8"
            ],
            [
             0.3333333333333333,
             "#9c179e"
            ],
            [
             0.4444444444444444,
             "#bd3786"
            ],
            [
             0.5555555555555556,
             "#d8576b"
            ],
            [
             0.6666666666666666,
             "#ed7953"
            ],
            [
             0.7777777777777778,
             "#fb9f3a"
            ],
            [
             0.8888888888888888,
             "#fdca26"
            ],
            [
             1,
             "#f0f921"
            ]
           ],
           "sequentialminus": [
            [
             0,
             "#0d0887"
            ],
            [
             0.1111111111111111,
             "#46039f"
            ],
            [
             0.2222222222222222,
             "#7201a8"
            ],
            [
             0.3333333333333333,
             "#9c179e"
            ],
            [
             0.4444444444444444,
             "#bd3786"
            ],
            [
             0.5555555555555556,
             "#d8576b"
            ],
            [
             0.6666666666666666,
             "#ed7953"
            ],
            [
             0.7777777777777778,
             "#fb9f3a"
            ],
            [
             0.8888888888888888,
             "#fdca26"
            ],
            [
             1,
             "#f0f921"
            ]
           ]
          },
          "colorway": [
           "#636efa",
           "#EF553B",
           "#00cc96",
           "#ab63fa",
           "#FFA15A",
           "#19d3f3",
           "#FF6692",
           "#B6E880",
           "#FF97FF",
           "#FECB52"
          ],
          "font": {
           "color": "#2a3f5f"
          },
          "geo": {
           "bgcolor": "white",
           "lakecolor": "white",
           "landcolor": "#E5ECF6",
           "showlakes": true,
           "showland": true,
           "subunitcolor": "white"
          },
          "hoverlabel": {
           "align": "left"
          },
          "hovermode": "closest",
          "mapbox": {
           "style": "light"
          },
          "paper_bgcolor": "white",
          "plot_bgcolor": "#E5ECF6",
          "polar": {
           "angularaxis": {
            "gridcolor": "white",
            "linecolor": "white",
            "ticks": ""
           },
           "bgcolor": "#E5ECF6",
           "radialaxis": {
            "gridcolor": "white",
            "linecolor": "white",
            "ticks": ""
           }
          },
          "scene": {
           "xaxis": {
            "backgroundcolor": "#E5ECF6",
            "gridcolor": "white",
            "gridwidth": 2,
            "linecolor": "white",
            "showbackground": true,
            "ticks": "",
            "zerolinecolor": "white"
           },
           "yaxis": {
            "backgroundcolor": "#E5ECF6",
            "gridcolor": "white",
            "gridwidth": 2,
            "linecolor": "white",
            "showbackground": true,
            "ticks": "",
            "zerolinecolor": "white"
           },
           "zaxis": {
            "backgroundcolor": "#E5ECF6",
            "gridcolor": "white",
            "gridwidth": 2,
            "linecolor": "white",
            "showbackground": true,
            "ticks": "",
            "zerolinecolor": "white"
           }
          },
          "shapedefaults": {
           "line": {
            "color": "#2a3f5f"
           }
          },
          "ternary": {
           "aaxis": {
            "gridcolor": "white",
            "linecolor": "white",
            "ticks": ""
           },
           "baxis": {
            "gridcolor": "white",
            "linecolor": "white",
            "ticks": ""
           },
           "bgcolor": "#E5ECF6",
           "caxis": {
            "gridcolor": "white",
            "linecolor": "white",
            "ticks": ""
           }
          },
          "title": {
           "x": 0.05
          },
          "xaxis": {
           "automargin": true,
           "gridcolor": "white",
           "linecolor": "white",
           "ticks": "",
           "title": {
            "standoff": 15
           },
           "zerolinecolor": "white",
           "zerolinewidth": 2
          },
          "yaxis": {
           "automargin": true,
           "gridcolor": "white",
           "linecolor": "white",
           "ticks": "",
           "title": {
            "standoff": 15
           },
           "zerolinecolor": "white",
           "zerolinewidth": 2
          }
         }
        },
        "title": {
         "text": "CLOUDLAB:Percent Evictions(pyfft)"
        },
        "xaxis": {
         "anchor": "y",
         "domain": [
          0,
          1
         ],
         "title": {
          "text": "Ratio"
         }
        },
        "yaxis": {
         "anchor": "x",
         "domain": [
          0,
          1
         ],
         "title": {
          "text": "Eviction time (Percent in total)"
         }
        }
       }
      },
      "text/html": [
       "<div>                            <div id=\"b7de2930-ac2f-47ba-a92c-7d79b2940f79\" class=\"plotly-graph-div\" style=\"height:525px; width:100%;\"></div>            <script type=\"text/javascript\">                require([\"plotly\"], function(Plotly) {                    window.PLOTLYENV=window.PLOTLYENV || {};                                    if (document.getElementById(\"b7de2930-ac2f-47ba-a92c-7d79b2940f79\")) {                    Plotly.newPlot(                        \"b7de2930-ac2f-47ba-a92c-7d79b2940f79\",                        [{\"hovertemplate\":\"variable=Eviction Time<br>Experiment Name=tape_prefetching_asyncwrites<br>RATIO=%{x}<br>value=%{y}<extra></extra>\",\"legendgroup\":\"Eviction Time\",\"line\":{\"color\":\"#636efa\",\"dash\":\"solid\"},\"marker\":{\"symbol\":\"circle\"},\"mode\":\"lines\",\"name\":\"Eviction Time\",\"orientation\":\"v\",\"showlegend\":true,\"type\":\"scatter\",\"x\":[20,30,40,50,60,70,80,90],\"xaxis\":\"x\",\"y\":[4.671875515251442,5.493733681462141,9.898226395409493,6.545181574239714,6.711954597048806,4.572694293478261,2.683453416149068,1.6468219395866452],\"yaxis\":\"y\"},{\"hovertemplate\":\"variable=CUTOFF<br>Experiment Name=tape_prefetching_asyncwrites<br>RATIO=%{x}<br>value=%{y}<extra></extra>\",\"legendgroup\":\"CUTOFF\",\"line\":{\"color\":\"#EF553B\",\"dash\":\"solid\"},\"marker\":{\"symbol\":\"circle\"},\"mode\":\"lines\",\"name\":\"CUTOFF\",\"orientation\":\"v\",\"showlegend\":true,\"type\":\"scatter\",\"x\":[20,30,40,50,60,70,80,90],\"xaxis\":\"x\",\"y\":[5.0,5.0,5.0,5.0,5.0,5.0,5.0,5.0],\"yaxis\":\"y\"}],                        {\"legend\":{\"title\":{\"text\":\"variable\"},\"tracegroupgap\":0},\"template\":{\"data\":{\"bar\":[{\"error_x\":{\"color\":\"#2a3f5f\"},\"error_y\":{\"color\":\"#2a3f5f\"},\"marker\":{\"line\":{\"color\":\"#E5ECF6\",\"width\":0.5},\"pattern\":{\"fillmode\":\"overlay\",\"size\":10,\"solidity\":0.2}},\"type\":\"bar\"}],\"barpolar\":[{\"marker\":{\"line\":{\"color\":\"#E5ECF6\",\"width\":0.5},\"pattern\":{\"fillmode\":\"overlay\",\"size\":10,\"solidity\":0.2}},\"type\":\"barpolar\"}],\"carpet\":[{\"aaxis\":{\"endlinecolor\":\"#2a3f5f\",\"gridcolor\":\"white\",\"linecolor\":\"white\",\"minorgridcolor\":\"white\",\"startlinecolor\":\"#2a3f5f\"},\"baxis\":{\"endlinecolor\":\"#2a3f5f\",\"gridcolor\":\"white\",\"linecolor\":\"white\",\"minorgridcolor\":\"white\",\"startlinecolor\":\"#2a3f5f\"},\"type\":\"carpet\"}],\"choropleth\":[{\"colorbar\":{\"outlinewidth\":0,\"ticks\":\"\"},\"type\":\"choropleth\"}],\"contour\":[{\"colorbar\":{\"outlinewidth\":0,\"ticks\":\"\"},\"colorscale\":[[0.0,\"#0d0887\"],[0.1111111111111111,\"#46039f\"],[0.2222222222222222,\"#7201a8\"],[0.3333333333333333,\"#9c179e\"],[0.4444444444444444,\"#bd3786\"],[0.5555555555555556,\"#d8576b\"],[0.6666666666666666,\"#ed7953\"],[0.7777777777777778,\"#fb9f3a\"],[0.8888888888888888,\"#fdca26\"],[1.0,\"#f0f921\"]],\"type\":\"contour\"}],\"contourcarpet\":[{\"colorbar\":{\"outlinewidth\":0,\"ticks\":\"\"},\"type\":\"contourcarpet\"}],\"heatmap\":[{\"colorbar\":{\"outlinewidth\":0,\"ticks\":\"\"},\"colorscale\":[[0.0,\"#0d0887\"],[0.1111111111111111,\"#46039f\"],[0.2222222222222222,\"#7201a8\"],[0.3333333333333333,\"#9c179e\"],[0.4444444444444444,\"#bd3786\"],[0.5555555555555556,\"#d8576b\"],[0.6666666666666666,\"#ed7953\"],[0.7777777777777778,\"#fb9f3a\"],[0.8888888888888888,\"#fdca26\"],[1.0,\"#f0f921\"]],\"type\":\"heatmap\"}],\"heatmapgl\":[{\"colorbar\":{\"outlinewidth\":0,\"ticks\":\"\"},\"colorscale\":[[0.0,\"#0d0887\"],[0.1111111111111111,\"#46039f\"],[0.2222222222222222,\"#7201a8\"],[0.3333333333333333,\"#9c179e\"],[0.4444444444444444,\"#bd3786\"],[0.5555555555555556,\"#d8576b\"],[0.6666666666666666,\"#ed7953\"],[0.7777777777777778,\"#fb9f3a\"],[0.8888888888888888,\"#fdca26\"],[1.0,\"#f0f921\"]],\"type\":\"heatmapgl\"}],\"histogram\":[{\"marker\":{\"pattern\":{\"fillmode\":\"overlay\",\"size\":10,\"solidity\":0.2}},\"type\":\"histogram\"}],\"histogram2d\":[{\"colorbar\":{\"outlinewidth\":0,\"ticks\":\"\"},\"colorscale\":[[0.0,\"#0d0887\"],[0.1111111111111111,\"#46039f\"],[0.2222222222222222,\"#7201a8\"],[0.3333333333333333,\"#9c179e\"],[0.4444444444444444,\"#bd3786\"],[0.5555555555555556,\"#d8576b\"],[0.6666666666666666,\"#ed7953\"],[0.7777777777777778,\"#fb9f3a\"],[0.8888888888888888,\"#fdca26\"],[1.0,\"#f0f921\"]],\"type\":\"histogram2d\"}],\"histogram2dcontour\":[{\"colorbar\":{\"outlinewidth\":0,\"ticks\":\"\"},\"colorscale\":[[0.0,\"#0d0887\"],[0.1111111111111111,\"#46039f\"],[0.2222222222222222,\"#7201a8\"],[0.3333333333333333,\"#9c179e\"],[0.4444444444444444,\"#bd3786\"],[0.5555555555555556,\"#d8576b\"],[0.6666666666666666,\"#ed7953\"],[0.7777777777777778,\"#fb9f3a\"],[0.8888888888888888,\"#fdca26\"],[1.0,\"#f0f921\"]],\"type\":\"histogram2dcontour\"}],\"mesh3d\":[{\"colorbar\":{\"outlinewidth\":0,\"ticks\":\"\"},\"type\":\"mesh3d\"}],\"parcoords\":[{\"line\":{\"colorbar\":{\"outlinewidth\":0,\"ticks\":\"\"}},\"type\":\"parcoords\"}],\"pie\":[{\"automargin\":true,\"type\":\"pie\"}],\"scatter\":[{\"marker\":{\"colorbar\":{\"outlinewidth\":0,\"ticks\":\"\"}},\"type\":\"scatter\"}],\"scatter3d\":[{\"line\":{\"colorbar\":{\"outlinewidth\":0,\"ticks\":\"\"}},\"marker\":{\"colorbar\":{\"outlinewidth\":0,\"ticks\":\"\"}},\"type\":\"scatter3d\"}],\"scattercarpet\":[{\"marker\":{\"colorbar\":{\"outlinewidth\":0,\"ticks\":\"\"}},\"type\":\"scattercarpet\"}],\"scattergeo\":[{\"marker\":{\"colorbar\":{\"outlinewidth\":0,\"ticks\":\"\"}},\"type\":\"scattergeo\"}],\"scattergl\":[{\"marker\":{\"colorbar\":{\"outlinewidth\":0,\"ticks\":\"\"}},\"type\":\"scattergl\"}],\"scattermapbox\":[{\"marker\":{\"colorbar\":{\"outlinewidth\":0,\"ticks\":\"\"}},\"type\":\"scattermapbox\"}],\"scatterpolar\":[{\"marker\":{\"colorbar\":{\"outlinewidth\":0,\"ticks\":\"\"}},\"type\":\"scatterpolar\"}],\"scatterpolargl\":[{\"marker\":{\"colorbar\":{\"outlinewidth\":0,\"ticks\":\"\"}},\"type\":\"scatterpolargl\"}],\"scatterternary\":[{\"marker\":{\"colorbar\":{\"outlinewidth\":0,\"ticks\":\"\"}},\"type\":\"scatterternary\"}],\"surface\":[{\"colorbar\":{\"outlinewidth\":0,\"ticks\":\"\"},\"colorscale\":[[0.0,\"#0d0887\"],[0.1111111111111111,\"#46039f\"],[0.2222222222222222,\"#7201a8\"],[0.3333333333333333,\"#9c179e\"],[0.4444444444444444,\"#bd3786\"],[0.5555555555555556,\"#d8576b\"],[0.6666666666666666,\"#ed7953\"],[0.7777777777777778,\"#fb9f3a\"],[0.8888888888888888,\"#fdca26\"],[1.0,\"#f0f921\"]],\"type\":\"surface\"}],\"table\":[{\"cells\":{\"fill\":{\"color\":\"#EBF0F8\"},\"line\":{\"color\":\"white\"}},\"header\":{\"fill\":{\"color\":\"#C8D4E3\"},\"line\":{\"color\":\"white\"}},\"type\":\"table\"}]},\"layout\":{\"annotationdefaults\":{\"arrowcolor\":\"#2a3f5f\",\"arrowhead\":0,\"arrowwidth\":1},\"autotypenumbers\":\"strict\",\"coloraxis\":{\"colorbar\":{\"outlinewidth\":0,\"ticks\":\"\"}},\"colorscale\":{\"diverging\":[[0,\"#8e0152\"],[0.1,\"#c51b7d\"],[0.2,\"#de77ae\"],[0.3,\"#f1b6da\"],[0.4,\"#fde0ef\"],[0.5,\"#f7f7f7\"],[0.6,\"#e6f5d0\"],[0.7,\"#b8e186\"],[0.8,\"#7fbc41\"],[0.9,\"#4d9221\"],[1,\"#276419\"]],\"sequential\":[[0.0,\"#0d0887\"],[0.1111111111111111,\"#46039f\"],[0.2222222222222222,\"#7201a8\"],[0.3333333333333333,\"#9c179e\"],[0.4444444444444444,\"#bd3786\"],[0.5555555555555556,\"#d8576b\"],[0.6666666666666666,\"#ed7953\"],[0.7777777777777778,\"#fb9f3a\"],[0.8888888888888888,\"#fdca26\"],[1.0,\"#f0f921\"]],\"sequentialminus\":[[0.0,\"#0d0887\"],[0.1111111111111111,\"#46039f\"],[0.2222222222222222,\"#7201a8\"],[0.3333333333333333,\"#9c179e\"],[0.4444444444444444,\"#bd3786\"],[0.5555555555555556,\"#d8576b\"],[0.6666666666666666,\"#ed7953\"],[0.7777777777777778,\"#fb9f3a\"],[0.8888888888888888,\"#fdca26\"],[1.0,\"#f0f921\"]]},\"colorway\":[\"#636efa\",\"#EF553B\",\"#00cc96\",\"#ab63fa\",\"#FFA15A\",\"#19d3f3\",\"#FF6692\",\"#B6E880\",\"#FF97FF\",\"#FECB52\"],\"font\":{\"color\":\"#2a3f5f\"},\"geo\":{\"bgcolor\":\"white\",\"lakecolor\":\"white\",\"landcolor\":\"#E5ECF6\",\"showlakes\":true,\"showland\":true,\"subunitcolor\":\"white\"},\"hoverlabel\":{\"align\":\"left\"},\"hovermode\":\"closest\",\"mapbox\":{\"style\":\"light\"},\"paper_bgcolor\":\"white\",\"plot_bgcolor\":\"#E5ECF6\",\"polar\":{\"angularaxis\":{\"gridcolor\":\"white\",\"linecolor\":\"white\",\"ticks\":\"\"},\"bgcolor\":\"#E5ECF6\",\"radialaxis\":{\"gridcolor\":\"white\",\"linecolor\":\"white\",\"ticks\":\"\"}},\"scene\":{\"xaxis\":{\"backgroundcolor\":\"#E5ECF6\",\"gridcolor\":\"white\",\"gridwidth\":2,\"linecolor\":\"white\",\"showbackground\":true,\"ticks\":\"\",\"zerolinecolor\":\"white\"},\"yaxis\":{\"backgroundcolor\":\"#E5ECF6\",\"gridcolor\":\"white\",\"gridwidth\":2,\"linecolor\":\"white\",\"showbackground\":true,\"ticks\":\"\",\"zerolinecolor\":\"white\"},\"zaxis\":{\"backgroundcolor\":\"#E5ECF6\",\"gridcolor\":\"white\",\"gridwidth\":2,\"linecolor\":\"white\",\"showbackground\":true,\"ticks\":\"\",\"zerolinecolor\":\"white\"}},\"shapedefaults\":{\"line\":{\"color\":\"#2a3f5f\"}},\"ternary\":{\"aaxis\":{\"gridcolor\":\"white\",\"linecolor\":\"white\",\"ticks\":\"\"},\"baxis\":{\"gridcolor\":\"white\",\"linecolor\":\"white\",\"ticks\":\"\"},\"bgcolor\":\"#E5ECF6\",\"caxis\":{\"gridcolor\":\"white\",\"linecolor\":\"white\",\"ticks\":\"\"}},\"title\":{\"x\":0.05},\"xaxis\":{\"automargin\":true,\"gridcolor\":\"white\",\"linecolor\":\"white\",\"ticks\":\"\",\"title\":{\"standoff\":15},\"zerolinecolor\":\"white\",\"zerolinewidth\":2},\"yaxis\":{\"automargin\":true,\"gridcolor\":\"white\",\"linecolor\":\"white\",\"ticks\":\"\",\"title\":{\"standoff\":15},\"zerolinecolor\":\"white\",\"zerolinewidth\":2}}},\"title\":{\"text\":\"CLOUDLAB:Percent Evictions(pyfft)\"},\"xaxis\":{\"anchor\":\"y\",\"domain\":[0.0,1.0],\"title\":{\"text\":\"Ratio\"}},\"yaxis\":{\"anchor\":\"x\",\"domain\":[0.0,1.0],\"title\":{\"text\":\"Eviction time (Percent in total)\"}}},                        {\"responsive\": true}                    ).then(function(){\n",
       "                            \n",
       "var gd = document.getElementById('b7de2930-ac2f-47ba-a92c-7d79b2940f79');\n",
       "var x = new MutationObserver(function (mutations, observer) {{\n",
       "        var display = window.getComputedStyle(gd).display;\n",
       "        if (!display || display === 'none') {{\n",
       "            console.log([gd, 'removed!']);\n",
       "            Plotly.purge(gd);\n",
       "            observer.disconnect();\n",
       "        }}\n",
       "}});\n",
       "\n",
       "// Listen for the removal of the full notebook cells\n",
       "var notebookContainer = gd.closest('#notebook-container');\n",
       "if (notebookContainer) {{\n",
       "    x.observe(notebookContainer, {childList: true});\n",
       "}}\n",
       "\n",
       "// Listen for the clearing of the current output cell\n",
       "var outputEl = gd.closest('.output');\n",
       "if (outputEl) {{\n",
       "    x.observe(outputEl, {childList: true});\n",
       "}}\n",
       "\n",
       "                        })                };                });            </script>        </div>"
      ]
     },
     "metadata": {},
     "output_type": "display_data"
    }
   ],
   "source": [
    "from experiment_helpers import get_eviction_to_total\n",
    "\n",
    "for workload in WORKLOADS:\n",
    "    fig = get_eviction_to_total(data[workload], \"%s\" % workload)\n",
    "#     fig.update_layout(yaxis_range=[0,15])\n",
    "    plot(fig)"
   ]
  },
  {
   "cell_type": "code",
   "execution_count": 771,
   "id": "5b719bbe",
   "metadata": {
    "scrolled": true
   },
   "outputs": [
    {
     "data": {
      "application/vnd.plotly.v1+json": {
       "config": {
        "plotlyServerURL": "https://plotly.com"
       },
       "data": [
        {
         "hovertemplate": "variable=User Time<br>Experiment Name=tape_prefetching_asyncwrites<br>RATIO=%{x}<br>value=%{y}<extra></extra>",
         "legendgroup": "User Time",
         "line": {
          "color": "blue"
         },
         "marker": {
          "symbol": "circle"
         },
         "mode": "lines",
         "name": "User Time",
         "orientation": "v",
         "showlegend": true,
         "stackgroup": "1",
         "type": "scatter",
         "x": [
          20,
          30,
          40,
          50,
          60,
          70,
          80,
          90
         ],
         "xaxis": "x",
         "y": [
          5.02,
          5.06,
          4.91,
          4.73,
          4.58,
          4.39,
          4.25,
          4.33
         ],
         "yaxis": "y"
        },
        {
         "hovertemplate": "variable=Eviction Time<br>Experiment Name=tape_prefetching_asyncwrites<br>RATIO=%{x}<br>value=%{y}<extra></extra>",
         "legendgroup": "Eviction Time",
         "line": {
          "color": "orangered"
         },
         "marker": {
          "symbol": "circle"
         },
         "mode": "lines",
         "name": "Eviction Time",
         "orientation": "v",
         "showlegend": true,
         "stackgroup": "1",
         "type": "scatter",
         "x": [
          20,
          30,
          40,
          50,
          60,
          70,
          80,
          90
         ],
         "xaxis": "x",
         "y": [
          1.133397,
          1.26246,
          1.89749,
          0.7317513,
          0.5913231999999999,
          0.33655029999999997,
          0.1728144,
          0.1035851
         ],
         "yaxis": "y"
        },
        {
         "hovertemplate": "variable=Swapin I/O time<br>Experiment Name=tape_prefetching_asyncwrites<br>RATIO=%{x}<br>value=%{y}<extra></extra>",
         "legendgroup": "Swapin I/O time",
         "line": {
          "color": "#00cc96"
         },
         "marker": {
          "symbol": "circle"
         },
         "mode": "lines",
         "name": "Swapin I/O time",
         "orientation": "v",
         "showlegend": true,
         "stackgroup": "1",
         "type": "scatter",
         "x": [
          20,
          30,
          40,
          50,
          60,
          70,
          80,
          90
         ],
         "xaxis": "x",
         "y": [
          1.809184342,
          2.36112852,
          1.542344521,
          1.450681216,
          0.701534794,
          0.327991816,
          0.021480036999999997,
          0.021350459999999998
         ],
         "yaxis": "y"
        },
        {
         "hovertemplate": "variable=Delayed hit I/O time<br>Experiment Name=tape_prefetching_asyncwrites<br>RATIO=%{x}<br>value=%{y}<extra></extra>",
         "legendgroup": "Delayed hit I/O time",
         "line": {
          "color": "red"
         },
         "marker": {
          "symbol": "circle"
         },
         "mode": "lines",
         "name": "Delayed hit I/O time",
         "orientation": "v",
         "showlegend": true,
         "stackgroup": "1",
         "type": "scatter",
         "x": [
          20,
          30,
          40,
          50,
          60,
          70,
          80,
          90
         ],
         "xaxis": "x",
         "y": [
          0.017981390999999996,
          0.020301214,
          0.016347572,
          0.014038472000000001,
          0.007435879,
          0.004559468,
          0.00011275200000000001,
          0.00010403
         ],
         "yaxis": "y"
        },
        {
         "hovertemplate": "variable=3PO PF time<br>Experiment Name=tape_prefetching_asyncwrites<br>RATIO=%{x}<br>value=%{y}<extra></extra>",
         "legendgroup": "3PO PF time",
         "line": {
          "color": "purple"
         },
         "marker": {
          "symbol": "circle"
         },
         "mode": "lines",
         "name": "3PO PF time",
         "orientation": "v",
         "showlegend": true,
         "stackgroup": "1",
         "type": "scatter",
         "x": [
          20,
          30,
          40,
          50,
          60,
          70,
          80,
          90
         ],
         "xaxis": "x",
         "y": [
          11.052576891000001,
          8.987620882,
          5.752106051,
          1.568848443,
          0.7271131700000001,
          0.40514432699999997,
          0.270575463,
          0.25913115400000003
         ],
         "yaxis": "y"
        },
        {
         "hovertemplate": "variable=Other PF time<br>Experiment Name=tape_prefetching_asyncwrites<br>RATIO=%{x}<br>value=%{y}<extra></extra>",
         "legendgroup": "Other PF time",
         "line": {
          "color": "brown"
         },
         "marker": {
          "symbol": "circle"
         },
         "mode": "lines",
         "name": "Other PF time",
         "orientation": "v",
         "showlegend": true,
         "stackgroup": "1",
         "type": "scatter",
         "x": [
          20,
          30,
          40,
          50,
          60,
          70,
          80,
          90
         ],
         "xaxis": "x",
         "y": [
          3.594579181999998,
          3.6375148670000006,
          3.352162301,
          1.9275212130000003,
          1.518158327,
          1.2746793009999997,
          1.111738626,
          1.082680869
         ],
         "yaxis": "y"
        },
        {
         "hovertemplate": "variable=Other<br>Experiment Name=tape_prefetching_asyncwrites<br>RATIO=%{x}<br>value=%{y}<extra></extra>",
         "legendgroup": "Other",
         "line": {
          "color": "hotpink"
         },
         "marker": {
          "symbol": "circle"
         },
         "mode": "lines",
         "name": "Other",
         "orientation": "v",
         "showlegend": true,
         "stackgroup": "1",
         "type": "scatter",
         "x": [
          20,
          30,
          40,
          50,
          60,
          70,
          80,
          90
         ],
         "xaxis": "x",
         "y": [
          1.6322811940000002,
          1.650974517000001,
          1.6995495549999997,
          0.7571593559999997,
          0.6844346299999999,
          0.6210747880000002,
          0.6132787220000001,
          0.49314838699999985
         ],
         "yaxis": "y"
        }
       ],
       "layout": {
        "legend": {
         "title": {
          "text": "variable"
         },
         "tracegroupgap": 0
        },
        "template": {
         "data": {
          "bar": [
           {
            "error_x": {
             "color": "#2a3f5f"
            },
            "error_y": {
             "color": "#2a3f5f"
            },
            "marker": {
             "line": {
              "color": "#E5ECF6",
              "width": 0.5
             },
             "pattern": {
              "fillmode": "overlay",
              "size": 10,
              "solidity": 0.2
             }
            },
            "type": "bar"
           }
          ],
          "barpolar": [
           {
            "marker": {
             "line": {
              "color": "#E5ECF6",
              "width": 0.5
             },
             "pattern": {
              "fillmode": "overlay",
              "size": 10,
              "solidity": 0.2
             }
            },
            "type": "barpolar"
           }
          ],
          "carpet": [
           {
            "aaxis": {
             "endlinecolor": "#2a3f5f",
             "gridcolor": "white",
             "linecolor": "white",
             "minorgridcolor": "white",
             "startlinecolor": "#2a3f5f"
            },
            "baxis": {
             "endlinecolor": "#2a3f5f",
             "gridcolor": "white",
             "linecolor": "white",
             "minorgridcolor": "white",
             "startlinecolor": "#2a3f5f"
            },
            "type": "carpet"
           }
          ],
          "choropleth": [
           {
            "colorbar": {
             "outlinewidth": 0,
             "ticks": ""
            },
            "type": "choropleth"
           }
          ],
          "contour": [
           {
            "colorbar": {
             "outlinewidth": 0,
             "ticks": ""
            },
            "colorscale": [
             [
              0,
              "#0d0887"
             ],
             [
              0.1111111111111111,
              "#46039f"
             ],
             [
              0.2222222222222222,
              "#7201a8"
             ],
             [
              0.3333333333333333,
              "#9c179e"
             ],
             [
              0.4444444444444444,
              "#bd3786"
             ],
             [
              0.5555555555555556,
              "#d8576b"
             ],
             [
              0.6666666666666666,
              "#ed7953"
             ],
             [
              0.7777777777777778,
              "#fb9f3a"
             ],
             [
              0.8888888888888888,
              "#fdca26"
             ],
             [
              1,
              "#f0f921"
             ]
            ],
            "type": "contour"
           }
          ],
          "contourcarpet": [
           {
            "colorbar": {
             "outlinewidth": 0,
             "ticks": ""
            },
            "type": "contourcarpet"
           }
          ],
          "heatmap": [
           {
            "colorbar": {
             "outlinewidth": 0,
             "ticks": ""
            },
            "colorscale": [
             [
              0,
              "#0d0887"
             ],
             [
              0.1111111111111111,
              "#46039f"
             ],
             [
              0.2222222222222222,
              "#7201a8"
             ],
             [
              0.3333333333333333,
              "#9c179e"
             ],
             [
              0.4444444444444444,
              "#bd3786"
             ],
             [
              0.5555555555555556,
              "#d8576b"
             ],
             [
              0.6666666666666666,
              "#ed7953"
             ],
             [
              0.7777777777777778,
              "#fb9f3a"
             ],
             [
              0.8888888888888888,
              "#fdca26"
             ],
             [
              1,
              "#f0f921"
             ]
            ],
            "type": "heatmap"
           }
          ],
          "heatmapgl": [
           {
            "colorbar": {
             "outlinewidth": 0,
             "ticks": ""
            },
            "colorscale": [
             [
              0,
              "#0d0887"
             ],
             [
              0.1111111111111111,
              "#46039f"
             ],
             [
              0.2222222222222222,
              "#7201a8"
             ],
             [
              0.3333333333333333,
              "#9c179e"
             ],
             [
              0.4444444444444444,
              "#bd3786"
             ],
             [
              0.5555555555555556,
              "#d8576b"
             ],
             [
              0.6666666666666666,
              "#ed7953"
             ],
             [
              0.7777777777777778,
              "#fb9f3a"
             ],
             [
              0.8888888888888888,
              "#fdca26"
             ],
             [
              1,
              "#f0f921"
             ]
            ],
            "type": "heatmapgl"
           }
          ],
          "histogram": [
           {
            "marker": {
             "pattern": {
              "fillmode": "overlay",
              "size": 10,
              "solidity": 0.2
             }
            },
            "type": "histogram"
           }
          ],
          "histogram2d": [
           {
            "colorbar": {
             "outlinewidth": 0,
             "ticks": ""
            },
            "colorscale": [
             [
              0,
              "#0d0887"
             ],
             [
              0.1111111111111111,
              "#46039f"
             ],
             [
              0.2222222222222222,
              "#7201a8"
             ],
             [
              0.3333333333333333,
              "#9c179e"
             ],
             [
              0.4444444444444444,
              "#bd3786"
             ],
             [
              0.5555555555555556,
              "#d8576b"
             ],
             [
              0.6666666666666666,
              "#ed7953"
             ],
             [
              0.7777777777777778,
              "#fb9f3a"
             ],
             [
              0.8888888888888888,
              "#fdca26"
             ],
             [
              1,
              "#f0f921"
             ]
            ],
            "type": "histogram2d"
           }
          ],
          "histogram2dcontour": [
           {
            "colorbar": {
             "outlinewidth": 0,
             "ticks": ""
            },
            "colorscale": [
             [
              0,
              "#0d0887"
             ],
             [
              0.1111111111111111,
              "#46039f"
             ],
             [
              0.2222222222222222,
              "#7201a8"
             ],
             [
              0.3333333333333333,
              "#9c179e"
             ],
             [
              0.4444444444444444,
              "#bd3786"
             ],
             [
              0.5555555555555556,
              "#d8576b"
             ],
             [
              0.6666666666666666,
              "#ed7953"
             ],
             [
              0.7777777777777778,
              "#fb9f3a"
             ],
             [
              0.8888888888888888,
              "#fdca26"
             ],
             [
              1,
              "#f0f921"
             ]
            ],
            "type": "histogram2dcontour"
           }
          ],
          "mesh3d": [
           {
            "colorbar": {
             "outlinewidth": 0,
             "ticks": ""
            },
            "type": "mesh3d"
           }
          ],
          "parcoords": [
           {
            "line": {
             "colorbar": {
              "outlinewidth": 0,
              "ticks": ""
             }
            },
            "type": "parcoords"
           }
          ],
          "pie": [
           {
            "automargin": true,
            "type": "pie"
           }
          ],
          "scatter": [
           {
            "marker": {
             "colorbar": {
              "outlinewidth": 0,
              "ticks": ""
             }
            },
            "type": "scatter"
           }
          ],
          "scatter3d": [
           {
            "line": {
             "colorbar": {
              "outlinewidth": 0,
              "ticks": ""
             }
            },
            "marker": {
             "colorbar": {
              "outlinewidth": 0,
              "ticks": ""
             }
            },
            "type": "scatter3d"
           }
          ],
          "scattercarpet": [
           {
            "marker": {
             "colorbar": {
              "outlinewidth": 0,
              "ticks": ""
             }
            },
            "type": "scattercarpet"
           }
          ],
          "scattergeo": [
           {
            "marker": {
             "colorbar": {
              "outlinewidth": 0,
              "ticks": ""
             }
            },
            "type": "scattergeo"
           }
          ],
          "scattergl": [
           {
            "marker": {
             "colorbar": {
              "outlinewidth": 0,
              "ticks": ""
             }
            },
            "type": "scattergl"
           }
          ],
          "scattermapbox": [
           {
            "marker": {
             "colorbar": {
              "outlinewidth": 0,
              "ticks": ""
             }
            },
            "type": "scattermapbox"
           }
          ],
          "scatterpolar": [
           {
            "marker": {
             "colorbar": {
              "outlinewidth": 0,
              "ticks": ""
             }
            },
            "type": "scatterpolar"
           }
          ],
          "scatterpolargl": [
           {
            "marker": {
             "colorbar": {
              "outlinewidth": 0,
              "ticks": ""
             }
            },
            "type": "scatterpolargl"
           }
          ],
          "scatterternary": [
           {
            "marker": {
             "colorbar": {
              "outlinewidth": 0,
              "ticks": ""
             }
            },
            "type": "scatterternary"
           }
          ],
          "surface": [
           {
            "colorbar": {
             "outlinewidth": 0,
             "ticks": ""
            },
            "colorscale": [
             [
              0,
              "#0d0887"
             ],
             [
              0.1111111111111111,
              "#46039f"
             ],
             [
              0.2222222222222222,
              "#7201a8"
             ],
             [
              0.3333333333333333,
              "#9c179e"
             ],
             [
              0.4444444444444444,
              "#bd3786"
             ],
             [
              0.5555555555555556,
              "#d8576b"
             ],
             [
              0.6666666666666666,
              "#ed7953"
             ],
             [
              0.7777777777777778,
              "#fb9f3a"
             ],
             [
              0.8888888888888888,
              "#fdca26"
             ],
             [
              1,
              "#f0f921"
             ]
            ],
            "type": "surface"
           }
          ],
          "table": [
           {
            "cells": {
             "fill": {
              "color": "#EBF0F8"
             },
             "line": {
              "color": "white"
             }
            },
            "header": {
             "fill": {
              "color": "#C8D4E3"
             },
             "line": {
              "color": "white"
             }
            },
            "type": "table"
           }
          ]
         },
         "layout": {
          "annotationdefaults": {
           "arrowcolor": "#2a3f5f",
           "arrowhead": 0,
           "arrowwidth": 1
          },
          "autotypenumbers": "strict",
          "coloraxis": {
           "colorbar": {
            "outlinewidth": 0,
            "ticks": ""
           }
          },
          "colorscale": {
           "diverging": [
            [
             0,
             "#8e0152"
            ],
            [
             0.1,
             "#c51b7d"
            ],
            [
             0.2,
             "#de77ae"
            ],
            [
             0.3,
             "#f1b6da"
            ],
            [
             0.4,
             "#fde0ef"
            ],
            [
             0.5,
             "#f7f7f7"
            ],
            [
             0.6,
             "#e6f5d0"
            ],
            [
             0.7,
             "#b8e186"
            ],
            [
             0.8,
             "#7fbc41"
            ],
            [
             0.9,
             "#4d9221"
            ],
            [
             1,
             "#276419"
            ]
           ],
           "sequential": [
            [
             0,
             "#0d0887"
            ],
            [
             0.1111111111111111,
             "#46039f"
            ],
            [
             0.2222222222222222,
             "#7201a8"
            ],
            [
             0.3333333333333333,
             "#9c179e"
            ],
            [
             0.4444444444444444,
             "#bd3786"
            ],
            [
             0.5555555555555556,
             "#d8576b"
            ],
            [
             0.6666666666666666,
             "#ed7953"
            ],
            [
             0.7777777777777778,
             "#fb9f3a"
            ],
            [
             0.8888888888888888,
             "#fdca26"
            ],
            [
             1,
             "#f0f921"
            ]
           ],
           "sequentialminus": [
            [
             0,
             "#0d0887"
            ],
            [
             0.1111111111111111,
             "#46039f"
            ],
            [
             0.2222222222222222,
             "#7201a8"
            ],
            [
             0.3333333333333333,
             "#9c179e"
            ],
            [
             0.4444444444444444,
             "#bd3786"
            ],
            [
             0.5555555555555556,
             "#d8576b"
            ],
            [
             0.6666666666666666,
             "#ed7953"
            ],
            [
             0.7777777777777778,
             "#fb9f3a"
            ],
            [
             0.8888888888888888,
             "#fdca26"
            ],
            [
             1,
             "#f0f921"
            ]
           ]
          },
          "colorway": [
           "#636efa",
           "#EF553B",
           "#00cc96",
           "#ab63fa",
           "#FFA15A",
           "#19d3f3",
           "#FF6692",
           "#B6E880",
           "#FF97FF",
           "#FECB52"
          ],
          "font": {
           "color": "#2a3f5f"
          },
          "geo": {
           "bgcolor": "white",
           "lakecolor": "white",
           "landcolor": "#E5ECF6",
           "showlakes": true,
           "showland": true,
           "subunitcolor": "white"
          },
          "hoverlabel": {
           "align": "left"
          },
          "hovermode": "closest",
          "mapbox": {
           "style": "light"
          },
          "paper_bgcolor": "white",
          "plot_bgcolor": "#E5ECF6",
          "polar": {
           "angularaxis": {
            "gridcolor": "white",
            "linecolor": "white",
            "ticks": ""
           },
           "bgcolor": "#E5ECF6",
           "radialaxis": {
            "gridcolor": "white",
            "linecolor": "white",
            "ticks": ""
           }
          },
          "scene": {
           "xaxis": {
            "backgroundcolor": "#E5ECF6",
            "gridcolor": "white",
            "gridwidth": 2,
            "linecolor": "white",
            "showbackground": true,
            "ticks": "",
            "zerolinecolor": "white"
           },
           "yaxis": {
            "backgroundcolor": "#E5ECF6",
            "gridcolor": "white",
            "gridwidth": 2,
            "linecolor": "white",
            "showbackground": true,
            "ticks": "",
            "zerolinecolor": "white"
           },
           "zaxis": {
            "backgroundcolor": "#E5ECF6",
            "gridcolor": "white",
            "gridwidth": 2,
            "linecolor": "white",
            "showbackground": true,
            "ticks": "",
            "zerolinecolor": "white"
           }
          },
          "shapedefaults": {
           "line": {
            "color": "#2a3f5f"
           }
          },
          "ternary": {
           "aaxis": {
            "gridcolor": "white",
            "linecolor": "white",
            "ticks": ""
           },
           "baxis": {
            "gridcolor": "white",
            "linecolor": "white",
            "ticks": ""
           },
           "bgcolor": "#E5ECF6",
           "caxis": {
            "gridcolor": "white",
            "linecolor": "white",
            "ticks": ""
           }
          },
          "title": {
           "x": 0.05
          },
          "xaxis": {
           "automargin": true,
           "gridcolor": "white",
           "linecolor": "white",
           "ticks": "",
           "title": {
            "standoff": 15
           },
           "zerolinecolor": "white",
           "zerolinewidth": 2
          },
          "yaxis": {
           "automargin": true,
           "gridcolor": "white",
           "linecolor": "white",
           "ticks": "",
           "title": {
            "standoff": 15
           },
           "zerolinecolor": "white",
           "zerolinewidth": 2
          }
         }
        },
        "title": {
         "text": "CLOUDLAB:Components of runtime(pyfft)"
        },
        "xaxis": {
         "anchor": "y",
         "domain": [
          0,
          1
         ],
         "title": {
          "text": "Ratio"
         }
        },
        "yaxis": {
         "anchor": "x",
         "domain": [
          0,
          1
         ],
         "range": [
          0,
          15
         ],
         "title": {
          "text": "Time(seconds)"
         }
        }
       }
      },
      "text/html": [
       "<div>                            <div id=\"34513e3e-bc04-4a81-8227-eb91fa793d33\" class=\"plotly-graph-div\" style=\"height:525px; width:100%;\"></div>            <script type=\"text/javascript\">                require([\"plotly\"], function(Plotly) {                    window.PLOTLYENV=window.PLOTLYENV || {};                                    if (document.getElementById(\"34513e3e-bc04-4a81-8227-eb91fa793d33\")) {                    Plotly.newPlot(                        \"34513e3e-bc04-4a81-8227-eb91fa793d33\",                        [{\"hovertemplate\":\"variable=User Time<br>Experiment Name=tape_prefetching_asyncwrites<br>RATIO=%{x}<br>value=%{y}<extra></extra>\",\"legendgroup\":\"User Time\",\"line\":{\"color\":\"blue\"},\"marker\":{\"symbol\":\"circle\"},\"mode\":\"lines\",\"name\":\"User Time\",\"orientation\":\"v\",\"showlegend\":true,\"stackgroup\":\"1\",\"type\":\"scatter\",\"x\":[20,30,40,50,60,70,80,90],\"xaxis\":\"x\",\"y\":[5.02,5.06,4.91,4.73,4.58,4.39,4.25,4.33],\"yaxis\":\"y\"},{\"hovertemplate\":\"variable=Eviction Time<br>Experiment Name=tape_prefetching_asyncwrites<br>RATIO=%{x}<br>value=%{y}<extra></extra>\",\"legendgroup\":\"Eviction Time\",\"line\":{\"color\":\"orangered\"},\"marker\":{\"symbol\":\"circle\"},\"mode\":\"lines\",\"name\":\"Eviction Time\",\"orientation\":\"v\",\"showlegend\":true,\"stackgroup\":\"1\",\"type\":\"scatter\",\"x\":[20,30,40,50,60,70,80,90],\"xaxis\":\"x\",\"y\":[1.133397,1.26246,1.89749,0.7317513,0.5913231999999999,0.33655029999999997,0.1728144,0.1035851],\"yaxis\":\"y\"},{\"hovertemplate\":\"variable=Swapin I/O time<br>Experiment Name=tape_prefetching_asyncwrites<br>RATIO=%{x}<br>value=%{y}<extra></extra>\",\"legendgroup\":\"Swapin I/O time\",\"line\":{\"color\":\"#00cc96\"},\"marker\":{\"symbol\":\"circle\"},\"mode\":\"lines\",\"name\":\"Swapin I/O time\",\"orientation\":\"v\",\"showlegend\":true,\"stackgroup\":\"1\",\"type\":\"scatter\",\"x\":[20,30,40,50,60,70,80,90],\"xaxis\":\"x\",\"y\":[1.809184342,2.36112852,1.542344521,1.450681216,0.701534794,0.327991816,0.021480036999999997,0.021350459999999998],\"yaxis\":\"y\"},{\"hovertemplate\":\"variable=Delayed hit I/O time<br>Experiment Name=tape_prefetching_asyncwrites<br>RATIO=%{x}<br>value=%{y}<extra></extra>\",\"legendgroup\":\"Delayed hit I/O time\",\"line\":{\"color\":\"red\"},\"marker\":{\"symbol\":\"circle\"},\"mode\":\"lines\",\"name\":\"Delayed hit I/O time\",\"orientation\":\"v\",\"showlegend\":true,\"stackgroup\":\"1\",\"type\":\"scatter\",\"x\":[20,30,40,50,60,70,80,90],\"xaxis\":\"x\",\"y\":[0.017981390999999996,0.020301214,0.016347572,0.014038472000000001,0.007435879,0.004559468,0.00011275200000000001,0.00010403],\"yaxis\":\"y\"},{\"hovertemplate\":\"variable=3PO PF time<br>Experiment Name=tape_prefetching_asyncwrites<br>RATIO=%{x}<br>value=%{y}<extra></extra>\",\"legendgroup\":\"3PO PF time\",\"line\":{\"color\":\"purple\"},\"marker\":{\"symbol\":\"circle\"},\"mode\":\"lines\",\"name\":\"3PO PF time\",\"orientation\":\"v\",\"showlegend\":true,\"stackgroup\":\"1\",\"type\":\"scatter\",\"x\":[20,30,40,50,60,70,80,90],\"xaxis\":\"x\",\"y\":[11.052576891000001,8.987620882,5.752106051,1.568848443,0.7271131700000001,0.40514432699999997,0.270575463,0.25913115400000003],\"yaxis\":\"y\"},{\"hovertemplate\":\"variable=Other PF time<br>Experiment Name=tape_prefetching_asyncwrites<br>RATIO=%{x}<br>value=%{y}<extra></extra>\",\"legendgroup\":\"Other PF time\",\"line\":{\"color\":\"brown\"},\"marker\":{\"symbol\":\"circle\"},\"mode\":\"lines\",\"name\":\"Other PF time\",\"orientation\":\"v\",\"showlegend\":true,\"stackgroup\":\"1\",\"type\":\"scatter\",\"x\":[20,30,40,50,60,70,80,90],\"xaxis\":\"x\",\"y\":[3.594579181999998,3.6375148670000006,3.352162301,1.9275212130000003,1.518158327,1.2746793009999997,1.111738626,1.082680869],\"yaxis\":\"y\"},{\"hovertemplate\":\"variable=Other<br>Experiment Name=tape_prefetching_asyncwrites<br>RATIO=%{x}<br>value=%{y}<extra></extra>\",\"legendgroup\":\"Other\",\"line\":{\"color\":\"hotpink\"},\"marker\":{\"symbol\":\"circle\"},\"mode\":\"lines\",\"name\":\"Other\",\"orientation\":\"v\",\"showlegend\":true,\"stackgroup\":\"1\",\"type\":\"scatter\",\"x\":[20,30,40,50,60,70,80,90],\"xaxis\":\"x\",\"y\":[1.6322811940000002,1.650974517000001,1.6995495549999997,0.7571593559999997,0.6844346299999999,0.6210747880000002,0.6132787220000001,0.49314838699999985],\"yaxis\":\"y\"}],                        {\"legend\":{\"title\":{\"text\":\"variable\"},\"tracegroupgap\":0},\"template\":{\"data\":{\"bar\":[{\"error_x\":{\"color\":\"#2a3f5f\"},\"error_y\":{\"color\":\"#2a3f5f\"},\"marker\":{\"line\":{\"color\":\"#E5ECF6\",\"width\":0.5},\"pattern\":{\"fillmode\":\"overlay\",\"size\":10,\"solidity\":0.2}},\"type\":\"bar\"}],\"barpolar\":[{\"marker\":{\"line\":{\"color\":\"#E5ECF6\",\"width\":0.5},\"pattern\":{\"fillmode\":\"overlay\",\"size\":10,\"solidity\":0.2}},\"type\":\"barpolar\"}],\"carpet\":[{\"aaxis\":{\"endlinecolor\":\"#2a3f5f\",\"gridcolor\":\"white\",\"linecolor\":\"white\",\"minorgridcolor\":\"white\",\"startlinecolor\":\"#2a3f5f\"},\"baxis\":{\"endlinecolor\":\"#2a3f5f\",\"gridcolor\":\"white\",\"linecolor\":\"white\",\"minorgridcolor\":\"white\",\"startlinecolor\":\"#2a3f5f\"},\"type\":\"carpet\"}],\"choropleth\":[{\"colorbar\":{\"outlinewidth\":0,\"ticks\":\"\"},\"type\":\"choropleth\"}],\"contour\":[{\"colorbar\":{\"outlinewidth\":0,\"ticks\":\"\"},\"colorscale\":[[0.0,\"#0d0887\"],[0.1111111111111111,\"#46039f\"],[0.2222222222222222,\"#7201a8\"],[0.3333333333333333,\"#9c179e\"],[0.4444444444444444,\"#bd3786\"],[0.5555555555555556,\"#d8576b\"],[0.6666666666666666,\"#ed7953\"],[0.7777777777777778,\"#fb9f3a\"],[0.8888888888888888,\"#fdca26\"],[1.0,\"#f0f921\"]],\"type\":\"contour\"}],\"contourcarpet\":[{\"colorbar\":{\"outlinewidth\":0,\"ticks\":\"\"},\"type\":\"contourcarpet\"}],\"heatmap\":[{\"colorbar\":{\"outlinewidth\":0,\"ticks\":\"\"},\"colorscale\":[[0.0,\"#0d0887\"],[0.1111111111111111,\"#46039f\"],[0.2222222222222222,\"#7201a8\"],[0.3333333333333333,\"#9c179e\"],[0.4444444444444444,\"#bd3786\"],[0.5555555555555556,\"#d8576b\"],[0.6666666666666666,\"#ed7953\"],[0.7777777777777778,\"#fb9f3a\"],[0.8888888888888888,\"#fdca26\"],[1.0,\"#f0f921\"]],\"type\":\"heatmap\"}],\"heatmapgl\":[{\"colorbar\":{\"outlinewidth\":0,\"ticks\":\"\"},\"colorscale\":[[0.0,\"#0d0887\"],[0.1111111111111111,\"#46039f\"],[0.2222222222222222,\"#7201a8\"],[0.3333333333333333,\"#9c179e\"],[0.4444444444444444,\"#bd3786\"],[0.5555555555555556,\"#d8576b\"],[0.6666666666666666,\"#ed7953\"],[0.7777777777777778,\"#fb9f3a\"],[0.8888888888888888,\"#fdca26\"],[1.0,\"#f0f921\"]],\"type\":\"heatmapgl\"}],\"histogram\":[{\"marker\":{\"pattern\":{\"fillmode\":\"overlay\",\"size\":10,\"solidity\":0.2}},\"type\":\"histogram\"}],\"histogram2d\":[{\"colorbar\":{\"outlinewidth\":0,\"ticks\":\"\"},\"colorscale\":[[0.0,\"#0d0887\"],[0.1111111111111111,\"#46039f\"],[0.2222222222222222,\"#7201a8\"],[0.3333333333333333,\"#9c179e\"],[0.4444444444444444,\"#bd3786\"],[0.5555555555555556,\"#d8576b\"],[0.6666666666666666,\"#ed7953\"],[0.7777777777777778,\"#fb9f3a\"],[0.8888888888888888,\"#fdca26\"],[1.0,\"#f0f921\"]],\"type\":\"histogram2d\"}],\"histogram2dcontour\":[{\"colorbar\":{\"outlinewidth\":0,\"ticks\":\"\"},\"colorscale\":[[0.0,\"#0d0887\"],[0.1111111111111111,\"#46039f\"],[0.2222222222222222,\"#7201a8\"],[0.3333333333333333,\"#9c179e\"],[0.4444444444444444,\"#bd3786\"],[0.5555555555555556,\"#d8576b\"],[0.6666666666666666,\"#ed7953\"],[0.7777777777777778,\"#fb9f3a\"],[0.8888888888888888,\"#fdca26\"],[1.0,\"#f0f921\"]],\"type\":\"histogram2dcontour\"}],\"mesh3d\":[{\"colorbar\":{\"outlinewidth\":0,\"ticks\":\"\"},\"type\":\"mesh3d\"}],\"parcoords\":[{\"line\":{\"colorbar\":{\"outlinewidth\":0,\"ticks\":\"\"}},\"type\":\"parcoords\"}],\"pie\":[{\"automargin\":true,\"type\":\"pie\"}],\"scatter\":[{\"marker\":{\"colorbar\":{\"outlinewidth\":0,\"ticks\":\"\"}},\"type\":\"scatter\"}],\"scatter3d\":[{\"line\":{\"colorbar\":{\"outlinewidth\":0,\"ticks\":\"\"}},\"marker\":{\"colorbar\":{\"outlinewidth\":0,\"ticks\":\"\"}},\"type\":\"scatter3d\"}],\"scattercarpet\":[{\"marker\":{\"colorbar\":{\"outlinewidth\":0,\"ticks\":\"\"}},\"type\":\"scattercarpet\"}],\"scattergeo\":[{\"marker\":{\"colorbar\":{\"outlinewidth\":0,\"ticks\":\"\"}},\"type\":\"scattergeo\"}],\"scattergl\":[{\"marker\":{\"colorbar\":{\"outlinewidth\":0,\"ticks\":\"\"}},\"type\":\"scattergl\"}],\"scattermapbox\":[{\"marker\":{\"colorbar\":{\"outlinewidth\":0,\"ticks\":\"\"}},\"type\":\"scattermapbox\"}],\"scatterpolar\":[{\"marker\":{\"colorbar\":{\"outlinewidth\":0,\"ticks\":\"\"}},\"type\":\"scatterpolar\"}],\"scatterpolargl\":[{\"marker\":{\"colorbar\":{\"outlinewidth\":0,\"ticks\":\"\"}},\"type\":\"scatterpolargl\"}],\"scatterternary\":[{\"marker\":{\"colorbar\":{\"outlinewidth\":0,\"ticks\":\"\"}},\"type\":\"scatterternary\"}],\"surface\":[{\"colorbar\":{\"outlinewidth\":0,\"ticks\":\"\"},\"colorscale\":[[0.0,\"#0d0887\"],[0.1111111111111111,\"#46039f\"],[0.2222222222222222,\"#7201a8\"],[0.3333333333333333,\"#9c179e\"],[0.4444444444444444,\"#bd3786\"],[0.5555555555555556,\"#d8576b\"],[0.6666666666666666,\"#ed7953\"],[0.7777777777777778,\"#fb9f3a\"],[0.8888888888888888,\"#fdca26\"],[1.0,\"#f0f921\"]],\"type\":\"surface\"}],\"table\":[{\"cells\":{\"fill\":{\"color\":\"#EBF0F8\"},\"line\":{\"color\":\"white\"}},\"header\":{\"fill\":{\"color\":\"#C8D4E3\"},\"line\":{\"color\":\"white\"}},\"type\":\"table\"}]},\"layout\":{\"annotationdefaults\":{\"arrowcolor\":\"#2a3f5f\",\"arrowhead\":0,\"arrowwidth\":1},\"autotypenumbers\":\"strict\",\"coloraxis\":{\"colorbar\":{\"outlinewidth\":0,\"ticks\":\"\"}},\"colorscale\":{\"diverging\":[[0,\"#8e0152\"],[0.1,\"#c51b7d\"],[0.2,\"#de77ae\"],[0.3,\"#f1b6da\"],[0.4,\"#fde0ef\"],[0.5,\"#f7f7f7\"],[0.6,\"#e6f5d0\"],[0.7,\"#b8e186\"],[0.8,\"#7fbc41\"],[0.9,\"#4d9221\"],[1,\"#276419\"]],\"sequential\":[[0.0,\"#0d0887\"],[0.1111111111111111,\"#46039f\"],[0.2222222222222222,\"#7201a8\"],[0.3333333333333333,\"#9c179e\"],[0.4444444444444444,\"#bd3786\"],[0.5555555555555556,\"#d8576b\"],[0.6666666666666666,\"#ed7953\"],[0.7777777777777778,\"#fb9f3a\"],[0.8888888888888888,\"#fdca26\"],[1.0,\"#f0f921\"]],\"sequentialminus\":[[0.0,\"#0d0887\"],[0.1111111111111111,\"#46039f\"],[0.2222222222222222,\"#7201a8\"],[0.3333333333333333,\"#9c179e\"],[0.4444444444444444,\"#bd3786\"],[0.5555555555555556,\"#d8576b\"],[0.6666666666666666,\"#ed7953\"],[0.7777777777777778,\"#fb9f3a\"],[0.8888888888888888,\"#fdca26\"],[1.0,\"#f0f921\"]]},\"colorway\":[\"#636efa\",\"#EF553B\",\"#00cc96\",\"#ab63fa\",\"#FFA15A\",\"#19d3f3\",\"#FF6692\",\"#B6E880\",\"#FF97FF\",\"#FECB52\"],\"font\":{\"color\":\"#2a3f5f\"},\"geo\":{\"bgcolor\":\"white\",\"lakecolor\":\"white\",\"landcolor\":\"#E5ECF6\",\"showlakes\":true,\"showland\":true,\"subunitcolor\":\"white\"},\"hoverlabel\":{\"align\":\"left\"},\"hovermode\":\"closest\",\"mapbox\":{\"style\":\"light\"},\"paper_bgcolor\":\"white\",\"plot_bgcolor\":\"#E5ECF6\",\"polar\":{\"angularaxis\":{\"gridcolor\":\"white\",\"linecolor\":\"white\",\"ticks\":\"\"},\"bgcolor\":\"#E5ECF6\",\"radialaxis\":{\"gridcolor\":\"white\",\"linecolor\":\"white\",\"ticks\":\"\"}},\"scene\":{\"xaxis\":{\"backgroundcolor\":\"#E5ECF6\",\"gridcolor\":\"white\",\"gridwidth\":2,\"linecolor\":\"white\",\"showbackground\":true,\"ticks\":\"\",\"zerolinecolor\":\"white\"},\"yaxis\":{\"backgroundcolor\":\"#E5ECF6\",\"gridcolor\":\"white\",\"gridwidth\":2,\"linecolor\":\"white\",\"showbackground\":true,\"ticks\":\"\",\"zerolinecolor\":\"white\"},\"zaxis\":{\"backgroundcolor\":\"#E5ECF6\",\"gridcolor\":\"white\",\"gridwidth\":2,\"linecolor\":\"white\",\"showbackground\":true,\"ticks\":\"\",\"zerolinecolor\":\"white\"}},\"shapedefaults\":{\"line\":{\"color\":\"#2a3f5f\"}},\"ternary\":{\"aaxis\":{\"gridcolor\":\"white\",\"linecolor\":\"white\",\"ticks\":\"\"},\"baxis\":{\"gridcolor\":\"white\",\"linecolor\":\"white\",\"ticks\":\"\"},\"bgcolor\":\"#E5ECF6\",\"caxis\":{\"gridcolor\":\"white\",\"linecolor\":\"white\",\"ticks\":\"\"}},\"title\":{\"x\":0.05},\"xaxis\":{\"automargin\":true,\"gridcolor\":\"white\",\"linecolor\":\"white\",\"ticks\":\"\",\"title\":{\"standoff\":15},\"zerolinecolor\":\"white\",\"zerolinewidth\":2},\"yaxis\":{\"automargin\":true,\"gridcolor\":\"white\",\"linecolor\":\"white\",\"ticks\":\"\",\"title\":{\"standoff\":15},\"zerolinecolor\":\"white\",\"zerolinewidth\":2}}},\"title\":{\"text\":\"CLOUDLAB:Components of runtime(pyfft)\"},\"xaxis\":{\"anchor\":\"y\",\"domain\":[0.0,1.0],\"title\":{\"text\":\"Ratio\"}},\"yaxis\":{\"anchor\":\"x\",\"domain\":[0.0,1.0],\"range\":[0,15],\"title\":{\"text\":\"Time(seconds)\"}}},                        {\"responsive\": true}                    ).then(function(){\n",
       "                            \n",
       "var gd = document.getElementById('34513e3e-bc04-4a81-8227-eb91fa793d33');\n",
       "var x = new MutationObserver(function (mutations, observer) {{\n",
       "        var display = window.getComputedStyle(gd).display;\n",
       "        if (!display || display === 'none') {{\n",
       "            console.log([gd, 'removed!']);\n",
       "            Plotly.purge(gd);\n",
       "            observer.disconnect();\n",
       "        }}\n",
       "}});\n",
       "\n",
       "// Listen for the removal of the full notebook cells\n",
       "var notebookContainer = gd.closest('#notebook-container');\n",
       "if (notebookContainer) {{\n",
       "    x.observe(notebookContainer, {childList: true});\n",
       "}}\n",
       "\n",
       "// Listen for the clearing of the current output cell\n",
       "var outputEl = gd.closest('.output');\n",
       "if (outputEl) {{\n",
       "    x.observe(outputEl, {childList: true});\n",
       "}}\n",
       "\n",
       "                        })                };                });            </script>        </div>"
      ]
     },
     "metadata": {},
     "output_type": "display_data"
    }
   ],
   "source": [
    "runtime_components = []\n",
    "\n",
    "for workload in WORKLOADS:\n",
    "    fig = get_components_of_runtime(data[workload], \"%s\" % workload)\n",
    "    runtime_components.append(fig)\n",
    "    fig.update_layout(yaxis_range=[0,15])\n",
    "    plot(fig)"
   ]
  },
  {
   "cell_type": "code",
   "execution_count": 605,
   "id": "7b7786d2",
   "metadata": {},
   "outputs": [
    {
     "data": {
      "text/html": [
       "<div>\n",
       "<style scoped>\n",
       "    .dataframe tbody tr th:only-of-type {\n",
       "        vertical-align: middle;\n",
       "    }\n",
       "\n",
       "    .dataframe tbody tr th {\n",
       "        vertical-align: top;\n",
       "    }\n",
       "\n",
       "    .dataframe thead th {\n",
       "        text-align: right;\n",
       "    }\n",
       "</style>\n",
       "<table border=\"1\" class=\"dataframe\">\n",
       "  <thead>\n",
       "    <tr style=\"text-align: right;\">\n",
       "      <th></th>\n",
       "      <th>RATIO</th>\n",
       "      <th>mmult_eigen</th>\n",
       "      <th>mmult_eigen_dot</th>\n",
       "      <th>mmult_eigen_vec</th>\n",
       "      <th>python</th>\n",
       "      <th>sparse_eigen</th>\n",
       "    </tr>\n",
       "  </thead>\n",
       "  <tbody>\n",
       "    <tr>\n",
       "      <th>0</th>\n",
       "      <td>90</td>\n",
       "      <td>NaN</td>\n",
       "      <td>3</td>\n",
       "      <td>3</td>\n",
       "      <td>NaN</td>\n",
       "      <td>NaN</td>\n",
       "    </tr>\n",
       "    <tr>\n",
       "      <th>1</th>\n",
       "      <td>80</td>\n",
       "      <td>NaN</td>\n",
       "      <td>3</td>\n",
       "      <td>3</td>\n",
       "      <td>NaN</td>\n",
       "      <td>NaN</td>\n",
       "    </tr>\n",
       "    <tr>\n",
       "      <th>2</th>\n",
       "      <td>70</td>\n",
       "      <td>7.0</td>\n",
       "      <td>3</td>\n",
       "      <td>3</td>\n",
       "      <td>6.0</td>\n",
       "      <td>7.0</td>\n",
       "    </tr>\n",
       "    <tr>\n",
       "      <th>3</th>\n",
       "      <td>60</td>\n",
       "      <td>6.0</td>\n",
       "      <td>3</td>\n",
       "      <td>3</td>\n",
       "      <td>6.0</td>\n",
       "      <td>6.0</td>\n",
       "    </tr>\n",
       "    <tr>\n",
       "      <th>4</th>\n",
       "      <td>50</td>\n",
       "      <td>6.0</td>\n",
       "      <td>3</td>\n",
       "      <td>3</td>\n",
       "      <td>6.0</td>\n",
       "      <td>6.0</td>\n",
       "    </tr>\n",
       "    <tr>\n",
       "      <th>5</th>\n",
       "      <td>40</td>\n",
       "      <td>4.0</td>\n",
       "      <td>3</td>\n",
       "      <td>3</td>\n",
       "      <td>5.0</td>\n",
       "      <td>5.0</td>\n",
       "    </tr>\n",
       "    <tr>\n",
       "      <th>6</th>\n",
       "      <td>30</td>\n",
       "      <td>4.0</td>\n",
       "      <td>3</td>\n",
       "      <td>4</td>\n",
       "      <td>4.0</td>\n",
       "      <td>4.0</td>\n",
       "    </tr>\n",
       "    <tr>\n",
       "      <th>7</th>\n",
       "      <td>20</td>\n",
       "      <td>4.0</td>\n",
       "      <td>4</td>\n",
       "      <td>4</td>\n",
       "      <td>4.0</td>\n",
       "      <td>4.0</td>\n",
       "    </tr>\n",
       "  </tbody>\n",
       "</table>\n",
       "</div>"
      ],
      "text/plain": [
       "   RATIO  mmult_eigen  mmult_eigen_dot  mmult_eigen_vec  python  sparse_eigen\n",
       "0     90          NaN                3                3     NaN           NaN\n",
       "1     80          NaN                3                3     NaN           NaN\n",
       "2     70          7.0                3                3     6.0           7.0\n",
       "3     60          6.0                3                3     6.0           6.0\n",
       "4     50          6.0                3                3     6.0           6.0\n",
       "5     40          4.0                3                3     5.0           5.0\n",
       "6     30          4.0                3                4     4.0           4.0\n",
       "7     20          4.0                4                4     4.0           4.0"
      ]
     },
     "execution_count": 605,
     "metadata": {},
     "output_type": "execute_result"
    }
   ],
   "source": [
    "app2ev"
   ]
  },
  {
   "cell_type": "code",
   "execution_count": 543,
   "id": "b4ef78a8",
   "metadata": {},
   "outputs": [
    {
     "data": {
      "application/vnd.plotly.v1+json": {
       "config": {
        "plotlyServerURL": "https://plotly.com"
       },
       "data": [
        {
         "hovertemplate": "variable=mmult_eigen_dot<br>RATIO=%{x}<br>value=%{y}<extra></extra>",
         "legendgroup": "mmult_eigen_dot",
         "line": {
          "color": "#636efa",
          "dash": "solid"
         },
         "marker": {
          "symbol": "circle"
         },
         "mode": "lines",
         "name": "mmult_eigen_dot",
         "orientation": "v",
         "showlegend": true,
         "type": "scatter",
         "x": [
          90,
          80,
          70,
          60,
          50,
          40,
          30,
          20
         ],
         "xaxis": "x",
         "y": [
          3,
          3,
          3,
          3,
          3,
          3,
          3,
          4
         ],
         "yaxis": "y"
        },
        {
         "hovertemplate": "variable=mmult_eigen<br>RATIO=%{x}<br>value=%{y}<extra></extra>",
         "legendgroup": "mmult_eigen",
         "line": {
          "color": "#EF553B",
          "dash": "solid"
         },
         "marker": {
          "symbol": "circle"
         },
         "mode": "lines",
         "name": "mmult_eigen",
         "orientation": "v",
         "showlegend": true,
         "type": "scatter",
         "x": [
          90,
          80,
          70,
          60,
          50,
          40,
          30,
          20
         ],
         "xaxis": "x",
         "y": [
          null,
          null,
          7,
          6,
          6,
          4,
          4,
          4
         ],
         "yaxis": "y"
        },
        {
         "hovertemplate": "variable=sparse_eigen<br>RATIO=%{x}<br>value=%{y}<extra></extra>",
         "legendgroup": "sparse_eigen",
         "line": {
          "color": "#00cc96",
          "dash": "solid"
         },
         "marker": {
          "symbol": "circle"
         },
         "mode": "lines",
         "name": "sparse_eigen",
         "orientation": "v",
         "showlegend": true,
         "type": "scatter",
         "x": [
          90,
          80,
          70,
          60,
          50,
          40,
          30,
          20
         ],
         "xaxis": "x",
         "y": [
          null,
          null,
          7,
          6,
          6,
          5,
          4,
          4
         ],
         "yaxis": "y"
        }
       ],
       "layout": {
        "legend": {
         "title": {
          "text": "variable"
         },
         "tracegroupgap": 0
        },
        "template": {
         "data": {
          "bar": [
           {
            "error_x": {
             "color": "#2a3f5f"
            },
            "error_y": {
             "color": "#2a3f5f"
            },
            "marker": {
             "line": {
              "color": "#E5ECF6",
              "width": 0.5
             },
             "pattern": {
              "fillmode": "overlay",
              "size": 10,
              "solidity": 0.2
             }
            },
            "type": "bar"
           }
          ],
          "barpolar": [
           {
            "marker": {
             "line": {
              "color": "#E5ECF6",
              "width": 0.5
             },
             "pattern": {
              "fillmode": "overlay",
              "size": 10,
              "solidity": 0.2
             }
            },
            "type": "barpolar"
           }
          ],
          "carpet": [
           {
            "aaxis": {
             "endlinecolor": "#2a3f5f",
             "gridcolor": "white",
             "linecolor": "white",
             "minorgridcolor": "white",
             "startlinecolor": "#2a3f5f"
            },
            "baxis": {
             "endlinecolor": "#2a3f5f",
             "gridcolor": "white",
             "linecolor": "white",
             "minorgridcolor": "white",
             "startlinecolor": "#2a3f5f"
            },
            "type": "carpet"
           }
          ],
          "choropleth": [
           {
            "colorbar": {
             "outlinewidth": 0,
             "ticks": ""
            },
            "type": "choropleth"
           }
          ],
          "contour": [
           {
            "colorbar": {
             "outlinewidth": 0,
             "ticks": ""
            },
            "colorscale": [
             [
              0,
              "#0d0887"
             ],
             [
              0.1111111111111111,
              "#46039f"
             ],
             [
              0.2222222222222222,
              "#7201a8"
             ],
             [
              0.3333333333333333,
              "#9c179e"
             ],
             [
              0.4444444444444444,
              "#bd3786"
             ],
             [
              0.5555555555555556,
              "#d8576b"
             ],
             [
              0.6666666666666666,
              "#ed7953"
             ],
             [
              0.7777777777777778,
              "#fb9f3a"
             ],
             [
              0.8888888888888888,
              "#fdca26"
             ],
             [
              1,
              "#f0f921"
             ]
            ],
            "type": "contour"
           }
          ],
          "contourcarpet": [
           {
            "colorbar": {
             "outlinewidth": 0,
             "ticks": ""
            },
            "type": "contourcarpet"
           }
          ],
          "heatmap": [
           {
            "colorbar": {
             "outlinewidth": 0,
             "ticks": ""
            },
            "colorscale": [
             [
              0,
              "#0d0887"
             ],
             [
              0.1111111111111111,
              "#46039f"
             ],
             [
              0.2222222222222222,
              "#7201a8"
             ],
             [
              0.3333333333333333,
              "#9c179e"
             ],
             [
              0.4444444444444444,
              "#bd3786"
             ],
             [
              0.5555555555555556,
              "#d8576b"
             ],
             [
              0.6666666666666666,
              "#ed7953"
             ],
             [
              0.7777777777777778,
              "#fb9f3a"
             ],
             [
              0.8888888888888888,
              "#fdca26"
             ],
             [
              1,
              "#f0f921"
             ]
            ],
            "type": "heatmap"
           }
          ],
          "heatmapgl": [
           {
            "colorbar": {
             "outlinewidth": 0,
             "ticks": ""
            },
            "colorscale": [
             [
              0,
              "#0d0887"
             ],
             [
              0.1111111111111111,
              "#46039f"
             ],
             [
              0.2222222222222222,
              "#7201a8"
             ],
             [
              0.3333333333333333,
              "#9c179e"
             ],
             [
              0.4444444444444444,
              "#bd3786"
             ],
             [
              0.5555555555555556,
              "#d8576b"
             ],
             [
              0.6666666666666666,
              "#ed7953"
             ],
             [
              0.7777777777777778,
              "#fb9f3a"
             ],
             [
              0.8888888888888888,
              "#fdca26"
             ],
             [
              1,
              "#f0f921"
             ]
            ],
            "type": "heatmapgl"
           }
          ],
          "histogram": [
           {
            "marker": {
             "pattern": {
              "fillmode": "overlay",
              "size": 10,
              "solidity": 0.2
             }
            },
            "type": "histogram"
           }
          ],
          "histogram2d": [
           {
            "colorbar": {
             "outlinewidth": 0,
             "ticks": ""
            },
            "colorscale": [
             [
              0,
              "#0d0887"
             ],
             [
              0.1111111111111111,
              "#46039f"
             ],
             [
              0.2222222222222222,
              "#7201a8"
             ],
             [
              0.3333333333333333,
              "#9c179e"
             ],
             [
              0.4444444444444444,
              "#bd3786"
             ],
             [
              0.5555555555555556,
              "#d8576b"
             ],
             [
              0.6666666666666666,
              "#ed7953"
             ],
             [
              0.7777777777777778,
              "#fb9f3a"
             ],
             [
              0.8888888888888888,
              "#fdca26"
             ],
             [
              1,
              "#f0f921"
             ]
            ],
            "type": "histogram2d"
           }
          ],
          "histogram2dcontour": [
           {
            "colorbar": {
             "outlinewidth": 0,
             "ticks": ""
            },
            "colorscale": [
             [
              0,
              "#0d0887"
             ],
             [
              0.1111111111111111,
              "#46039f"
             ],
             [
              0.2222222222222222,
              "#7201a8"
             ],
             [
              0.3333333333333333,
              "#9c179e"
             ],
             [
              0.4444444444444444,
              "#bd3786"
             ],
             [
              0.5555555555555556,
              "#d8576b"
             ],
             [
              0.6666666666666666,
              "#ed7953"
             ],
             [
              0.7777777777777778,
              "#fb9f3a"
             ],
             [
              0.8888888888888888,
              "#fdca26"
             ],
             [
              1,
              "#f0f921"
             ]
            ],
            "type": "histogram2dcontour"
           }
          ],
          "mesh3d": [
           {
            "colorbar": {
             "outlinewidth": 0,
             "ticks": ""
            },
            "type": "mesh3d"
           }
          ],
          "parcoords": [
           {
            "line": {
             "colorbar": {
              "outlinewidth": 0,
              "ticks": ""
             }
            },
            "type": "parcoords"
           }
          ],
          "pie": [
           {
            "automargin": true,
            "type": "pie"
           }
          ],
          "scatter": [
           {
            "marker": {
             "colorbar": {
              "outlinewidth": 0,
              "ticks": ""
             }
            },
            "type": "scatter"
           }
          ],
          "scatter3d": [
           {
            "line": {
             "colorbar": {
              "outlinewidth": 0,
              "ticks": ""
             }
            },
            "marker": {
             "colorbar": {
              "outlinewidth": 0,
              "ticks": ""
             }
            },
            "type": "scatter3d"
           }
          ],
          "scattercarpet": [
           {
            "marker": {
             "colorbar": {
              "outlinewidth": 0,
              "ticks": ""
             }
            },
            "type": "scattercarpet"
           }
          ],
          "scattergeo": [
           {
            "marker": {
             "colorbar": {
              "outlinewidth": 0,
              "ticks": ""
             }
            },
            "type": "scattergeo"
           }
          ],
          "scattergl": [
           {
            "marker": {
             "colorbar": {
              "outlinewidth": 0,
              "ticks": ""
             }
            },
            "type": "scattergl"
           }
          ],
          "scattermapbox": [
           {
            "marker": {
             "colorbar": {
              "outlinewidth": 0,
              "ticks": ""
             }
            },
            "type": "scattermapbox"
           }
          ],
          "scatterpolar": [
           {
            "marker": {
             "colorbar": {
              "outlinewidth": 0,
              "ticks": ""
             }
            },
            "type": "scatterpolar"
           }
          ],
          "scatterpolargl": [
           {
            "marker": {
             "colorbar": {
              "outlinewidth": 0,
              "ticks": ""
             }
            },
            "type": "scatterpolargl"
           }
          ],
          "scatterternary": [
           {
            "marker": {
             "colorbar": {
              "outlinewidth": 0,
              "ticks": ""
             }
            },
            "type": "scatterternary"
           }
          ],
          "surface": [
           {
            "colorbar": {
             "outlinewidth": 0,
             "ticks": ""
            },
            "colorscale": [
             [
              0,
              "#0d0887"
             ],
             [
              0.1111111111111111,
              "#46039f"
             ],
             [
              0.2222222222222222,
              "#7201a8"
             ],
             [
              0.3333333333333333,
              "#9c179e"
             ],
             [
              0.4444444444444444,
              "#bd3786"
             ],
             [
              0.5555555555555556,
              "#d8576b"
             ],
             [
              0.6666666666666666,
              "#ed7953"
             ],
             [
              0.7777777777777778,
              "#fb9f3a"
             ],
             [
              0.8888888888888888,
              "#fdca26"
             ],
             [
              1,
              "#f0f921"
             ]
            ],
            "type": "surface"
           }
          ],
          "table": [
           {
            "cells": {
             "fill": {
              "color": "#EBF0F8"
             },
             "line": {
              "color": "white"
             }
            },
            "header": {
             "fill": {
              "color": "#C8D4E3"
             },
             "line": {
              "color": "white"
             }
            },
            "type": "table"
           }
          ]
         },
         "layout": {
          "annotationdefaults": {
           "arrowcolor": "#2a3f5f",
           "arrowhead": 0,
           "arrowwidth": 1
          },
          "autotypenumbers": "strict",
          "coloraxis": {
           "colorbar": {
            "outlinewidth": 0,
            "ticks": ""
           }
          },
          "colorscale": {
           "diverging": [
            [
             0,
             "#8e0152"
            ],
            [
             0.1,
             "#c51b7d"
            ],
            [
             0.2,
             "#de77ae"
            ],
            [
             0.3,
             "#f1b6da"
            ],
            [
             0.4,
             "#fde0ef"
            ],
            [
             0.5,
             "#f7f7f7"
            ],
            [
             0.6,
             "#e6f5d0"
            ],
            [
             0.7,
             "#b8e186"
            ],
            [
             0.8,
             "#7fbc41"
            ],
            [
             0.9,
             "#4d9221"
            ],
            [
             1,
             "#276419"
            ]
           ],
           "sequential": [
            [
             0,
             "#0d0887"
            ],
            [
             0.1111111111111111,
             "#46039f"
            ],
            [
             0.2222222222222222,
             "#7201a8"
            ],
            [
             0.3333333333333333,
             "#9c179e"
            ],
            [
             0.4444444444444444,
             "#bd3786"
            ],
            [
             0.5555555555555556,
             "#d8576b"
            ],
            [
             0.6666666666666666,
             "#ed7953"
            ],
            [
             0.7777777777777778,
             "#fb9f3a"
            ],
            [
             0.8888888888888888,
             "#fdca26"
            ],
            [
             1,
             "#f0f921"
            ]
           ],
           "sequentialminus": [
            [
             0,
             "#0d0887"
            ],
            [
             0.1111111111111111,
             "#46039f"
            ],
            [
             0.2222222222222222,
             "#7201a8"
            ],
            [
             0.3333333333333333,
             "#9c179e"
            ],
            [
             0.4444444444444444,
             "#bd3786"
            ],
            [
             0.5555555555555556,
             "#d8576b"
            ],
            [
             0.6666666666666666,
             "#ed7953"
            ],
            [
             0.7777777777777778,
             "#fb9f3a"
            ],
            [
             0.8888888888888888,
             "#fdca26"
            ],
            [
             1,
             "#f0f921"
            ]
           ]
          },
          "colorway": [
           "#636efa",
           "#EF553B",
           "#00cc96",
           "#ab63fa",
           "#FFA15A",
           "#19d3f3",
           "#FF6692",
           "#B6E880",
           "#FF97FF",
           "#FECB52"
          ],
          "font": {
           "color": "#2a3f5f"
          },
          "geo": {
           "bgcolor": "white",
           "lakecolor": "white",
           "landcolor": "#E5ECF6",
           "showlakes": true,
           "showland": true,
           "subunitcolor": "white"
          },
          "hoverlabel": {
           "align": "left"
          },
          "hovermode": "closest",
          "mapbox": {
           "style": "light"
          },
          "paper_bgcolor": "white",
          "plot_bgcolor": "#E5ECF6",
          "polar": {
           "angularaxis": {
            "gridcolor": "white",
            "linecolor": "white",
            "ticks": ""
           },
           "bgcolor": "#E5ECF6",
           "radialaxis": {
            "gridcolor": "white",
            "linecolor": "white",
            "ticks": ""
           }
          },
          "scene": {
           "xaxis": {
            "backgroundcolor": "#E5ECF6",
            "gridcolor": "white",
            "gridwidth": 2,
            "linecolor": "white",
            "showbackground": true,
            "ticks": "",
            "zerolinecolor": "white"
           },
           "yaxis": {
            "backgroundcolor": "#E5ECF6",
            "gridcolor": "white",
            "gridwidth": 2,
            "linecolor": "white",
            "showbackground": true,
            "ticks": "",
            "zerolinecolor": "white"
           },
           "zaxis": {
            "backgroundcolor": "#E5ECF6",
            "gridcolor": "white",
            "gridwidth": 2,
            "linecolor": "white",
            "showbackground": true,
            "ticks": "",
            "zerolinecolor": "white"
           }
          },
          "shapedefaults": {
           "line": {
            "color": "#2a3f5f"
           }
          },
          "ternary": {
           "aaxis": {
            "gridcolor": "white",
            "linecolor": "white",
            "ticks": ""
           },
           "baxis": {
            "gridcolor": "white",
            "linecolor": "white",
            "ticks": ""
           },
           "bgcolor": "#E5ECF6",
           "caxis": {
            "gridcolor": "white",
            "linecolor": "white",
            "ticks": ""
           }
          },
          "title": {
           "x": 0.05
          },
          "xaxis": {
           "automargin": true,
           "gridcolor": "white",
           "linecolor": "white",
           "ticks": "",
           "title": {
            "standoff": 15
           },
           "zerolinecolor": "white",
           "zerolinewidth": 2
          },
          "yaxis": {
           "automargin": true,
           "gridcolor": "white",
           "linecolor": "white",
           "ticks": "",
           "title": {
            "standoff": 15
           },
           "zerolinecolor": "white",
           "zerolinewidth": 2
          }
         }
        },
        "title": {
         "text": "CLOUDLAB:NIC traffic: mmult_eigen, tape_prefetching_asyncwrites"
        },
        "xaxis": {
         "anchor": "y",
         "domain": [
          0,
          1
         ],
         "title": {
          "text": "Ratio"
         }
        },
        "yaxis": {
         "anchor": "x",
         "domain": [
          0,
          1
         ],
         "title": {
          "text": "App CPUs per 1 eviction cpu"
         }
        }
       }
      },
      "text/html": [
       "<div>                            <div id=\"e96a7ae4-1d30-442e-acde-345fe8354b7b\" class=\"plotly-graph-div\" style=\"height:525px; width:100%;\"></div>            <script type=\"text/javascript\">                require([\"plotly\"], function(Plotly) {                    window.PLOTLYENV=window.PLOTLYENV || {};                                    if (document.getElementById(\"e96a7ae4-1d30-442e-acde-345fe8354b7b\")) {                    Plotly.newPlot(                        \"e96a7ae4-1d30-442e-acde-345fe8354b7b\",                        [{\"hovertemplate\":\"variable=mmult_eigen_dot<br>RATIO=%{x}<br>value=%{y}<extra></extra>\",\"legendgroup\":\"mmult_eigen_dot\",\"line\":{\"color\":\"#636efa\",\"dash\":\"solid\"},\"marker\":{\"symbol\":\"circle\"},\"mode\":\"lines\",\"name\":\"mmult_eigen_dot\",\"orientation\":\"v\",\"showlegend\":true,\"type\":\"scatter\",\"x\":[90,80,70,60,50,40,30,20],\"xaxis\":\"x\",\"y\":[3.0,3.0,3.0,3.0,3.0,3.0,3.0,4.0],\"yaxis\":\"y\"},{\"hovertemplate\":\"variable=mmult_eigen<br>RATIO=%{x}<br>value=%{y}<extra></extra>\",\"legendgroup\":\"mmult_eigen\",\"line\":{\"color\":\"#EF553B\",\"dash\":\"solid\"},\"marker\":{\"symbol\":\"circle\"},\"mode\":\"lines\",\"name\":\"mmult_eigen\",\"orientation\":\"v\",\"showlegend\":true,\"type\":\"scatter\",\"x\":[90,80,70,60,50,40,30,20],\"xaxis\":\"x\",\"y\":[null,null,7.0,6.0,6.0,4.0,4.0,4.0],\"yaxis\":\"y\"},{\"hovertemplate\":\"variable=sparse_eigen<br>RATIO=%{x}<br>value=%{y}<extra></extra>\",\"legendgroup\":\"sparse_eigen\",\"line\":{\"color\":\"#00cc96\",\"dash\":\"solid\"},\"marker\":{\"symbol\":\"circle\"},\"mode\":\"lines\",\"name\":\"sparse_eigen\",\"orientation\":\"v\",\"showlegend\":true,\"type\":\"scatter\",\"x\":[90,80,70,60,50,40,30,20],\"xaxis\":\"x\",\"y\":[null,null,7.0,6.0,6.0,5.0,4.0,4.0],\"yaxis\":\"y\"}],                        {\"legend\":{\"title\":{\"text\":\"variable\"},\"tracegroupgap\":0},\"template\":{\"data\":{\"bar\":[{\"error_x\":{\"color\":\"#2a3f5f\"},\"error_y\":{\"color\":\"#2a3f5f\"},\"marker\":{\"line\":{\"color\":\"#E5ECF6\",\"width\":0.5},\"pattern\":{\"fillmode\":\"overlay\",\"size\":10,\"solidity\":0.2}},\"type\":\"bar\"}],\"barpolar\":[{\"marker\":{\"line\":{\"color\":\"#E5ECF6\",\"width\":0.5},\"pattern\":{\"fillmode\":\"overlay\",\"size\":10,\"solidity\":0.2}},\"type\":\"barpolar\"}],\"carpet\":[{\"aaxis\":{\"endlinecolor\":\"#2a3f5f\",\"gridcolor\":\"white\",\"linecolor\":\"white\",\"minorgridcolor\":\"white\",\"startlinecolor\":\"#2a3f5f\"},\"baxis\":{\"endlinecolor\":\"#2a3f5f\",\"gridcolor\":\"white\",\"linecolor\":\"white\",\"minorgridcolor\":\"white\",\"startlinecolor\":\"#2a3f5f\"},\"type\":\"carpet\"}],\"choropleth\":[{\"colorbar\":{\"outlinewidth\":0,\"ticks\":\"\"},\"type\":\"choropleth\"}],\"contour\":[{\"colorbar\":{\"outlinewidth\":0,\"ticks\":\"\"},\"colorscale\":[[0.0,\"#0d0887\"],[0.1111111111111111,\"#46039f\"],[0.2222222222222222,\"#7201a8\"],[0.3333333333333333,\"#9c179e\"],[0.4444444444444444,\"#bd3786\"],[0.5555555555555556,\"#d8576b\"],[0.6666666666666666,\"#ed7953\"],[0.7777777777777778,\"#fb9f3a\"],[0.8888888888888888,\"#fdca26\"],[1.0,\"#f0f921\"]],\"type\":\"contour\"}],\"contourcarpet\":[{\"colorbar\":{\"outlinewidth\":0,\"ticks\":\"\"},\"type\":\"contourcarpet\"}],\"heatmap\":[{\"colorbar\":{\"outlinewidth\":0,\"ticks\":\"\"},\"colorscale\":[[0.0,\"#0d0887\"],[0.1111111111111111,\"#46039f\"],[0.2222222222222222,\"#7201a8\"],[0.3333333333333333,\"#9c179e\"],[0.4444444444444444,\"#bd3786\"],[0.5555555555555556,\"#d8576b\"],[0.6666666666666666,\"#ed7953\"],[0.7777777777777778,\"#fb9f3a\"],[0.8888888888888888,\"#fdca26\"],[1.0,\"#f0f921\"]],\"type\":\"heatmap\"}],\"heatmapgl\":[{\"colorbar\":{\"outlinewidth\":0,\"ticks\":\"\"},\"colorscale\":[[0.0,\"#0d0887\"],[0.1111111111111111,\"#46039f\"],[0.2222222222222222,\"#7201a8\"],[0.3333333333333333,\"#9c179e\"],[0.4444444444444444,\"#bd3786\"],[0.5555555555555556,\"#d8576b\"],[0.6666666666666666,\"#ed7953\"],[0.7777777777777778,\"#fb9f3a\"],[0.8888888888888888,\"#fdca26\"],[1.0,\"#f0f921\"]],\"type\":\"heatmapgl\"}],\"histogram\":[{\"marker\":{\"pattern\":{\"fillmode\":\"overlay\",\"size\":10,\"solidity\":0.2}},\"type\":\"histogram\"}],\"histogram2d\":[{\"colorbar\":{\"outlinewidth\":0,\"ticks\":\"\"},\"colorscale\":[[0.0,\"#0d0887\"],[0.1111111111111111,\"#46039f\"],[0.2222222222222222,\"#7201a8\"],[0.3333333333333333,\"#9c179e\"],[0.4444444444444444,\"#bd3786\"],[0.5555555555555556,\"#d8576b\"],[0.6666666666666666,\"#ed7953\"],[0.7777777777777778,\"#fb9f3a\"],[0.8888888888888888,\"#fdca26\"],[1.0,\"#f0f921\"]],\"type\":\"histogram2d\"}],\"histogram2dcontour\":[{\"colorbar\":{\"outlinewidth\":0,\"ticks\":\"\"},\"colorscale\":[[0.0,\"#0d0887\"],[0.1111111111111111,\"#46039f\"],[0.2222222222222222,\"#7201a8\"],[0.3333333333333333,\"#9c179e\"],[0.4444444444444444,\"#bd3786\"],[0.5555555555555556,\"#d8576b\"],[0.6666666666666666,\"#ed7953\"],[0.7777777777777778,\"#fb9f3a\"],[0.8888888888888888,\"#fdca26\"],[1.0,\"#f0f921\"]],\"type\":\"histogram2dcontour\"}],\"mesh3d\":[{\"colorbar\":{\"outlinewidth\":0,\"ticks\":\"\"},\"type\":\"mesh3d\"}],\"parcoords\":[{\"line\":{\"colorbar\":{\"outlinewidth\":0,\"ticks\":\"\"}},\"type\":\"parcoords\"}],\"pie\":[{\"automargin\":true,\"type\":\"pie\"}],\"scatter\":[{\"marker\":{\"colorbar\":{\"outlinewidth\":0,\"ticks\":\"\"}},\"type\":\"scatter\"}],\"scatter3d\":[{\"line\":{\"colorbar\":{\"outlinewidth\":0,\"ticks\":\"\"}},\"marker\":{\"colorbar\":{\"outlinewidth\":0,\"ticks\":\"\"}},\"type\":\"scatter3d\"}],\"scattercarpet\":[{\"marker\":{\"colorbar\":{\"outlinewidth\":0,\"ticks\":\"\"}},\"type\":\"scattercarpet\"}],\"scattergeo\":[{\"marker\":{\"colorbar\":{\"outlinewidth\":0,\"ticks\":\"\"}},\"type\":\"scattergeo\"}],\"scattergl\":[{\"marker\":{\"colorbar\":{\"outlinewidth\":0,\"ticks\":\"\"}},\"type\":\"scattergl\"}],\"scattermapbox\":[{\"marker\":{\"colorbar\":{\"outlinewidth\":0,\"ticks\":\"\"}},\"type\":\"scattermapbox\"}],\"scatterpolar\":[{\"marker\":{\"colorbar\":{\"outlinewidth\":0,\"ticks\":\"\"}},\"type\":\"scatterpolar\"}],\"scatterpolargl\":[{\"marker\":{\"colorbar\":{\"outlinewidth\":0,\"ticks\":\"\"}},\"type\":\"scatterpolargl\"}],\"scatterternary\":[{\"marker\":{\"colorbar\":{\"outlinewidth\":0,\"ticks\":\"\"}},\"type\":\"scatterternary\"}],\"surface\":[{\"colorbar\":{\"outlinewidth\":0,\"ticks\":\"\"},\"colorscale\":[[0.0,\"#0d0887\"],[0.1111111111111111,\"#46039f\"],[0.2222222222222222,\"#7201a8\"],[0.3333333333333333,\"#9c179e\"],[0.4444444444444444,\"#bd3786\"],[0.5555555555555556,\"#d8576b\"],[0.6666666666666666,\"#ed7953\"],[0.7777777777777778,\"#fb9f3a\"],[0.8888888888888888,\"#fdca26\"],[1.0,\"#f0f921\"]],\"type\":\"surface\"}],\"table\":[{\"cells\":{\"fill\":{\"color\":\"#EBF0F8\"},\"line\":{\"color\":\"white\"}},\"header\":{\"fill\":{\"color\":\"#C8D4E3\"},\"line\":{\"color\":\"white\"}},\"type\":\"table\"}]},\"layout\":{\"annotationdefaults\":{\"arrowcolor\":\"#2a3f5f\",\"arrowhead\":0,\"arrowwidth\":1},\"autotypenumbers\":\"strict\",\"coloraxis\":{\"colorbar\":{\"outlinewidth\":0,\"ticks\":\"\"}},\"colorscale\":{\"diverging\":[[0,\"#8e0152\"],[0.1,\"#c51b7d\"],[0.2,\"#de77ae\"],[0.3,\"#f1b6da\"],[0.4,\"#fde0ef\"],[0.5,\"#f7f7f7\"],[0.6,\"#e6f5d0\"],[0.7,\"#b8e186\"],[0.8,\"#7fbc41\"],[0.9,\"#4d9221\"],[1,\"#276419\"]],\"sequential\":[[0.0,\"#0d0887\"],[0.1111111111111111,\"#46039f\"],[0.2222222222222222,\"#7201a8\"],[0.3333333333333333,\"#9c179e\"],[0.4444444444444444,\"#bd3786\"],[0.5555555555555556,\"#d8576b\"],[0.6666666666666666,\"#ed7953\"],[0.7777777777777778,\"#fb9f3a\"],[0.8888888888888888,\"#fdca26\"],[1.0,\"#f0f921\"]],\"sequentialminus\":[[0.0,\"#0d0887\"],[0.1111111111111111,\"#46039f\"],[0.2222222222222222,\"#7201a8\"],[0.3333333333333333,\"#9c179e\"],[0.4444444444444444,\"#bd3786\"],[0.5555555555555556,\"#d8576b\"],[0.6666666666666666,\"#ed7953\"],[0.7777777777777778,\"#fb9f3a\"],[0.8888888888888888,\"#fdca26\"],[1.0,\"#f0f921\"]]},\"colorway\":[\"#636efa\",\"#EF553B\",\"#00cc96\",\"#ab63fa\",\"#FFA15A\",\"#19d3f3\",\"#FF6692\",\"#B6E880\",\"#FF97FF\",\"#FECB52\"],\"font\":{\"color\":\"#2a3f5f\"},\"geo\":{\"bgcolor\":\"white\",\"lakecolor\":\"white\",\"landcolor\":\"#E5ECF6\",\"showlakes\":true,\"showland\":true,\"subunitcolor\":\"white\"},\"hoverlabel\":{\"align\":\"left\"},\"hovermode\":\"closest\",\"mapbox\":{\"style\":\"light\"},\"paper_bgcolor\":\"white\",\"plot_bgcolor\":\"#E5ECF6\",\"polar\":{\"angularaxis\":{\"gridcolor\":\"white\",\"linecolor\":\"white\",\"ticks\":\"\"},\"bgcolor\":\"#E5ECF6\",\"radialaxis\":{\"gridcolor\":\"white\",\"linecolor\":\"white\",\"ticks\":\"\"}},\"scene\":{\"xaxis\":{\"backgroundcolor\":\"#E5ECF6\",\"gridcolor\":\"white\",\"gridwidth\":2,\"linecolor\":\"white\",\"showbackground\":true,\"ticks\":\"\",\"zerolinecolor\":\"white\"},\"yaxis\":{\"backgroundcolor\":\"#E5ECF6\",\"gridcolor\":\"white\",\"gridwidth\":2,\"linecolor\":\"white\",\"showbackground\":true,\"ticks\":\"\",\"zerolinecolor\":\"white\"},\"zaxis\":{\"backgroundcolor\":\"#E5ECF6\",\"gridcolor\":\"white\",\"gridwidth\":2,\"linecolor\":\"white\",\"showbackground\":true,\"ticks\":\"\",\"zerolinecolor\":\"white\"}},\"shapedefaults\":{\"line\":{\"color\":\"#2a3f5f\"}},\"ternary\":{\"aaxis\":{\"gridcolor\":\"white\",\"linecolor\":\"white\",\"ticks\":\"\"},\"baxis\":{\"gridcolor\":\"white\",\"linecolor\":\"white\",\"ticks\":\"\"},\"bgcolor\":\"#E5ECF6\",\"caxis\":{\"gridcolor\":\"white\",\"linecolor\":\"white\",\"ticks\":\"\"}},\"title\":{\"x\":0.05},\"xaxis\":{\"automargin\":true,\"gridcolor\":\"white\",\"linecolor\":\"white\",\"ticks\":\"\",\"title\":{\"standoff\":15},\"zerolinecolor\":\"white\",\"zerolinewidth\":2},\"yaxis\":{\"automargin\":true,\"gridcolor\":\"white\",\"linecolor\":\"white\",\"ticks\":\"\",\"title\":{\"standoff\":15},\"zerolinecolor\":\"white\",\"zerolinewidth\":2}}},\"title\":{\"text\":\"CLOUDLAB:NIC traffic: mmult_eigen, tape_prefetching_asyncwrites\"},\"xaxis\":{\"anchor\":\"y\",\"domain\":[0.0,1.0],\"title\":{\"text\":\"Ratio\"}},\"yaxis\":{\"anchor\":\"x\",\"domain\":[0.0,1.0],\"title\":{\"text\":\"App CPUs per 1 eviction cpu\"}}},                        {\"responsive\": true}                    ).then(function(){\n",
       "                            \n",
       "var gd = document.getElementById('e96a7ae4-1d30-442e-acde-345fe8354b7b');\n",
       "var x = new MutationObserver(function (mutations, observer) {{\n",
       "        var display = window.getComputedStyle(gd).display;\n",
       "        if (!display || display === 'none') {{\n",
       "            console.log([gd, 'removed!']);\n",
       "            Plotly.purge(gd);\n",
       "            observer.disconnect();\n",
       "        }}\n",
       "}});\n",
       "\n",
       "// Listen for the removal of the full notebook cells\n",
       "var notebookContainer = gd.closest('#notebook-container');\n",
       "if (notebookContainer) {{\n",
       "    x.observe(notebookContainer, {childList: true});\n",
       "}}\n",
       "\n",
       "// Listen for the clearing of the current output cell\n",
       "var outputEl = gd.closest('.output');\n",
       "if (outputEl) {{\n",
       "    x.observe(outputEl, {childList: true});\n",
       "}}\n",
       "\n",
       "                        })                };                });            </script>        </div>"
      ]
     },
     "metadata": {},
     "output_type": "display_data"
    }
   ],
   "source": [
    "app2ev = pd.read_csv(\"../25g.tsv\",sep=\"\\t\")\n",
    "\n",
    "fig = px.line(app2ev, \n",
    "                x='RATIO', \n",
    "              y=[ 'mmult_eigen_dot',  'mmult_eigen','sparse_eigen'],\n",
    "                      title= \"NIC traffic: mmult_eigen, %s\" % exp\n",
    "                    )\n",
    "\n",
    "fig.update_layout(\n",
    "    xaxis_title=\"Ratio\",\n",
    "    yaxis_title=\"App CPUs per 1 eviction cpu\",\n",
    ")\n",
    "plot(fig)"
   ]
  },
  {
   "cell_type": "code",
   "execution_count": 780,
   "id": "3406ea46",
   "metadata": {},
   "outputs": [],
   "source": [
    "import collections\n",
    "import csv\n",
    "import matplotlib\n",
    "import matplotlib.pyplot as plt\n",
    "import numpy as np\n",
    "import os\n",
    "\n",
    "%matplotlib inline\n",
    "%config InlineBackend.figure_format = 'png'\n",
    "\n",
    "# For recent conferences, I've had HotCRP complain about missing fonts unless I include this line\n",
    "matplotlib.rcParams['pdf.fonttype'] = 42\n",
    "\n"
   ]
  },
  {
   "cell_type": "code",
   "execution_count": 781,
   "id": "190876c0",
   "metadata": {},
   "outputs": [
    {
     "name": "stderr",
     "output_type": "stream",
     "text": [
      "/tmp/ipykernel_21299/1135104509.py:28: UserWarning:\n",
      "\n",
      "FixedFormatter should only be used together with FixedLocator\n",
      "\n",
      "/tmp/ipykernel_21299/1135104509.py:28: UserWarning:\n",
      "\n",
      "FixedFormatter should only be used together with FixedLocator\n",
      "\n",
      "/tmp/ipykernel_21299/1135104509.py:28: UserWarning:\n",
      "\n",
      "FixedFormatter should only be used together with FixedLocator\n",
      "\n",
      "/tmp/ipykernel_21299/1135104509.py:28: UserWarning:\n",
      "\n",
      "FixedFormatter should only be used together with FixedLocator\n",
      "\n",
      "/tmp/ipykernel_21299/1135104509.py:28: UserWarning:\n",
      "\n",
      "FixedFormatter should only be used together with FixedLocator\n",
      "\n",
      "/tmp/ipykernel_21299/1135104509.py:28: UserWarning:\n",
      "\n",
      "FixedFormatter should only be used together with FixedLocator\n",
      "\n",
      "/tmp/ipykernel_21299/1135104509.py:28: UserWarning:\n",
      "\n",
      "FixedFormatter should only be used together with FixedLocator\n",
      "\n",
      "/tmp/ipykernel_21299/1135104509.py:28: UserWarning:\n",
      "\n",
      "FixedFormatter should only be used together with FixedLocator\n",
      "\n",
      "/tmp/ipykernel_21299/1135104509.py:28: UserWarning:\n",
      "\n",
      "FixedFormatter should only be used together with FixedLocator\n",
      "\n",
      "/tmp/ipykernel_21299/1135104509.py:28: UserWarning:\n",
      "\n",
      "FixedFormatter should only be used together with FixedLocator\n",
      "\n"
     ]
    },
    {
     "data": {
      "image/png": "[encoded data removed]",
      "text/plain": [
       "<Figure size 432x216 with 2 Axes>"
      ]
     },
     "metadata": {
      "needs_background": "light"
     },
     "output_type": "display_data"
    }
   ],
   "source": [
    "# plt.figure(figsize = (6, 3))\n",
    "INFINITY=8\n",
    "fig, axes = plt.subplots(nrows=1, ncols=2, figsize=(6, 3))\n",
    "app2ev10 = pd.read_csv(\"../10g.tsv\",sep=\"\\t\").fillna(INFINITY)\n",
    "app2ev25 = pd.read_csv(\"../25g.tsv\",sep=\"\\t\").fillna(INFINITY)\n",
    "app2ev56 = pd.read_csv(\"../56g.tsv\",sep=\"\\t\").fillna(INFINITY)\n",
    "\n",
    "\n",
    "np_mmul_style = {\"label\": \"np_matmul\", \"color\": \"brown\", \"marker\": \"D\",}\n",
    "mmul_style = {\"label\": \"matmul\", \"color\": \"blue\", \"marker\": \"s\", }\n",
    "mmul3_style = {\"label\": \"matmul_3\", \"color\": \"black\", \"marker\": \"*\"}\n",
    "mvmul_style = {\"label\": \"mvmul\", \"color\": \"pink\", \"marker\": \"v\"}\n",
    "dprod_style = {\"label\": \"dot_prod\", \"color\": \"red\", \"marker\": \"o\"}\n",
    "sparse_style = {\"label\": \"sparse_mul\", \"color\": \"purple\", \"marker\": \"^\"}\n",
    "np_fft_style = {\"label\": \"np_fft\", \"color\": \"green\", \"marker\": \"p\"}\n",
    "\n",
    "\n",
    "workloads = [\"python\", \"mmult_eigen\", \"mmult_eigen_vec\", \"mmult_eigen_dot\", \"sparse_eigen\",]# \"pyfft\"]\n",
    "styles = [np_mmul_style, mmul_style, mvmul_style,dprod_style, sparse_style ]\n",
    "\n",
    "for i, n, t in [(0, \"10Gbps\", app2ev10), (1, \"25Gbps\", app2ev25)]: #, (2, \"56Gbps\", app2ev56)]:\n",
    "    for workload, style in zip(workloads, styles):\n",
    "        axes[i].plot(t[\"RATIO\"], t[workload] , **style)\n",
    "        axes[i].set_title(n)\n",
    "        axes[i].set_xlabel(\"Memory Ratio (%)\")\n",
    "        axes[i].set_ylim(0, 9.1)\n",
    "        axes[i].set_xlim(10, 94)\n",
    "        axes[i].set_yticklabels([\"0\", \"2\", \"4\", \"6\", str(INFINITY)+\"+\", ])\n",
    "        axes[0].legend(ncol=2)\n",
    "        axes[0].set_ylabel(\"Max App Cores\")\n",
    "        \n",
    "        \n",
    "#     plt.legend()\n",
    "#     plt.xlabel(\"Memory Ratio (%)\")\n",
    "#     plt.ylabel(\"Ratio\")\n",
    "#     fig.suptitle(\"App CPUs per 1 eviction CPU\", y=1.02)\n",
    "    fig.show()"
   ]
  },
  {
   "cell_type": "code",
   "execution_count": 759,
   "id": "5979a45e",
   "metadata": {},
   "outputs": [
    {
     "ename": "IndentationError",
     "evalue": "unexpected indent (3882101515.py, line 10)",
     "output_type": "error",
     "traceback": [
      "\u001b[0;36m  File \u001b[0;32m\"/tmp/ipykernel_21299/3882101515.py\"\u001b[0;36m, line \u001b[0;32m10\u001b[0m\n\u001b[0;31m    fig.update_layout(\u001b[0m\n\u001b[0m    ^\u001b[0m\n\u001b[0;31mIndentationError\u001b[0m\u001b[0;31m:\u001b[0m unexpected indent\n"
     ]
    }
   ],
   "source": [
    "app2ev = pd.DataFrame()\n",
    "\n",
    "fig = px.line(exp_nic_data, \n",
    "                x='Time(s)', y=[ #'Xmit(MB)','Recv(MB)',\n",
    "                                'Xmit Rate(Gbps)', 'Recv Rate(Gbps)'],\n",
    "                      animation_frame=\"RATIO\",\n",
    "                      title= \"NIC traffic: mmult_eigen, %s\" % exp\n",
    "                    )\n",
    "\n",
    "        fig.update_layout(\n",
    "            xaxis_title=\"Seconds after App start\",\n",
    "            yaxis_title=\"Bandwidth (Gbps)\",\n",
    "        )\n",
    "        plot(fig)"
   ]
  },
  {
   "cell_type": "code",
   "execution_count": null,
   "id": "d38cd3a6",
   "metadata": {},
   "outputs": [],
   "source": []
  },
  {
   "cell_type": "code",
   "execution_count": 775,
   "id": "8c721a29",
   "metadata": {},
   "outputs": [
    {
     "data": {
      "application/vnd.plotly.v1+json": {
       "config": {
        "plotlyServerURL": "https://plotly.com"
       },
       "data": [
        {
         "hovertemplate": "variable=Xmit Rate(Gbps)<br>RATIO=20<br>Time(s)=%{x}<br>value=%{y}<extra></extra>",
         "legendgroup": "Xmit Rate(Gbps)",
         "line": {
          "color": "#636efa",
          "dash": "solid"
         },
         "marker": {
          "symbol": "circle"
         },
         "mode": "lines",
         "name": "Xmit Rate(Gbps)",
         "orientation": "v",
         "showlegend": true,
         "type": "scatter",
         "x": [
          0.004,
          0.107,
          0.209,
          0.312,
          0.415,
          0.519,
          0.622,
          0.726,
          0.829,
          0.932,
          1.036,
          1.139,
          1.243,
          1.346,
          1.45,
          1.553,
          1.657,
          1.76,
          1.863,
          1.967,
          2.07,
          2.174,
          2.277,
          2.381,
          2.484,
          2.588,
          2.691,
          2.795,
          2.898,
          3.001,
          3.105,
          3.208,
          3.311,
          3.415,
          3.518,
          3.621,
          3.724,
          3.828,
          3.931,
          4.035,
          4.138,
          4.241,
          4.344,
          4.448,
          4.551,
          4.655,
          4.758,
          4.862,
          4.965,
          5.068,
          5.172,
          5.275,
          5.378,
          5.482,
          5.585,
          5.689,
          5.792,
          5.896,
          5.999,
          6.102,
          6.205,
          6.308,
          6.412,
          6.515,
          6.618,
          6.721,
          6.824
         ],
         "xaxis": "x",
         "y": [
          0,
          0,
          0,
          0,
          0.5003911100696524,
          5.668694301938688,
          5.51034476893487,
          7.183818033861496,
          9.127092754574916,
          2.2689843501545157,
          3.1748829153612417,
          4.010243859832202,
          3.5480097093682894,
          3.1858509195070615,
          3.8154994376454687,
          3.746950603248308,
          2.8785711063088164,
          3.821905612020558,
          3.0335494896142263,
          3.2489255113629136,
          3.9677658668429356,
          3.7454857377337185,
          3.0700866743618658,
          3.3564924277673076,
          3.41688366796528,
          3.2123307787833792,
          3.9758888063329128,
          3.7694249327198768,
          3.045121809444181,
          3.299791759709274,
          3.603864586433459,
          3.1405649754055194,
          3.8433086513663675,
          3.7801875504705302,
          3.1030204085674784,
          3.281001843490372,
          3.7322087153777854,
          3.02608659013205,
          3.8188149579859303,
          3.9198210214217237,
          2.9056631281581766,
          3.5117466859049835,
          3.6850392413763484,
          3.002245304792916,
          3.6402585781626597,
          4.086767562184619,
          2.850486628646191,
          3.5496521293830656,
          3.435602763922447,
          3.097200717426533,
          3.647440963932001,
          3.980398467162854,
          3.0512513753630213,
          3.629754244651388,
          3.2650635267899717,
          3.0875652599059853,
          3.8092680976416364,
          5.206571074200863,
          4.696361250835766,
          5.350219289962779,
          0.8306077796203455,
          0,
          0,
          0,
          0,
          0,
          0
         ],
         "yaxis": "y"
        },
        {
         "hovertemplate": "variable=Recv Rate(Gbps)<br>RATIO=20<br>Time(s)=%{x}<br>value=%{y}<extra></extra>",
         "legendgroup": "Recv Rate(Gbps)",
         "line": {
          "color": "#EF553B",
          "dash": "solid"
         },
         "marker": {
          "symbol": "circle"
         },
         "mode": "lines",
         "name": "Recv Rate(Gbps)",
         "orientation": "v",
         "showlegend": true,
         "type": "scatter",
         "x": [
          0.004,
          0.107,
          0.209,
          0.312,
          0.415,
          0.519,
          0.622,
          0.726,
          0.829,
          0.932,
          1.036,
          1.139,
          1.243,
          1.346,
          1.45,
          1.553,
          1.657,
          1.76,
          1.863,
          1.967,
          2.07,
          2.174,
          2.277,
          2.381,
          2.484,
          2.588,
          2.691,
          2.795,
          2.898,
          3.001,
          3.105,
          3.208,
          3.311,
          3.415,
          3.518,
          3.621,
          3.724,
          3.828,
          3.931,
          4.035,
          4.138,
          4.241,
          4.344,
          4.448,
          4.551,
          4.655,
          4.758,
          4.862,
          4.965,
          5.068,
          5.172,
          5.275,
          5.378,
          5.482,
          5.585,
          5.689,
          5.792,
          5.896,
          5.999,
          6.102,
          6.205,
          6.308,
          6.412,
          6.515,
          6.618,
          6.721,
          6.824
         ],
         "xaxis": "x",
         "y": [
          0,
          0,
          0,
          0,
          0.0061023940633039364,
          0.08397698974975817,
          0.08002111451586513,
          0.10537454191019167,
          0.7834894696447483,
          4.276476590871575,
          4.104670999602099,
          4.426738686288711,
          3.921265618143802,
          4.085133540526279,
          4.417249265482062,
          4.14934439293744,
          4.33266535043487,
          4.416321748443071,
          4.035472927685506,
          4.093543367816434,
          4.320383129711883,
          4.262984886865676,
          4.381606523326935,
          4.172724788860002,
          4.441684074013347,
          4.076059911253354,
          4.285006530069829,
          4.320710353503191,
          4.392801905927085,
          4.177005341860081,
          4.388949942062037,
          4.14279019451048,
          4.122777833855358,
          4.358320540813842,
          4.296963302749215,
          4.2994804571949,
          4.387498769103374,
          4.153523905476521,
          4.135665387117542,
          4.492162169457394,
          4.196645101219801,
          4.310915183373506,
          4.437787803368675,
          4.050960401064148,
          4.080052114481154,
          4.601531825766435,
          4.182123189754107,
          4.202315259964616,
          4.319320247661256,
          4.1423756791826225,
          4.0206819858605956,
          4.506787839846948,
          4.397602941548222,
          4.182793736801363,
          4.353741785487898,
          4.1343422032227055,
          4.092506074304155,
          5.716706387247745,
          6.205453731618279,
          6.890493498394217,
          5.063481636121375,
          0,
          0,
          0,
          0,
          0,
          0
         ],
         "yaxis": "y"
        }
       ],
       "frames": [
        {
         "data": [
          {
           "hovertemplate": "variable=Xmit Rate(Gbps)<br>RATIO=20<br>Time(s)=%{x}<br>value=%{y}<extra></extra>",
           "legendgroup": "Xmit Rate(Gbps)",
           "line": {
            "color": "#636efa",
            "dash": "solid"
           },
           "marker": {
            "symbol": "circle"
           },
           "mode": "lines",
           "name": "Xmit Rate(Gbps)",
           "orientation": "v",
           "showlegend": true,
           "type": "scatter",
           "x": [
            0.004,
            0.107,
            0.209,
            0.312,
            0.415,
            0.519,
            0.622,
            0.726,
            0.829,
            0.932,
            1.036,
            1.139,
            1.243,
            1.346,
            1.45,
            1.553,
            1.657,
            1.76,
            1.863,
            1.967,
            2.07,
            2.174,
            2.277,
            2.381,
            2.484,
            2.588,
            2.691,
            2.795,
            2.898,
            3.001,
            3.105,
            3.208,
            3.311,
            3.415,
            3.518,
            3.621,
            3.724,
            3.828,
            3.931,
            4.035,
            4.138,
            4.241,
            4.344,
            4.448,
            4.551,
            4.655,
            4.758,
            4.862,
            4.965,
            5.068,
            5.172,
            5.275,
            5.378,
            5.482,
            5.585,
            5.689,
            5.792,
            5.896,
            5.999,
            6.102,
            6.205,
            6.308,
            6.412,
            6.515,
            6.618,
            6.721,
            6.824
           ],
           "xaxis": "x",
           "y": [
            0,
            0,
            0,
            0,
            0.5003911100696524,
            5.668694301938688,
            5.51034476893487,
            7.183818033861496,
            9.127092754574916,
            2.2689843501545157,
            3.1748829153612417,
            4.010243859832202,
            3.5480097093682894,
            3.1858509195070615,
            3.8154994376454687,
            3.746950603248308,
            2.8785711063088164,
            3.821905612020558,
            3.0335494896142263,
            3.2489255113629136,
            3.9677658668429356,
            3.7454857377337185,
            3.0700866743618658,
            3.3564924277673076,
            3.41688366796528,
            3.2123307787833792,
            3.9758888063329128,
            3.7694249327198768,
            3.045121809444181,
            3.299791759709274,
            3.603864586433459,
            3.1405649754055194,
            3.8433086513663675,
            3.7801875504705302,
            3.1030204085674784,
            3.281001843490372,
            3.7322087153777854,
            3.02608659013205,
            3.8188149579859303,
            3.9198210214217237,
            2.9056631281581766,
            3.5117466859049835,
            3.6850392413763484,
            3.002245304792916,
            3.6402585781626597,
            4.086767562184619,
            2.850486628646191,
            3.5496521293830656,
            3.435602763922447,
            3.097200717426533,
            3.647440963932001,
            3.980398467162854,
            3.0512513753630213,
            3.629754244651388,
            3.2650635267899717,
            3.0875652599059853,
            3.8092680976416364,
            5.206571074200863,
            4.696361250835766,
            5.350219289962779,
            0.8306077796203455,
            0,
            0,
            0,
            0,
            0,
            0
           ],
           "yaxis": "y"
          },
          {
           "hovertemplate": "variable=Recv Rate(Gbps)<br>RATIO=20<br>Time(s)=%{x}<br>value=%{y}<extra></extra>",
           "legendgroup": "Recv Rate(Gbps)",
           "line": {
            "color": "#EF553B",
            "dash": "solid"
           },
           "marker": {
            "symbol": "circle"
           },
           "mode": "lines",
           "name": "Recv Rate(Gbps)",
           "orientation": "v",
           "showlegend": true,
           "type": "scatter",
           "x": [
            0.004,
            0.107,
            0.209,
            0.312,
            0.415,
            0.519,
            0.622,
            0.726,
            0.829,
            0.932,
            1.036,
            1.139,
            1.243,
            1.346,
            1.45,
            1.553,
            1.657,
            1.76,
            1.863,
            1.967,
            2.07,
            2.174,
            2.277,
            2.381,
            2.484,
            2.588,
            2.691,
            2.795,
            2.898,
            3.001,
            3.105,
            3.208,
            3.311,
            3.415,
            3.518,
            3.621,
            3.724,
            3.828,
            3.931,
            4.035,
            4.138,
            4.241,
            4.344,
            4.448,
            4.551,
            4.655,
            4.758,
            4.862,
            4.965,
            5.068,
            5.172,
            5.275,
            5.378,
            5.482,
            5.585,
            5.689,
            5.792,
            5.896,
            5.999,
            6.102,
            6.205,
            6.308,
            6.412,
            6.515,
            6.618,
            6.721,
            6.824
           ],
           "xaxis": "x",
           "y": [
            0,
            0,
            0,
            0,
            0.0061023940633039364,
            0.08397698974975817,
            0.08002111451586513,
            0.10537454191019167,
            0.7834894696447483,
            4.276476590871575,
            4.104670999602099,
            4.426738686288711,
            3.921265618143802,
            4.085133540526279,
            4.417249265482062,
            4.14934439293744,
            4.33266535043487,
            4.416321748443071,
            4.035472927685506,
            4.093543367816434,
            4.320383129711883,
            4.262984886865676,
            4.381606523326935,
            4.172724788860002,
            4.441684074013347,
            4.076059911253354,
            4.285006530069829,
            4.320710353503191,
            4.392801905927085,
            4.177005341860081,
            4.388949942062037,
            4.14279019451048,
            4.122777833855358,
            4.358320540813842,
            4.296963302749215,
            4.2994804571949,
            4.387498769103374,
            4.153523905476521,
            4.135665387117542,
            4.492162169457394,
            4.196645101219801,
            4.310915183373506,
            4.437787803368675,
            4.050960401064148,
            4.080052114481154,
            4.601531825766435,
            4.182123189754107,
            4.202315259964616,
            4.319320247661256,
            4.1423756791826225,
            4.0206819858605956,
            4.506787839846948,
            4.397602941548222,
            4.182793736801363,
            4.353741785487898,
            4.1343422032227055,
            4.092506074304155,
            5.716706387247745,
            6.205453731618279,
            6.890493498394217,
            5.063481636121375,
            0,
            0,
            0,
            0,
            0,
            0
           ],
           "yaxis": "y"
          }
         ],
         "name": "20"
        },
        {
         "data": [
          {
           "hovertemplate": "variable=Xmit Rate(Gbps)<br>RATIO=30<br>Time(s)=%{x}<br>value=%{y}<extra></extra>",
           "legendgroup": "Xmit Rate(Gbps)",
           "line": {
            "color": "#636efa",
            "dash": "solid"
           },
           "marker": {
            "symbol": "circle"
           },
           "mode": "lines",
           "name": "Xmit Rate(Gbps)",
           "orientation": "v",
           "showlegend": true,
           "type": "scatter",
           "x": [
            0.004,
            0.107,
            0.209,
            0.312,
            0.415,
            0.519,
            0.622,
            0.725,
            0.829,
            0.932,
            1.035,
            1.139,
            1.242,
            1.345,
            1.449,
            1.552,
            1.655,
            1.759,
            1.862,
            1.966,
            2.069,
            2.173,
            2.276,
            2.379,
            2.483,
            2.586,
            2.689,
            2.793,
            2.896,
            3,
            3.103,
            3.207,
            3.31,
            3.414,
            3.517,
            3.62,
            3.724,
            3.827,
            3.93,
            4.034,
            4.137,
            4.241,
            4.344,
            4.447,
            4.551,
            4.654,
            4.757,
            4.861,
            4.964,
            5.067,
            5.171,
            5.274,
            5.378,
            5.481,
            5.584,
            5.688,
            5.791,
            5.894,
            5.998,
            6.101,
            6.205,
            6.308,
            6.411,
            6.514,
            6.617,
            6.72,
            6.824,
            6.927
           ],
           "xaxis": "x",
           "y": [
            0,
            0,
            0,
            0,
            0,
            3.5104616460149716,
            5.708979126553763,
            7.475338204177577,
            7.206865449460166,
            4.039748737120601,
            3.437042294140588,
            3.780460953139889,
            3.6565044571426055,
            3.2053279367959355,
            4.1051754346842,
            3.449890534930965,
            2.8012107577171292,
            3.634221157583338,
            3.254672315488378,
            2.9887429346383283,
            3.8043864136408194,
            3.49585593147534,
            3.149373281591739,
            3.3038553974214446,
            3.3924470259293553,
            3.1925039772381565,
            3.0393327589062724,
            3.847210998150385,
            3.8310593476466686,
            2.647327987421713,
            3.601272746732688,
            3.1826970785655955,
            3.089703597800455,
            3.7846636245390375,
            3.7738978573700246,
            2.748223037886221,
            3.643758473318428,
            3.3220061969109658,
            2.6862570432409463,
            3.947704085699089,
            3.8100826751827475,
            2.8474441408309397,
            3.7612490695616434,
            3.013786011593194,
            2.7568837293172295,
            3.903525819140202,
            3.704102610524257,
            3.0003274781101577,
            3.692053048848851,
            3.2297395364852077,
            3.3384418395937434,
            3.3130024846148265,
            3.633058552096141,
            3.480988434514998,
            3.160582828244236,
            3.5287572945916312,
            3.01734668091588,
            3.063041070037168,
            5.216580188469053,
            5.098587095332782,
            5.3067446671118494,
            3.202791415176621,
            0,
            0,
            0,
            0,
            0,
            0
           ],
           "yaxis": "y"
          },
          {
           "hovertemplate": "variable=Recv Rate(Gbps)<br>RATIO=30<br>Time(s)=%{x}<br>value=%{y}<extra></extra>",
           "legendgroup": "Recv Rate(Gbps)",
           "line": {
            "color": "#EF553B",
            "dash": "solid"
           },
           "marker": {
            "symbol": "circle"
           },
           "mode": "lines",
           "name": "Recv Rate(Gbps)",
           "orientation": "v",
           "showlegend": true,
           "type": "scatter",
           "x": [
            0.004,
            0.107,
            0.209,
            0.312,
            0.415,
            0.519,
            0.622,
            0.725,
            0.829,
            0.932,
            1.035,
            1.139,
            1.242,
            1.345,
            1.449,
            1.552,
            1.655,
            1.759,
            1.862,
            1.966,
            2.069,
            2.173,
            2.276,
            2.379,
            2.483,
            2.586,
            2.689,
            2.793,
            2.896,
            3,
            3.103,
            3.207,
            3.31,
            3.414,
            3.517,
            3.62,
            3.724,
            3.827,
            3.93,
            4.034,
            4.137,
            4.241,
            4.344,
            4.447,
            4.551,
            4.654,
            4.757,
            4.861,
            4.964,
            5.067,
            5.171,
            5.274,
            5.378,
            5.481,
            5.584,
            5.688,
            5.791,
            5.894,
            5.998,
            6.101,
            6.205,
            6.308,
            6.411,
            6.514,
            6.617,
            6.72,
            6.824,
            6.927
           ],
           "xaxis": "x",
           "y": [
            0,
            0,
            0,
            0,
            0,
            0.05139741155530944,
            0.08310829980297071,
            0.10810900844496277,
            1.755360224061466,
            4.010409492525972,
            4.032485468889421,
            4.050886539400594,
            3.915930638373419,
            4.05266750911043,
            4.288304550617958,
            3.9234092580127444,
            3.874685496062937,
            4.519689667121827,
            3.8992439393969365,
            3.990035980052385,
            4.275825911650487,
            3.885889316727399,
            4.245160738318793,
            3.9938647231352586,
            4.179180240997545,
            3.8919321087005736,
            3.8990846660736036,
            4.2113289594879255,
            4.191905346804757,
            3.983769762641984,
            4.425082359350956,
            3.85763264984953,
            3.990153163295705,
            4.045183159317907,
            4.237255462735294,
            3.979059819684913,
            4.432937139278412,
            3.9660410321417974,
            3.862383293943647,
            4.405393037053983,
            3.983593183622915,
            4.07188729983356,
            4.433298665961488,
            3.871178592326694,
            3.8216640236970867,
            4.2523618581570295,
            3.9758090251401,
            4.136704058743344,
            4.398473597174098,
            4.019342095498096,
            3.9725198869402845,
            4.099642155126513,
            4.166018550608958,
            4.105409236930169,
            4.289064097473865,
            4.07537855172134,
            3.9700705605033972,
            3.9358895225043993,
            5.4104221084733926,
            6.170687920600913,
            6.764511668143875,
            4.658297528119842,
            0,
            0,
            0,
            0,
            0,
            0
           ],
           "yaxis": "y"
          }
         ],
         "name": "30"
        },
        {
         "data": [
          {
           "hovertemplate": "variable=Xmit Rate(Gbps)<br>RATIO=40<br>Time(s)=%{x}<br>value=%{y}<extra></extra>",
           "legendgroup": "Xmit Rate(Gbps)",
           "line": {
            "color": "#636efa",
            "dash": "solid"
           },
           "marker": {
            "symbol": "circle"
           },
           "mode": "lines",
           "name": "Xmit Rate(Gbps)",
           "orientation": "v",
           "showlegend": true,
           "type": "scatter",
           "x": [
            0.004,
            0.107,
            0.21,
            0.313,
            0.416,
            0.519,
            0.623,
            0.726,
            0.829,
            0.932,
            1.035,
            1.139,
            1.242,
            1.345,
            1.448,
            1.551,
            1.655,
            1.758,
            1.861,
            1.964,
            2.067,
            2.17,
            2.274,
            2.377,
            2.48,
            2.583,
            2.687,
            2.79,
            2.893,
            2.997,
            3.1,
            3.203,
            3.306,
            3.409,
            3.512,
            3.615,
            3.719,
            3.822,
            3.925,
            4.028,
            4.131,
            4.235,
            4.338,
            4.442,
            4.545,
            4.648,
            4.752,
            4.855,
            4.958,
            5.061,
            5.164,
            5.268,
            5.371,
            5.475,
            5.578,
            5.681,
            5.785,
            5.888,
            5.992,
            6.095,
            6.198,
            6.301,
            6.404,
            6.507
           ],
           "xaxis": "x",
           "y": [
            0,
            0,
            0,
            0,
            0,
            0.7530980383043259,
            6.085675456681926,
            7.924581475909999,
            6.70183959455888,
            0.0157969652392353,
            0.3710811168215559,
            0.6740131593460531,
            0.6535941252537312,
            2.0002948786886314,
            3.150827264924517,
            2.803571818524721,
            2.381900660013715,
            3.2214145424525564,
            2.247127193946728,
            2.825637966770206,
            3.506802275386622,
            2.7253648589584754,
            2.9505510151558005,
            2.8211378449958993,
            2.6950968572170675,
            3.013272347898875,
            3.637197668110386,
            2.8631677914313216,
            2.9849219854079276,
            2.9050565246889817,
            2.7596950531005806,
            3.174893435173893,
            3.632771575716827,
            2.9884453656948686,
            3.060212884564398,
            2.9216809369890986,
            2.8073764786367668,
            3.11996321673536,
            3.601156832753291,
            3.031978436052864,
            3.267941141914769,
            2.8424149631423266,
            2.949645401319183,
            3.3493851035060356,
            3.6781988712795575,
            3.086435170455777,
            3.004040601274119,
            2.9766556710206964,
            2.9789401303207215,
            3.3909039053375887,
            3.7169352419508273,
            3.265151888217978,
            2.9437473742968634,
            2.9589500596727345,
            2.7140804451721197,
            3.883692966168891,
            4.874418608622404,
            1.227840651133824,
            0,
            0,
            0,
            0,
            0,
            0
           ],
           "yaxis": "y"
          },
          {
           "hovertemplate": "variable=Recv Rate(Gbps)<br>RATIO=40<br>Time(s)=%{x}<br>value=%{y}<extra></extra>",
           "legendgroup": "Recv Rate(Gbps)",
           "line": {
            "color": "#EF553B",
            "dash": "solid"
           },
           "marker": {
            "symbol": "circle"
           },
           "mode": "lines",
           "name": "Recv Rate(Gbps)",
           "orientation": "v",
           "showlegend": true,
           "type": "scatter",
           "x": [
            0.004,
            0.107,
            0.21,
            0.313,
            0.416,
            0.519,
            0.623,
            0.726,
            0.829,
            0.932,
            1.035,
            1.139,
            1.242,
            1.345,
            1.448,
            1.551,
            1.655,
            1.758,
            1.861,
            1.964,
            2.067,
            2.17,
            2.274,
            2.377,
            2.48,
            2.583,
            2.687,
            2.79,
            2.893,
            2.997,
            3.1,
            3.203,
            3.306,
            3.409,
            3.512,
            3.615,
            3.719,
            3.822,
            3.925,
            4.028,
            4.131,
            4.235,
            4.338,
            4.442,
            4.545,
            4.648,
            4.752,
            4.855,
            4.958,
            5.061,
            5.164,
            5.268,
            5.371,
            5.475,
            5.578,
            5.681,
            5.785,
            5.888,
            5.992,
            6.095,
            6.198,
            6.301,
            6.404,
            6.507
           ],
           "xaxis": "x",
           "y": [
            0,
            0,
            0,
            0,
            0,
            0.010493250290938188,
            0.08798985385070275,
            0.11641463530398943,
            1.4760090123092402,
            0.9356437668305471,
            0.4296792466934165,
            0.6258261535857064,
            1.3517986560307236,
            1.9571442377440107,
            3.5614104784309695,
            3.0621588519195355,
            3.6393711477603934,
            3.5470625824655415,
            2.8020250461959475,
            3.7046125164087487,
            3.8682885475232616,
            3.909574158554752,
            3.461959439899687,
            3.5385716666768374,
            3.6798838153842737,
            3.168821970775905,
            3.7914454421667396,
            4.0263229498692015,
            3.491357966144618,
            3.6333874941559245,
            3.8472095470076892,
            3.3709346149640758,
            3.8569165478622107,
            4.137987135453331,
            3.6884657857952172,
            3.642042959696099,
            3.6852861916526605,
            3.4749363372906266,
            3.8950126455549445,
            4.030259689234864,
            3.910183790930234,
            3.5482521932017415,
            3.9563496406510867,
            3.6652104197272157,
            3.9443434383196325,
            4.209295334339614,
            3.6597486646214286,
            3.589500395796094,
            3.8852573712975254,
            3.765678949198838,
            4.023420475387213,
            4.14607447002165,
            3.710654785515126,
            3.5264910584339186,
            3.7430838169574963,
            4.066590772567744,
            5.246408276553337,
            2.1129545948091515,
            0,
            0,
            0,
            0,
            0,
            0
           ],
           "yaxis": "y"
          }
         ],
         "name": "40"
        },
        {
         "data": [
          {
           "hovertemplate": "variable=Xmit Rate(Gbps)<br>RATIO=50<br>Time(s)=%{x}<br>value=%{y}<extra></extra>",
           "legendgroup": "Xmit Rate(Gbps)",
           "line": {
            "color": "#636efa",
            "dash": "solid"
           },
           "marker": {
            "symbol": "circle"
           },
           "mode": "lines",
           "name": "Xmit Rate(Gbps)",
           "orientation": "v",
           "showlegend": true,
           "type": "scatter",
           "x": [
            0.004,
            0.106,
            0.209,
            0.312,
            0.415,
            0.519,
            0.622,
            0.725,
            0.828,
            0.931,
            1.035,
            1.138,
            1.241,
            1.344,
            1.447,
            1.55,
            1.653,
            1.757,
            1.86,
            1.963,
            2.066,
            2.169,
            2.273,
            2.376,
            2.479,
            2.582,
            2.685,
            2.788,
            2.891,
            2.994,
            3.097,
            3.201,
            3.304,
            3.407,
            3.51,
            3.613,
            3.717,
            3.82,
            3.923,
            4.026,
            4.129,
            4.232,
            4.336,
            4.438,
            4.542,
            4.645,
            4.748,
            4.851,
            4.954,
            5.057,
            5.161,
            5.264
           ],
           "xaxis": "x",
           "y": [
            0,
            0,
            0,
            0,
            0,
            0,
            4.12744185394968,
            8.46978620229475,
            4.872867600878505,
            0.00875396247515969,
            0.5500145993704533,
            0,
            1.0631925035286114,
            0.7577030896909255,
            0.8613142888599179,
            0.053867625450186085,
            1.787305109484698,
            0.3344685154162731,
            0.061015846888840826,
            0.1217998658188562,
            0,
            0.5878101958451505,
            1.6893115785692183,
            1.956496160083557,
            0.254406903578631,
            0,
            0.014973426767047663,
            0.009625774350244969,
            1.0352664844834818,
            0.8429735754440394,
            0.5894179603177074,
            0.016418474437409458,
            0.010160539591925245,
            0.016577722492088484,
            0,
            2.7472061167401503,
            0.011932666661301895,
            0.07613235949082489,
            0.027771370718481413,
            0,
            0.01871678345880966,
            0.21446514314638404,
            1.336366482129128,
            0.012320822996911129,
            0.011122192360825763,
            0.013711380796682276,
            0.0002511951324433275,
            0,
            0,
            0,
            0,
            0
           ],
           "yaxis": "y"
          },
          {
           "hovertemplate": "variable=Recv Rate(Gbps)<br>RATIO=50<br>Time(s)=%{x}<br>value=%{y}<extra></extra>",
           "legendgroup": "Recv Rate(Gbps)",
           "line": {
            "color": "#EF553B",
            "dash": "solid"
           },
           "marker": {
            "symbol": "circle"
           },
           "mode": "lines",
           "name": "Recv Rate(Gbps)",
           "orientation": "v",
           "showlegend": true,
           "type": "scatter",
           "x": [
            0.004,
            0.106,
            0.209,
            0.312,
            0.415,
            0.519,
            0.622,
            0.725,
            0.828,
            0.931,
            1.035,
            1.138,
            1.241,
            1.344,
            1.447,
            1.55,
            1.653,
            1.757,
            1.86,
            1.963,
            2.066,
            2.169,
            2.273,
            2.376,
            2.479,
            2.582,
            2.685,
            2.788,
            2.891,
            2.994,
            3.097,
            3.201,
            3.304,
            3.407,
            3.51,
            3.613,
            3.717,
            3.82,
            3.923,
            4.026,
            4.129,
            4.232,
            4.336,
            4.438,
            4.542,
            4.645,
            4.748,
            4.851,
            4.954,
            5.057,
            5.161,
            5.264
           ],
           "xaxis": "x",
           "y": [
            0,
            0,
            0,
            0,
            0,
            0,
            0.05906612172390396,
            0.12441674675557594,
            1.1748431031849638,
            0.5129433510722055,
            0.6274874684446491,
            0,
            0.9846539895125184,
            0.7206403896949688,
            0.7976627719853252,
            0.19563446914421254,
            1.4503116635415998,
            1.6221882172437059,
            0.5958857291191082,
            0.8472060255352211,
            0,
            1.1112479534574649,
            1.5448086772482617,
            1.8275339087736984,
            1.7031414432507102,
            0,
            0.877361871107009,
            0.5640183457116511,
            1.2615872285067722,
            1.07633472067077,
            0.9101967460084746,
            0.9620338535217218,
            0.5953526982511873,
            0.9713649287256172,
            0,
            0.9458285876550665,
            0.6991813780594965,
            0.9115929168826993,
            1.020394518581207,
            0,
            1.096702338883766,
            0.7236425906679864,
            1.4888369956918899,
            0.6021692049958715,
            0.6148485354112955,
            0.8406220536921138,
            0.014727145693581875,
            0,
            0,
            0,
            0,
            0
           ],
           "yaxis": "y"
          }
         ],
         "name": "50"
        },
        {
         "data": [
          {
           "hovertemplate": "variable=Xmit Rate(Gbps)<br>RATIO=60<br>Time(s)=%{x}<br>value=%{y}<extra></extra>",
           "legendgroup": "Xmit Rate(Gbps)",
           "line": {
            "color": "#636efa",
            "dash": "solid"
           },
           "marker": {
            "symbol": "circle"
           },
           "mode": "lines",
           "name": "Xmit Rate(Gbps)",
           "orientation": "v",
           "showlegend": true,
           "type": "scatter",
           "x": [
            0.004,
            0.107,
            0.21,
            0.312,
            0.415,
            0.519,
            0.622,
            0.725,
            0.829,
            0.932,
            1.035,
            1.138,
            1.242,
            1.345,
            1.448,
            1.552,
            1.655,
            1.758,
            1.861,
            1.964,
            2.067,
            2.171,
            2.274,
            2.377,
            2.48,
            2.583,
            2.687,
            2.79,
            2.893,
            2.997,
            3.1,
            3.203,
            3.306,
            3.409,
            3.513,
            3.616,
            3.719,
            3.822,
            3.925,
            4.029,
            4.132,
            4.235,
            4.338,
            4.441,
            4.544,
            4.647,
            4.75,
            4.854,
            4.957
           ],
           "xaxis": "x",
           "y": [
            0,
            0,
            0,
            0,
            0,
            0,
            1.331027795919276,
            8.873802209571078,
            4.851692405374548,
            0.003219286754915251,
            0.010695304833605509,
            0,
            0.5453040574629867,
            0.24128896766906802,
            0.655804295544481,
            0,
            1.0139068044816026,
            0.7292986725512116,
            0.6482840509349924,
            0,
            1.0252079838809152,
            0.5942554455554699,
            0.26755576915352414,
            0.014555731753951513,
            0,
            0.2450305899870726,
            0.14508835520455796,
            0.1645169133242762,
            0.17153650204263574,
            0.523509713575086,
            0.08496697034567549,
            0.36417108271216875,
            0.43556889090921813,
            0.01871678345880966,
            0.011651820568484132,
            0.012299600558646295,
            0,
            0.018716783458809578,
            0.012299600558646349,
            0.012181448776142502,
            0,
            0.20440693160611015,
            0.003925176873933226,
            0,
            0,
            0,
            0,
            0,
            0
           ],
           "yaxis": "y"
          },
          {
           "hovertemplate": "variable=Recv Rate(Gbps)<br>RATIO=60<br>Time(s)=%{x}<br>value=%{y}<extra></extra>",
           "legendgroup": "Recv Rate(Gbps)",
           "line": {
            "color": "#EF553B",
            "dash": "solid"
           },
           "marker": {
            "symbol": "circle"
           },
           "mode": "lines",
           "name": "Recv Rate(Gbps)",
           "orientation": "v",
           "showlegend": true,
           "type": "scatter",
           "x": [
            0.004,
            0.107,
            0.21,
            0.312,
            0.415,
            0.519,
            0.622,
            0.725,
            0.829,
            0.932,
            1.035,
            1.138,
            1.242,
            1.345,
            1.448,
            1.552,
            1.655,
            1.758,
            1.861,
            1.964,
            2.067,
            2.171,
            2.274,
            2.377,
            2.48,
            2.583,
            2.687,
            2.79,
            2.893,
            2.997,
            3.1,
            3.203,
            3.306,
            3.409,
            3.513,
            3.616,
            3.719,
            3.822,
            3.925,
            4.029,
            4.132,
            4.235,
            4.338,
            4.441,
            4.544,
            4.647,
            4.75,
            4.854,
            4.957
           ],
           "xaxis": "x",
           "y": [
            0,
            0,
            0,
            0,
            0,
            0,
            0.018822291195681674,
            0.13010722705163966,
            1.0629477807813603,
            0.18863280228800713,
            0.6266870507907227,
            0,
            1.0186705763356019,
            0.2970531308223159,
            0.6348952636570752,
            0,
            0.9840489821336897,
            0.6931020031844842,
            0.6723620727383663,
            0,
            0.9855544185545908,
            0.597084232755401,
            1.7076219087891125,
            0.735744183556071,
            0,
            1.3183816096715595,
            0.5600114033613856,
            0.6283939636297056,
            0.19943303673389973,
            1.144211928965836,
            0.5648785950950219,
            0.6318531720876477,
            0.6224803272436001,
            1.096702338883766,
            0.6827337024992864,
            0.7206901084093289,
            0,
            1.0967023388837613,
            0.720690108409332,
            0.7137670526128903,
            0,
            1.2365610823830084,
            0.24902947774567094,
            0,
            0,
            0,
            0,
            0,
            0
           ],
           "yaxis": "y"
          }
         ],
         "name": "60"
        },
        {
         "data": [
          {
           "hovertemplate": "variable=Xmit Rate(Gbps)<br>RATIO=70<br>Time(s)=%{x}<br>value=%{y}<extra></extra>",
           "legendgroup": "Xmit Rate(Gbps)",
           "line": {
            "color": "#636efa",
            "dash": "solid"
           },
           "marker": {
            "symbol": "circle"
           },
           "mode": "lines",
           "name": "Xmit Rate(Gbps)",
           "orientation": "v",
           "showlegend": true,
           "type": "scatter",
           "x": [
            0.004,
            0.107,
            0.21,
            0.313,
            0.416,
            0.519,
            0.622,
            0.725,
            0.829,
            0.932,
            1.035,
            1.139,
            1.242,
            1.345,
            1.448,
            1.551,
            1.654,
            1.757,
            1.861,
            1.964,
            2.067,
            2.17,
            2.274,
            2.377,
            2.48,
            2.583,
            2.686,
            2.789,
            2.893,
            2.996,
            3.099,
            3.202,
            3.306,
            3.409,
            3.512,
            3.615,
            3.718,
            3.821,
            3.925,
            4.028,
            4.131,
            4.234,
            4.337,
            4.44,
            4.543,
            4.646,
            4.749,
            4.852
           ],
           "xaxis": "x",
           "y": [
            0,
            0,
            0,
            0,
            0,
            0,
            0,
            7.969608131134893,
            2.9978219072596604,
            0,
            0.010695304833605509,
            0,
            0.6699807775702787,
            0,
            0.6278331827816747,
            0,
            1.0960340268628097,
            0,
            0.6277411174132884,
            0.17003713592988098,
            1.1988581094085047,
            0.1945348761824012,
            0.6457736695992266,
            0,
            1.2133427318384273,
            0.8442737776370545,
            0.21453798684417152,
            0,
            0.2076257088227879,
            0.15676195013303384,
            0.29690975592508634,
            0,
            0.34753344129989255,
            0.2917829470999842,
            0.3566132600046145,
            0,
            0.5973327749568683,
            0.3193149742400258,
            0.44863574443014775,
            0,
            0.3818692106511474,
            0.06930095032507896,
            0,
            0,
            0,
            0,
            0,
            0
           ],
           "yaxis": "y"
          },
          {
           "hovertemplate": "variable=Recv Rate(Gbps)<br>RATIO=70<br>Time(s)=%{x}<br>value=%{y}<extra></extra>",
           "legendgroup": "Recv Rate(Gbps)",
           "line": {
            "color": "#EF553B",
            "dash": "solid"
           },
           "marker": {
            "symbol": "circle"
           },
           "mode": "lines",
           "name": "Recv Rate(Gbps)",
           "orientation": "v",
           "showlegend": true,
           "type": "scatter",
           "x": [
            0.004,
            0.107,
            0.21,
            0.313,
            0.416,
            0.519,
            0.622,
            0.725,
            0.829,
            0.932,
            1.035,
            1.139,
            1.242,
            1.345,
            1.448,
            1.551,
            1.654,
            1.757,
            1.861,
            1.964,
            2.067,
            2.17,
            2.274,
            2.377,
            2.48,
            2.583,
            2.686,
            2.789,
            2.893,
            2.996,
            3.099,
            3.202,
            3.306,
            3.409,
            3.512,
            3.615,
            3.718,
            3.821,
            3.925,
            4.028,
            4.131,
            4.234,
            4.337,
            4.44,
            4.543,
            4.646,
            4.749,
            4.852
           ],
           "xaxis": "x",
           "y": [
            0,
            0,
            0,
            0,
            0,
            0,
            0,
            0.11540783133816651,
            0.7983503950890387,
            0,
            0.6266870507907227,
            0,
            0.785134523153074,
            0,
            0.6326434683961619,
            0,
            1.0700583111072028,
            0,
            0.6283526232789957,
            0.08138057447890423,
            1.234431560471955,
            0.1807567219960821,
            0.6285876636889889,
            0,
            1.2313287658210381,
            0.8042192829106164,
            1.7081904943190576,
            0,
            0.9641371932199237,
            0.5969029393274718,
            0.974299778184417,
            0,
            0.9657300858401419,
            0.6924877458122854,
            0.8499344845169599,
            0,
            0.9781078848297704,
            0.7240013169733546,
            0.8427904959943435,
            0,
            0.8953828816270448,
            0.6034155127842619,
            0,
            0,
            0,
            0,
            0,
            0
           ],
           "yaxis": "y"
          }
         ],
         "name": "70"
        },
        {
         "data": [
          {
           "hovertemplate": "variable=Xmit Rate(Gbps)<br>RATIO=80<br>Time(s)=%{x}<br>value=%{y}<extra></extra>",
           "legendgroup": "Xmit Rate(Gbps)",
           "line": {
            "color": "#636efa",
            "dash": "solid"
           },
           "marker": {
            "symbol": "circle"
           },
           "mode": "lines",
           "name": "Xmit Rate(Gbps)",
           "orientation": "v",
           "showlegend": true,
           "type": "scatter",
           "x": [
            0.004,
            0.107,
            0.21,
            0.312,
            0.416,
            0.519,
            0.622,
            0.725,
            0.828,
            0.931,
            1.035,
            1.138,
            1.241,
            1.344,
            1.447,
            1.551,
            1.654,
            1.757,
            1.86,
            1.963,
            2.067,
            2.17,
            2.273,
            2.376,
            2.48,
            2.583,
            2.686,
            2.789,
            2.893,
            2.996,
            3.099,
            3.202,
            3.305,
            3.409,
            3.512,
            3.616,
            3.719,
            3.822,
            3.925,
            4.028,
            4.131,
            4.234,
            4.337,
            4.441,
            4.544,
            4.647,
            4.75,
            4.853
           ],
           "xaxis": "x",
           "y": [
            0,
            0,
            0,
            0,
            0,
            0,
            0,
            7.054278795055461,
            0,
            0.5101446499533144,
            0,
            0.7000672481917966,
            0,
            0.6303766418960232,
            0,
            0.6014062852154097,
            0,
            0.6736923374098327,
            0,
            0.7574747304796133,
            0,
            0.6479562542949584,
            0,
            0.9502674282233097,
            0.26898700153449745,
            0.6469824034305119,
            0,
            0.7611082435001095,
            0.7421977810855125,
            1.184457604105787,
            0.29846548918493676,
            0,
            0.01903070510879054,
            0.0124923548483139,
            0.012299600558646295,
            0,
            0.2648313570438839,
            0.39569101324368094,
            0.3628570055290993,
            0,
            0.4071121534945058,
            0.0002566873160065325,
            0,
            0,
            0,
            0,
            0,
            0
           ],
           "yaxis": "y"
          },
          {
           "hovertemplate": "variable=Recv Rate(Gbps)<br>RATIO=80<br>Time(s)=%{x}<br>value=%{y}<extra></extra>",
           "legendgroup": "Recv Rate(Gbps)",
           "line": {
            "color": "#EF553B",
            "dash": "solid"
           },
           "marker": {
            "symbol": "circle"
           },
           "mode": "lines",
           "name": "Recv Rate(Gbps)",
           "orientation": "v",
           "showlegend": true,
           "type": "scatter",
           "x": [
            0.004,
            0.107,
            0.21,
            0.312,
            0.416,
            0.519,
            0.622,
            0.725,
            0.828,
            0.931,
            1.035,
            1.138,
            1.241,
            1.344,
            1.447,
            1.551,
            1.654,
            1.757,
            1.86,
            1.963,
            2.067,
            2.17,
            2.273,
            2.376,
            2.48,
            2.583,
            2.686,
            2.789,
            2.893,
            2.996,
            3.099,
            3.202,
            3.305,
            3.409,
            3.512,
            3.616,
            3.719,
            3.822,
            3.925,
            4.028,
            4.131,
            4.234,
            4.337,
            4.441,
            4.544,
            4.647,
            4.75,
            4.853
           ],
           "xaxis": "x",
           "y": [
            0,
            0,
            0,
            0,
            0,
            0,
            0,
            0.8635738888027367,
            0,
            0.6330493118552527,
            0,
            0.635495646039221,
            0,
            0.6345009826896957,
            0,
            0.5971638201293074,
            0,
            0.6348149043396767,
            0,
            0.7257258626122018,
            0,
            0.6346666153834716,
            0,
            0.8778159879690018,
            0.31617515712375227,
            0.6325090544300085,
            0,
            0.7173991342057991,
            0.7040299095864736,
            1.0989018138696776,
            1.144593890492597,
            0,
            1.096706963880446,
            0.658842317194579,
            0.7761519124043077,
            0,
            1.0994131650656458,
            0.6939258307189632,
            0.7559984893502846,
            0,
            0.4806556710910119,
            0.015040489218977363,
            0,
            0,
            0,
            0,
            0,
            0
           ],
           "yaxis": "y"
          }
         ],
         "name": "80"
        },
        {
         "data": [
          {
           "hovertemplate": "variable=Xmit Rate(Gbps)<br>RATIO=90<br>Time(s)=%{x}<br>value=%{y}<extra></extra>",
           "legendgroup": "Xmit Rate(Gbps)",
           "line": {
            "color": "#636efa",
            "dash": "solid"
           },
           "marker": {
            "symbol": "circle"
           },
           "mode": "lines",
           "name": "Xmit Rate(Gbps)",
           "orientation": "v",
           "showlegend": true,
           "type": "scatter",
           "x": [
            0.004,
            0.107,
            0.21,
            0.313,
            0.416,
            0.519,
            0.622,
            0.726,
            0.829,
            0.932,
            1.035,
            1.139,
            1.242,
            1.345,
            1.448,
            1.551,
            1.655,
            1.758,
            1.861,
            1.964,
            2.067,
            2.171,
            2.274,
            2.377,
            2.48,
            2.583,
            2.686,
            2.79,
            2.893,
            2.996,
            3.099,
            3.202,
            3.305,
            3.409,
            3.512,
            3.615,
            3.718,
            3.822,
            3.925,
            4.028,
            4.131,
            4.235,
            4.338,
            4.441,
            4.544,
            4.647,
            4.75
           ],
           "xaxis": "x",
           "y": [
            0,
            0,
            0,
            0,
            0,
            0,
            0,
            3.8019034521265977,
            0,
            0.6445031161451658,
            0,
            0.5341583896897134,
            0,
            0.6495258625448619,
            0,
            0.6709601206182857,
            0,
            0.6196232355415648,
            0,
            0.6127900920020621,
            0,
            0.639633417816604,
            0,
            0.6199154775195872,
            0,
            0.6355100991538597,
            0,
            0.589300702101444,
            0,
            0.679437739541527,
            0,
            1.1459802332488715,
            0.7653479201486093,
            0.448008206575452,
            0,
            0.017261354814560835,
            0.012294397437375945,
            0.017737105531719973,
            0,
            0.0031285211949760145,
            0.0030426696940143443,
            0.00021729070789875814,
            0,
            0,
            0,
            0,
            0
           ],
           "yaxis": "y"
          },
          {
           "hovertemplate": "variable=Recv Rate(Gbps)<br>RATIO=90<br>Time(s)=%{x}<br>value=%{y}<extra></extra>",
           "legendgroup": "Recv Rate(Gbps)",
           "line": {
            "color": "#EF553B",
            "dash": "solid"
           },
           "marker": {
            "symbol": "circle"
           },
           "mode": "lines",
           "name": "Recv Rate(Gbps)",
           "orientation": "v",
           "showlegend": true,
           "type": "scatter",
           "x": [
            0.004,
            0.107,
            0.21,
            0.313,
            0.416,
            0.519,
            0.622,
            0.726,
            0.829,
            0.932,
            1.035,
            1.139,
            1.242,
            1.345,
            1.448,
            1.551,
            1.655,
            1.758,
            1.861,
            1.964,
            2.067,
            2.171,
            2.274,
            2.377,
            2.48,
            2.583,
            2.686,
            2.79,
            2.893,
            2.996,
            3.099,
            3.202,
            3.305,
            3.409,
            3.512,
            3.615,
            3.718,
            3.822,
            3.925,
            4.028,
            4.131,
            4.235,
            4.338,
            4.441,
            4.544,
            4.647,
            4.75
           ],
           "xaxis": "x",
           "y": [
            0,
            0,
            0,
            0,
            0,
            0,
            0,
            0.8090222603305961,
            0,
            0.6347787715530759,
            0,
            0.627190017791806,
            0,
            0.6349267714469903,
            0,
            0.6034669658723789,
            0,
            0.629720181429074,
            0,
            0.6155480353376683,
            0,
            0.614986525030807,
            0,
            0.6285338697794236,
            0,
            0.6227821082772835,
            0,
            0.5799580605183503,
            0,
            0.6217304996560766,
            0,
            0.8330142232079067,
            0.5168136061105061,
            0.724032678704901,
            0,
            0.7539539517533059,
            0.7203767648839366,
            1.0393068953045956,
            0,
            0.1833059623562866,
            0.1782924659499593,
            0.012723673546577611,
            0,
            0,
            0,
            0,
            0
           ],
           "yaxis": "y"
          }
         ],
         "name": "90"
        },
        {
         "data": [
          {
           "hovertemplate": "variable=Xmit Rate(Gbps)<br>RATIO=100<br>Time(s)=%{x}<br>value=%{y}<extra></extra>",
           "legendgroup": "Xmit Rate(Gbps)",
           "line": {
            "color": "#636efa",
            "dash": "solid"
           },
           "marker": {
            "symbol": "circle"
           },
           "mode": "lines",
           "name": "Xmit Rate(Gbps)",
           "orientation": "v",
           "showlegend": true,
           "type": "scatter",
           "x": [
            0.004,
            0.107,
            0.21,
            0.312,
            0.415,
            0.518,
            0.621,
            0.725,
            0.828,
            0.931,
            1.034,
            1.137,
            1.24,
            1.343,
            1.446,
            1.55,
            1.653,
            1.756,
            1.859,
            1.962,
            2.065,
            2.168,
            2.272,
            2.375,
            2.478,
            2.581,
            2.684,
            2.787,
            2.89,
            2.994,
            3.097,
            3.2,
            3.303,
            3.406,
            3.51,
            3.613,
            3.716,
            3.819,
            3.922,
            4.025,
            4.129,
            4.232,
            4.335,
            4.438,
            4.542
           ],
           "xaxis": "x",
           "y": [
            0,
            0,
            0,
            0,
            0,
            0,
            0,
            0,
            0,
            0,
            0,
            0,
            0,
            0,
            0,
            0,
            0,
            0,
            0,
            0,
            0,
            0,
            0,
            0,
            0,
            0,
            0,
            0,
            0,
            0,
            0,
            0,
            0,
            0,
            0,
            0,
            0,
            0,
            0,
            0,
            0,
            0,
            0,
            0,
            0
           ],
           "yaxis": "y"
          },
          {
           "hovertemplate": "variable=Recv Rate(Gbps)<br>RATIO=100<br>Time(s)=%{x}<br>value=%{y}<extra></extra>",
           "legendgroup": "Recv Rate(Gbps)",
           "line": {
            "color": "#EF553B",
            "dash": "solid"
           },
           "marker": {
            "symbol": "circle"
           },
           "mode": "lines",
           "name": "Recv Rate(Gbps)",
           "orientation": "v",
           "showlegend": true,
           "type": "scatter",
           "x": [
            0.004,
            0.107,
            0.21,
            0.312,
            0.415,
            0.518,
            0.621,
            0.725,
            0.828,
            0.931,
            1.034,
            1.137,
            1.24,
            1.343,
            1.446,
            1.55,
            1.653,
            1.756,
            1.859,
            1.962,
            2.065,
            2.168,
            2.272,
            2.375,
            2.478,
            2.581,
            2.684,
            2.787,
            2.89,
            2.994,
            3.097,
            3.2,
            3.303,
            3.406,
            3.51,
            3.613,
            3.716,
            3.819,
            3.922,
            4.025,
            4.129,
            4.232,
            4.335,
            4.438,
            4.542
           ],
           "xaxis": "x",
           "y": [
            0,
            0,
            0,
            0,
            0,
            0,
            0,
            0,
            0,
            0,
            0,
            0,
            0,
            0,
            0,
            0,
            0,
            0,
            0,
            0,
            0,
            0,
            0,
            0,
            0,
            0,
            0,
            0,
            0,
            0,
            0,
            0,
            0,
            0,
            0,
            0,
            0,
            0,
            0,
            0,
            0,
            0,
            0,
            0,
            0
           ],
           "yaxis": "y"
          }
         ],
         "name": "100"
        }
       ],
       "layout": {
        "legend": {
         "title": {
          "text": "variable"
         },
         "tracegroupgap": 0
        },
        "sliders": [
         {
          "active": 0,
          "currentvalue": {
           "prefix": "RATIO="
          },
          "len": 0.9,
          "pad": {
           "b": 10,
           "t": 60
          },
          "steps": [
           {
            "args": [
             [
              "20"
             ],
             {
              "frame": {
               "duration": 0,
               "redraw": false
              },
              "fromcurrent": true,
              "mode": "immediate",
              "transition": {
               "duration": 0,
               "easing": "linear"
              }
             }
            ],
            "label": "20",
            "method": "animate"
           },
           {
            "args": [
             [
              "30"
             ],
             {
              "frame": {
               "duration": 0,
               "redraw": false
              },
              "fromcurrent": true,
              "mode": "immediate",
              "transition": {
               "duration": 0,
               "easing": "linear"
              }
             }
            ],
            "label": "30",
            "method": "animate"
           },
           {
            "args": [
             [
              "40"
             ],
             {
              "frame": {
               "duration": 0,
               "redraw": false
              },
              "fromcurrent": true,
              "mode": "immediate",
              "transition": {
               "duration": 0,
               "easing": "linear"
              }
             }
            ],
            "label": "40",
            "method": "animate"
           },
           {
            "args": [
             [
              "50"
             ],
             {
              "frame": {
               "duration": 0,
               "redraw": false
              },
              "fromcurrent": true,
              "mode": "immediate",
              "transition": {
               "duration": 0,
               "easing": "linear"
              }
             }
            ],
            "label": "50",
            "method": "animate"
           },
           {
            "args": [
             [
              "60"
             ],
             {
              "frame": {
               "duration": 0,
               "redraw": false
              },
              "fromcurrent": true,
              "mode": "immediate",
              "transition": {
               "duration": 0,
               "easing": "linear"
              }
             }
            ],
            "label": "60",
            "method": "animate"
           },
           {
            "args": [
             [
              "70"
             ],
             {
              "frame": {
               "duration": 0,
               "redraw": false
              },
              "fromcurrent": true,
              "mode": "immediate",
              "transition": {
               "duration": 0,
               "easing": "linear"
              }
             }
            ],
            "label": "70",
            "method": "animate"
           },
           {
            "args": [
             [
              "80"
             ],
             {
              "frame": {
               "duration": 0,
               "redraw": false
              },
              "fromcurrent": true,
              "mode": "immediate",
              "transition": {
               "duration": 0,
               "easing": "linear"
              }
             }
            ],
            "label": "80",
            "method": "animate"
           },
           {
            "args": [
             [
              "90"
             ],
             {
              "frame": {
               "duration": 0,
               "redraw": false
              },
              "fromcurrent": true,
              "mode": "immediate",
              "transition": {
               "duration": 0,
               "easing": "linear"
              }
             }
            ],
            "label": "90",
            "method": "animate"
           },
           {
            "args": [
             [
              "100"
             ],
             {
              "frame": {
               "duration": 0,
               "redraw": false
              },
              "fromcurrent": true,
              "mode": "immediate",
              "transition": {
               "duration": 0,
               "easing": "linear"
              }
             }
            ],
            "label": "100",
            "method": "animate"
           }
          ],
          "x": 0.1,
          "xanchor": "left",
          "y": 0,
          "yanchor": "top"
         }
        ],
        "template": {
         "data": {
          "bar": [
           {
            "error_x": {
             "color": "#2a3f5f"
            },
            "error_y": {
             "color": "#2a3f5f"
            },
            "marker": {
             "line": {
              "color": "#E5ECF6",
              "width": 0.5
             },
             "pattern": {
              "fillmode": "overlay",
              "size": 10,
              "solidity": 0.2
             }
            },
            "type": "bar"
           }
          ],
          "barpolar": [
           {
            "marker": {
             "line": {
              "color": "#E5ECF6",
              "width": 0.5
             },
             "pattern": {
              "fillmode": "overlay",
              "size": 10,
              "solidity": 0.2
             }
            },
            "type": "barpolar"
           }
          ],
          "carpet": [
           {
            "aaxis": {
             "endlinecolor": "#2a3f5f",
             "gridcolor": "white",
             "linecolor": "white",
             "minorgridcolor": "white",
             "startlinecolor": "#2a3f5f"
            },
            "baxis": {
             "endlinecolor": "#2a3f5f",
             "gridcolor": "white",
             "linecolor": "white",
             "minorgridcolor": "white",
             "startlinecolor": "#2a3f5f"
            },
            "type": "carpet"
           }
          ],
          "choropleth": [
           {
            "colorbar": {
             "outlinewidth": 0,
             "ticks": ""
            },
            "type": "choropleth"
           }
          ],
          "contour": [
           {
            "colorbar": {
             "outlinewidth": 0,
             "ticks": ""
            },
            "colorscale": [
             [
              0,
              "#0d0887"
             ],
             [
              0.1111111111111111,
              "#46039f"
             ],
             [
              0.2222222222222222,
              "#7201a8"
             ],
             [
              0.3333333333333333,
              "#9c179e"
             ],
             [
              0.4444444444444444,
              "#bd3786"
             ],
             [
              0.5555555555555556,
              "#d8576b"
             ],
             [
              0.6666666666666666,
              "#ed7953"
             ],
             [
              0.7777777777777778,
              "#fb9f3a"
             ],
             [
              0.8888888888888888,
              "#fdca26"
             ],
             [
              1,
              "#f0f921"
             ]
            ],
            "type": "contour"
           }
          ],
          "contourcarpet": [
           {
            "colorbar": {
             "outlinewidth": 0,
             "ticks": ""
            },
            "type": "contourcarpet"
           }
          ],
          "heatmap": [
           {
            "colorbar": {
             "outlinewidth": 0,
             "ticks": ""
            },
            "colorscale": [
             [
              0,
              "#0d0887"
             ],
             [
              0.1111111111111111,
              "#46039f"
             ],
             [
              0.2222222222222222,
              "#7201a8"
             ],
             [
              0.3333333333333333,
              "#9c179e"
             ],
             [
              0.4444444444444444,
              "#bd3786"
             ],
             [
              0.5555555555555556,
              "#d8576b"
             ],
             [
              0.6666666666666666,
              "#ed7953"
             ],
             [
              0.7777777777777778,
              "#fb9f3a"
             ],
             [
              0.8888888888888888,
              "#fdca26"
             ],
             [
              1,
              "#f0f921"
             ]
            ],
            "type": "heatmap"
           }
          ],
          "heatmapgl": [
           {
            "colorbar": {
             "outlinewidth": 0,
             "ticks": ""
            },
            "colorscale": [
             [
              0,
              "#0d0887"
             ],
             [
              0.1111111111111111,
              "#46039f"
             ],
             [
              0.2222222222222222,
              "#7201a8"
             ],
             [
              0.3333333333333333,
              "#9c179e"
             ],
             [
              0.4444444444444444,
              "#bd3786"
             ],
             [
              0.5555555555555556,
              "#d8576b"
             ],
             [
              0.6666666666666666,
              "#ed7953"
             ],
             [
              0.7777777777777778,
              "#fb9f3a"
             ],
             [
              0.8888888888888888,
              "#fdca26"
             ],
             [
              1,
              "#f0f921"
             ]
            ],
            "type": "heatmapgl"
           }
          ],
          "histogram": [
           {
            "marker": {
             "pattern": {
              "fillmode": "overlay",
              "size": 10,
              "solidity": 0.2
             }
            },
            "type": "histogram"
           }
          ],
          "histogram2d": [
           {
            "colorbar": {
             "outlinewidth": 0,
             "ticks": ""
            },
            "colorscale": [
             [
              0,
              "#0d0887"
             ],
             [
              0.1111111111111111,
              "#46039f"
             ],
             [
              0.2222222222222222,
              "#7201a8"
             ],
             [
              0.3333333333333333,
              "#9c179e"
             ],
             [
              0.4444444444444444,
              "#bd3786"
             ],
             [
              0.5555555555555556,
              "#d8576b"
             ],
             [
              0.6666666666666666,
              "#ed7953"
             ],
             [
              0.7777777777777778,
              "#fb9f3a"
             ],
             [
              0.8888888888888888,
              "#fdca26"
             ],
             [
              1,
              "#f0f921"
             ]
            ],
            "type": "histogram2d"
           }
          ],
          "histogram2dcontour": [
           {
            "colorbar": {
             "outlinewidth": 0,
             "ticks": ""
            },
            "colorscale": [
             [
              0,
              "#0d0887"
             ],
             [
              0.1111111111111111,
              "#46039f"
             ],
             [
              0.2222222222222222,
              "#7201a8"
             ],
             [
              0.3333333333333333,
              "#9c179e"
             ],
             [
              0.4444444444444444,
              "#bd3786"
             ],
             [
              0.5555555555555556,
              "#d8576b"
             ],
             [
              0.6666666666666666,
              "#ed7953"
             ],
             [
              0.7777777777777778,
              "#fb9f3a"
             ],
             [
              0.8888888888888888,
              "#fdca26"
             ],
             [
              1,
              "#f0f921"
             ]
            ],
            "type": "histogram2dcontour"
           }
          ],
          "mesh3d": [
           {
            "colorbar": {
             "outlinewidth": 0,
             "ticks": ""
            },
            "type": "mesh3d"
           }
          ],
          "parcoords": [
           {
            "line": {
             "colorbar": {
              "outlinewidth": 0,
              "ticks": ""
             }
            },
            "type": "parcoords"
           }
          ],
          "pie": [
           {
            "automargin": true,
            "type": "pie"
           }
          ],
          "scatter": [
           {
            "marker": {
             "colorbar": {
              "outlinewidth": 0,
              "ticks": ""
             }
            },
            "type": "scatter"
           }
          ],
          "scatter3d": [
           {
            "line": {
             "colorbar": {
              "outlinewidth": 0,
              "ticks": ""
             }
            },
            "marker": {
             "colorbar": {
              "outlinewidth": 0,
              "ticks": ""
             }
            },
            "type": "scatter3d"
           }
          ],
          "scattercarpet": [
           {
            "marker": {
             "colorbar": {
              "outlinewidth": 0,
              "ticks": ""
             }
            },
            "type": "scattercarpet"
           }
          ],
          "scattergeo": [
           {
            "marker": {
             "colorbar": {
              "outlinewidth": 0,
              "ticks": ""
             }
            },
            "type": "scattergeo"
           }
          ],
          "scattergl": [
           {
            "marker": {
             "colorbar": {
              "outlinewidth": 0,
              "ticks": ""
             }
            },
            "type": "scattergl"
           }
          ],
          "scattermapbox": [
           {
            "marker": {
             "colorbar": {
              "outlinewidth": 0,
              "ticks": ""
             }
            },
            "type": "scattermapbox"
           }
          ],
          "scatterpolar": [
           {
            "marker": {
             "colorbar": {
              "outlinewidth": 0,
              "ticks": ""
             }
            },
            "type": "scatterpolar"
           }
          ],
          "scatterpolargl": [
           {
            "marker": {
             "colorbar": {
              "outlinewidth": 0,
              "ticks": ""
             }
            },
            "type": "scatterpolargl"
           }
          ],
          "scatterternary": [
           {
            "marker": {
             "colorbar": {
              "outlinewidth": 0,
              "ticks": ""
             }
            },
            "type": "scatterternary"
           }
          ],
          "surface": [
           {
            "colorbar": {
             "outlinewidth": 0,
             "ticks": ""
            },
            "colorscale": [
             [
              0,
              "#0d0887"
             ],
             [
              0.1111111111111111,
              "#46039f"
             ],
             [
              0.2222222222222222,
              "#7201a8"
             ],
             [
              0.3333333333333333,
              "#9c179e"
             ],
             [
              0.4444444444444444,
              "#bd3786"
             ],
             [
              0.5555555555555556,
              "#d8576b"
             ],
             [
              0.6666666666666666,
              "#ed7953"
             ],
             [
              0.7777777777777778,
              "#fb9f3a"
             ],
             [
              0.8888888888888888,
              "#fdca26"
             ],
             [
              1,
              "#f0f921"
             ]
            ],
            "type": "surface"
           }
          ],
          "table": [
           {
            "cells": {
             "fill": {
              "color": "#EBF0F8"
             },
             "line": {
              "color": "white"
             }
            },
            "header": {
             "fill": {
              "color": "#C8D4E3"
             },
             "line": {
              "color": "white"
             }
            },
            "type": "table"
           }
          ]
         },
         "layout": {
          "annotationdefaults": {
           "arrowcolor": "#2a3f5f",
           "arrowhead": 0,
           "arrowwidth": 1
          },
          "autotypenumbers": "strict",
          "coloraxis": {
           "colorbar": {
            "outlinewidth": 0,
            "ticks": ""
           }
          },
          "colorscale": {
           "diverging": [
            [
             0,
             "#8e0152"
            ],
            [
             0.1,
             "#c51b7d"
            ],
            [
             0.2,
             "#de77ae"
            ],
            [
             0.3,
             "#f1b6da"
            ],
            [
             0.4,
             "#fde0ef"
            ],
            [
             0.5,
             "#f7f7f7"
            ],
            [
             0.6,
             "#e6f5d0"
            ],
            [
             0.7,
             "#b8e186"
            ],
            [
             0.8,
             "#7fbc41"
            ],
            [
             0.9,
             "#4d9221"
            ],
            [
             1,
             "#276419"
            ]
           ],
           "sequential": [
            [
             0,
             "#0d0887"
            ],
            [
             0.1111111111111111,
             "#46039f"
            ],
            [
             0.2222222222222222,
             "#7201a8"
            ],
            [
             0.3333333333333333,
             "#9c179e"
            ],
            [
             0.4444444444444444,
             "#bd3786"
            ],
            [
             0.5555555555555556,
             "#d8576b"
            ],
            [
             0.6666666666666666,
             "#ed7953"
            ],
            [
             0.7777777777777778,
             "#fb9f3a"
            ],
            [
             0.8888888888888888,
             "#fdca26"
            ],
            [
             1,
             "#f0f921"
            ]
           ],
           "sequentialminus": [
            [
             0,
             "#0d0887"
            ],
            [
             0.1111111111111111,
             "#46039f"
            ],
            [
             0.2222222222222222,
             "#7201a8"
            ],
            [
             0.3333333333333333,
             "#9c179e"
            ],
            [
             0.4444444444444444,
             "#bd3786"
            ],
            [
             0.5555555555555556,
             "#d8576b"
            ],
            [
             0.6666666666666666,
             "#ed7953"
            ],
            [
             0.7777777777777778,
             "#fb9f3a"
            ],
            [
             0.8888888888888888,
             "#fdca26"
            ],
            [
             1,
             "#f0f921"
            ]
           ]
          },
          "colorway": [
           "#636efa",
           "#EF553B",
           "#00cc96",
           "#ab63fa",
           "#FFA15A",
           "#19d3f3",
           "#FF6692",
           "#B6E880",
           "#FF97FF",
           "#FECB52"
          ],
          "font": {
           "color": "#2a3f5f"
          },
          "geo": {
           "bgcolor": "white",
           "lakecolor": "white",
           "landcolor": "#E5ECF6",
           "showlakes": true,
           "showland": true,
           "subunitcolor": "white"
          },
          "hoverlabel": {
           "align": "left"
          },
          "hovermode": "closest",
          "mapbox": {
           "style": "light"
          },
          "paper_bgcolor": "white",
          "plot_bgcolor": "#E5ECF6",
          "polar": {
           "angularaxis": {
            "gridcolor": "white",
            "linecolor": "white",
            "ticks": ""
           },
           "bgcolor": "#E5ECF6",
           "radialaxis": {
            "gridcolor": "white",
            "linecolor": "white",
            "ticks": ""
           }
          },
          "scene": {
           "xaxis": {
            "backgroundcolor": "#E5ECF6",
            "gridcolor": "white",
            "gridwidth": 2,
            "linecolor": "white",
            "showbackground": true,
            "ticks": "",
            "zerolinecolor": "white"
           },
           "yaxis": {
            "backgroundcolor": "#E5ECF6",
            "gridcolor": "white",
            "gridwidth": 2,
            "linecolor": "white",
            "showbackground": true,
            "ticks": "",
            "zerolinecolor": "white"
           },
           "zaxis": {
            "backgroundcolor": "#E5ECF6",
            "gridcolor": "white",
            "gridwidth": 2,
            "linecolor": "white",
            "showbackground": true,
            "ticks": "",
            "zerolinecolor": "white"
           }
          },
          "shapedefaults": {
           "line": {
            "color": "#2a3f5f"
           }
          },
          "ternary": {
           "aaxis": {
            "gridcolor": "white",
            "linecolor": "white",
            "ticks": ""
           },
           "baxis": {
            "gridcolor": "white",
            "linecolor": "white",
            "ticks": ""
           },
           "bgcolor": "#E5ECF6",
           "caxis": {
            "gridcolor": "white",
            "linecolor": "white",
            "ticks": ""
           }
          },
          "title": {
           "x": 0.05
          },
          "xaxis": {
           "automargin": true,
           "gridcolor": "white",
           "linecolor": "white",
           "ticks": "",
           "title": {
            "standoff": 15
           },
           "zerolinecolor": "white",
           "zerolinewidth": 2
          },
          "yaxis": {
           "automargin": true,
           "gridcolor": "white",
           "linecolor": "white",
           "ticks": "",
           "title": {
            "standoff": 15
           },
           "zerolinecolor": "white",
           "zerolinewidth": 2
          }
         }
        },
        "title": {
         "text": "CLOUDLAB:NIC traffic: mmult_eigen, tape_prefetching_asyncwrites"
        },
        "updatemenus": [
         {
          "buttons": [
           {
            "args": [
             null,
             {
              "frame": {
               "duration": 500,
               "redraw": false
              },
              "fromcurrent": true,
              "mode": "immediate",
              "transition": {
               "duration": 500,
               "easing": "linear"
              }
             }
            ],
            "label": "&#9654;",
            "method": "animate"
           },
           {
            "args": [
             [
              null
             ],
             {
              "frame": {
               "duration": 0,
               "redraw": false
              },
              "fromcurrent": true,
              "mode": "immediate",
              "transition": {
               "duration": 0,
               "easing": "linear"
              }
             }
            ],
            "label": "&#9724;",
            "method": "animate"
           }
          ],
          "direction": "left",
          "pad": {
           "r": 10,
           "t": 70
          },
          "showactive": false,
          "type": "buttons",
          "x": 0.1,
          "xanchor": "right",
          "y": 0,
          "yanchor": "top"
         }
        ],
        "xaxis": {
         "anchor": "y",
         "domain": [
          0,
          1
         ],
         "title": {
          "text": "Seconds after App start"
         }
        },
        "yaxis": {
         "anchor": "x",
         "domain": [
          0,
          1
         ],
         "title": {
          "text": "Bandwidth (Gbps)"
         }
        }
       }
      },
      "text/html": [
       "<div>                            <div id=\"50afdd6f-7718-4a18-a279-6cfbfe778f1a\" class=\"plotly-graph-div\" style=\"height:525px; width:100%;\"></div>            <script type=\"text/javascript\">                require([\"plotly\"], function(Plotly) {                    window.PLOTLYENV=window.PLOTLYENV || {};                                    if (document.getElementById(\"50afdd6f-7718-4a18-a279-6cfbfe778f1a\")) {                    Plotly.newPlot(                        \"50afdd6f-7718-4a18-a279-6cfbfe778f1a\",                        [{\"hovertemplate\":\"variable=Xmit Rate(Gbps)<br>RATIO=20<br>Time(s)=%{x}<br>value=%{y}<extra></extra>\",\"legendgroup\":\"Xmit Rate(Gbps)\",\"line\":{\"color\":\"#636efa\",\"dash\":\"solid\"},\"marker\":{\"symbol\":\"circle\"},\"mode\":\"lines\",\"name\":\"Xmit Rate(Gbps)\",\"orientation\":\"v\",\"showlegend\":true,\"type\":\"scatter\",\"x\":[0.004,0.107,0.209,0.312,0.415,0.519,0.622,0.726,0.829,0.932,1.036,1.139,1.243,1.346,1.45,1.553,1.657,1.76,1.863,1.967,2.07,2.174,2.277,2.381,2.484,2.588,2.691,2.795,2.898,3.001,3.105,3.208,3.311,3.415,3.518,3.621,3.724,3.828,3.931,4.035,4.138,4.241,4.344,4.448,4.551,4.655,4.758,4.862,4.965,5.068,5.172,5.275,5.378,5.482,5.585,5.689,5.792,5.896,5.999,6.102,6.205,6.308,6.412,6.515,6.618,6.721,6.824],\"xaxis\":\"x\",\"y\":[0.0,0.0,0.0,0.0,0.5003911100696524,5.668694301938688,5.51034476893487,7.183818033861496,9.127092754574916,2.2689843501545157,3.1748829153612417,4.010243859832202,3.5480097093682894,3.1858509195070615,3.8154994376454687,3.746950603248308,2.8785711063088164,3.821905612020558,3.0335494896142263,3.2489255113629136,3.9677658668429356,3.7454857377337185,3.0700866743618658,3.3564924277673076,3.41688366796528,3.2123307787833792,3.9758888063329128,3.7694249327198768,3.045121809444181,3.299791759709274,3.603864586433459,3.1405649754055194,3.8433086513663675,3.7801875504705302,3.1030204085674784,3.281001843490372,3.7322087153777854,3.02608659013205,3.8188149579859303,3.9198210214217237,2.9056631281581766,3.5117466859049835,3.6850392413763484,3.002245304792916,3.6402585781626597,4.086767562184619,2.850486628646191,3.5496521293830656,3.435602763922447,3.097200717426533,3.647440963932001,3.980398467162854,3.0512513753630213,3.629754244651388,3.2650635267899717,3.0875652599059853,3.8092680976416364,5.206571074200863,4.696361250835766,5.350219289962779,0.8306077796203455,0.0,0.0,0.0,0.0,0.0,0.0],\"yaxis\":\"y\"},{\"hovertemplate\":\"variable=Recv Rate(Gbps)<br>RATIO=20<br>Time(s)=%{x}<br>value=%{y}<extra></extra>\",\"legendgroup\":\"Recv Rate(Gbps)\",\"line\":{\"color\":\"#EF553B\",\"dash\":\"solid\"},\"marker\":{\"symbol\":\"circle\"},\"mode\":\"lines\",\"name\":\"Recv Rate(Gbps)\",\"orientation\":\"v\",\"showlegend\":true,\"type\":\"scatter\",\"x\":[0.004,0.107,0.209,0.312,0.415,0.519,0.622,0.726,0.829,0.932,1.036,1.139,1.243,1.346,1.45,1.553,1.657,1.76,1.863,1.967,2.07,2.174,2.277,2.381,2.484,2.588,2.691,2.795,2.898,3.001,3.105,3.208,3.311,3.415,3.518,3.621,3.724,3.828,3.931,4.035,4.138,4.241,4.344,4.448,4.551,4.655,4.758,4.862,4.965,5.068,5.172,5.275,5.378,5.482,5.585,5.689,5.792,5.896,5.999,6.102,6.205,6.308,6.412,6.515,6.618,6.721,6.824],\"xaxis\":\"x\",\"y\":[0.0,0.0,0.0,0.0,0.0061023940633039364,0.08397698974975817,0.08002111451586513,0.10537454191019167,0.7834894696447483,4.276476590871575,4.104670999602099,4.426738686288711,3.921265618143802,4.085133540526279,4.417249265482062,4.14934439293744,4.33266535043487,4.416321748443071,4.035472927685506,4.093543367816434,4.320383129711883,4.262984886865676,4.381606523326935,4.172724788860002,4.441684074013347,4.076059911253354,4.285006530069829,4.320710353503191,4.392801905927085,4.177005341860081,4.388949942062037,4.14279019451048,4.122777833855358,4.358320540813842,4.296963302749215,4.2994804571949,4.387498769103374,4.153523905476521,4.135665387117542,4.492162169457394,4.196645101219801,4.310915183373506,4.437787803368675,4.050960401064148,4.080052114481154,4.601531825766435,4.182123189754107,4.202315259964616,4.319320247661256,4.1423756791826225,4.0206819858605956,4.506787839846948,4.397602941548222,4.182793736801363,4.353741785487898,4.1343422032227055,4.092506074304155,5.716706387247745,6.205453731618279,6.890493498394217,5.063481636121375,0.0,0.0,0.0,0.0,0.0,0.0],\"yaxis\":\"y\"}],                        {\"legend\":{\"title\":{\"text\":\"variable\"},\"tracegroupgap\":0},\"sliders\":[{\"active\":0,\"currentvalue\":{\"prefix\":\"RATIO=\"},\"len\":0.9,\"pad\":{\"b\":10,\"t\":60},\"steps\":[{\"args\":[[\"20\"],{\"frame\":{\"duration\":0,\"redraw\":false},\"fromcurrent\":true,\"mode\":\"immediate\",\"transition\":{\"duration\":0,\"easing\":\"linear\"}}],\"label\":\"20\",\"method\":\"animate\"},{\"args\":[[\"30\"],{\"frame\":{\"duration\":0,\"redraw\":false},\"fromcurrent\":true,\"mode\":\"immediate\",\"transition\":{\"duration\":0,\"easing\":\"linear\"}}],\"label\":\"30\",\"method\":\"animate\"},{\"args\":[[\"40\"],{\"frame\":{\"duration\":0,\"redraw\":false},\"fromcurrent\":true,\"mode\":\"immediate\",\"transition\":{\"duration\":0,\"easing\":\"linear\"}}],\"label\":\"40\",\"method\":\"animate\"},{\"args\":[[\"50\"],{\"frame\":{\"duration\":0,\"redraw\":false},\"fromcurrent\":true,\"mode\":\"immediate\",\"transition\":{\"duration\":0,\"easing\":\"linear\"}}],\"label\":\"50\",\"method\":\"animate\"},{\"args\":[[\"60\"],{\"frame\":{\"duration\":0,\"redraw\":false},\"fromcurrent\":true,\"mode\":\"immediate\",\"transition\":{\"duration\":0,\"easing\":\"linear\"}}],\"label\":\"60\",\"method\":\"animate\"},{\"args\":[[\"70\"],{\"frame\":{\"duration\":0,\"redraw\":false},\"fromcurrent\":true,\"mode\":\"immediate\",\"transition\":{\"duration\":0,\"easing\":\"linear\"}}],\"label\":\"70\",\"method\":\"animate\"},{\"args\":[[\"80\"],{\"frame\":{\"duration\":0,\"redraw\":false},\"fromcurrent\":true,\"mode\":\"immediate\",\"transition\":{\"duration\":0,\"easing\":\"linear\"}}],\"label\":\"80\",\"method\":\"animate\"},{\"args\":[[\"90\"],{\"frame\":{\"duration\":0,\"redraw\":false},\"fromcurrent\":true,\"mode\":\"immediate\",\"transition\":{\"duration\":0,\"easing\":\"linear\"}}],\"label\":\"90\",\"method\":\"animate\"},{\"args\":[[\"100\"],{\"frame\":{\"duration\":0,\"redraw\":false},\"fromcurrent\":true,\"mode\":\"immediate\",\"transition\":{\"duration\":0,\"easing\":\"linear\"}}],\"label\":\"100\",\"method\":\"animate\"}],\"x\":0.1,\"xanchor\":\"left\",\"y\":0,\"yanchor\":\"top\"}],\"template\":{\"data\":{\"bar\":[{\"error_x\":{\"color\":\"#2a3f5f\"},\"error_y\":{\"color\":\"#2a3f5f\"},\"marker\":{\"line\":{\"color\":\"#E5ECF6\",\"width\":0.5},\"pattern\":{\"fillmode\":\"overlay\",\"size\":10,\"solidity\":0.2}},\"type\":\"bar\"}],\"barpolar\":[{\"marker\":{\"line\":{\"color\":\"#E5ECF6\",\"width\":0.5},\"pattern\":{\"fillmode\":\"overlay\",\"size\":10,\"solidity\":0.2}},\"type\":\"barpolar\"}],\"carpet\":[{\"aaxis\":{\"endlinecolor\":\"#2a3f5f\",\"gridcolor\":\"white\",\"linecolor\":\"white\",\"minorgridcolor\":\"white\",\"startlinecolor\":\"#2a3f5f\"},\"baxis\":{\"endlinecolor\":\"#2a3f5f\",\"gridcolor\":\"white\",\"linecolor\":\"white\",\"minorgridcolor\":\"white\",\"startlinecolor\":\"#2a3f5f\"},\"type\":\"carpet\"}],\"choropleth\":[{\"colorbar\":{\"outlinewidth\":0,\"ticks\":\"\"},\"type\":\"choropleth\"}],\"contour\":[{\"colorbar\":{\"outlinewidth\":0,\"ticks\":\"\"},\"colorscale\":[[0.0,\"#0d0887\"],[0.1111111111111111,\"#46039f\"],[0.2222222222222222,\"#7201a8\"],[0.3333333333333333,\"#9c179e\"],[0.4444444444444444,\"#bd3786\"],[0.5555555555555556,\"#d8576b\"],[0.6666666666666666,\"#ed7953\"],[0.7777777777777778,\"#fb9f3a\"],[0.8888888888888888,\"#fdca26\"],[1.0,\"#f0f921\"]],\"type\":\"contour\"}],\"contourcarpet\":[{\"colorbar\":{\"outlinewidth\":0,\"ticks\":\"\"},\"type\":\"contourcarpet\"}],\"heatmap\":[{\"colorbar\":{\"outlinewidth\":0,\"ticks\":\"\"},\"colorscale\":[[0.0,\"#0d0887\"],[0.1111111111111111,\"#46039f\"],[0.2222222222222222,\"#7201a8\"],[0.3333333333333333,\"#9c179e\"],[0.4444444444444444,\"#bd3786\"],[0.5555555555555556,\"#d8576b\"],[0.6666666666666666,\"#ed7953\"],[0.7777777777777778,\"#fb9f3a\"],[0.8888888888888888,\"#fdca26\"],[1.0,\"#f0f921\"]],\"type\":\"heatmap\"}],\"heatmapgl\":[{\"colorbar\":{\"outlinewidth\":0,\"ticks\":\"\"},\"colorscale\":[[0.0,\"#0d0887\"],[0.1111111111111111,\"#46039f\"],[0.2222222222222222,\"#7201a8\"],[0.3333333333333333,\"#9c179e\"],[0.4444444444444444,\"#bd3786\"],[0.5555555555555556,\"#d8576b\"],[0.6666666666666666,\"#ed7953\"],[0.7777777777777778,\"#fb9f3a\"],[0.8888888888888888,\"#fdca26\"],[1.0,\"#f0f921\"]],\"type\":\"heatmapgl\"}],\"histogram\":[{\"marker\":{\"pattern\":{\"fillmode\":\"overlay\",\"size\":10,\"solidity\":0.2}},\"type\":\"histogram\"}],\"histogram2d\":[{\"colorbar\":{\"outlinewidth\":0,\"ticks\":\"\"},\"colorscale\":[[0.0,\"#0d0887\"],[0.1111111111111111,\"#46039f\"],[0.2222222222222222,\"#7201a8\"],[0.3333333333333333,\"#9c179e\"],[0.4444444444444444,\"#bd3786\"],[0.5555555555555556,\"#d8576b\"],[0.6666666666666666,\"#ed7953\"],[0.7777777777777778,\"#fb9f3a\"],[0.8888888888888888,\"#fdca26\"],[1.0,\"#f0f921\"]],\"type\":\"histogram2d\"}],\"histogram2dcontour\":[{\"colorbar\":{\"outlinewidth\":0,\"ticks\":\"\"},\"colorscale\":[[0.0,\"#0d0887\"],[0.1111111111111111,\"#46039f\"],[0.2222222222222222,\"#7201a8\"],[0.3333333333333333,\"#9c179e\"],[0.4444444444444444,\"#bd3786\"],[0.5555555555555556,\"#d8576b\"],[0.6666666666666666,\"#ed7953\"],[0.7777777777777778,\"#fb9f3a\"],[0.8888888888888888,\"#fdca26\"],[1.0,\"#f0f921\"]],\"type\":\"histogram2dcontour\"}],\"mesh3d\":[{\"colorbar\":{\"outlinewidth\":0,\"ticks\":\"\"},\"type\":\"mesh3d\"}],\"parcoords\":[{\"line\":{\"colorbar\":{\"outlinewidth\":0,\"ticks\":\"\"}},\"type\":\"parcoords\"}],\"pie\":[{\"automargin\":true,\"type\":\"pie\"}],\"scatter\":[{\"marker\":{\"colorbar\":{\"outlinewidth\":0,\"ticks\":\"\"}},\"type\":\"scatter\"}],\"scatter3d\":[{\"line\":{\"colorbar\":{\"outlinewidth\":0,\"ticks\":\"\"}},\"marker\":{\"colorbar\":{\"outlinewidth\":0,\"ticks\":\"\"}},\"type\":\"scatter3d\"}],\"scattercarpet\":[{\"marker\":{\"colorbar\":{\"outlinewidth\":0,\"ticks\":\"\"}},\"type\":\"scattercarpet\"}],\"scattergeo\":[{\"marker\":{\"colorbar\":{\"outlinewidth\":0,\"ticks\":\"\"}},\"type\":\"scattergeo\"}],\"scattergl\":[{\"marker\":{\"colorbar\":{\"outlinewidth\":0,\"ticks\":\"\"}},\"type\":\"scattergl\"}],\"scattermapbox\":[{\"marker\":{\"colorbar\":{\"outlinewidth\":0,\"ticks\":\"\"}},\"type\":\"scattermapbox\"}],\"scatterpolar\":[{\"marker\":{\"colorbar\":{\"outlinewidth\":0,\"ticks\":\"\"}},\"type\":\"scatterpolar\"}],\"scatterpolargl\":[{\"marker\":{\"colorbar\":{\"outlinewidth\":0,\"ticks\":\"\"}},\"type\":\"scatterpolargl\"}],\"scatterternary\":[{\"marker\":{\"colorbar\":{\"outlinewidth\":0,\"ticks\":\"\"}},\"type\":\"scatterternary\"}],\"surface\":[{\"colorbar\":{\"outlinewidth\":0,\"ticks\":\"\"},\"colorscale\":[[0.0,\"#0d0887\"],[0.1111111111111111,\"#46039f\"],[0.2222222222222222,\"#7201a8\"],[0.3333333333333333,\"#9c179e\"],[0.4444444444444444,\"#bd3786\"],[0.5555555555555556,\"#d8576b\"],[0.6666666666666666,\"#ed7953\"],[0.7777777777777778,\"#fb9f3a\"],[0.8888888888888888,\"#fdca26\"],[1.0,\"#f0f921\"]],\"type\":\"surface\"}],\"table\":[{\"cells\":{\"fill\":{\"color\":\"#EBF0F8\"},\"line\":{\"color\":\"white\"}},\"header\":{\"fill\":{\"color\":\"#C8D4E3\"},\"line\":{\"color\":\"white\"}},\"type\":\"table\"}]},\"layout\":{\"annotationdefaults\":{\"arrowcolor\":\"#2a3f5f\",\"arrowhead\":0,\"arrowwidth\":1},\"autotypenumbers\":\"strict\",\"coloraxis\":{\"colorbar\":{\"outlinewidth\":0,\"ticks\":\"\"}},\"colorscale\":{\"diverging\":[[0,\"#8e0152\"],[0.1,\"#c51b7d\"],[0.2,\"#de77ae\"],[0.3,\"#f1b6da\"],[0.4,\"#fde0ef\"],[0.5,\"#f7f7f7\"],[0.6,\"#e6f5d0\"],[0.7,\"#b8e186\"],[0.8,\"#7fbc41\"],[0.9,\"#4d9221\"],[1,\"#276419\"]],\"sequential\":[[0.0,\"#0d0887\"],[0.1111111111111111,\"#46039f\"],[0.2222222222222222,\"#7201a8\"],[0.3333333333333333,\"#9c179e\"],[0.4444444444444444,\"#bd3786\"],[0.5555555555555556,\"#d8576b\"],[0.6666666666666666,\"#ed7953\"],[0.7777777777777778,\"#fb9f3a\"],[0.8888888888888888,\"#fdca26\"],[1.0,\"#f0f921\"]],\"sequentialminus\":[[0.0,\"#0d0887\"],[0.1111111111111111,\"#46039f\"],[0.2222222222222222,\"#7201a8\"],[0.3333333333333333,\"#9c179e\"],[0.4444444444444444,\"#bd3786\"],[0.5555555555555556,\"#d8576b\"],[0.6666666666666666,\"#ed7953\"],[0.7777777777777778,\"#fb9f3a\"],[0.8888888888888888,\"#fdca26\"],[1.0,\"#f0f921\"]]},\"colorway\":[\"#636efa\",\"#EF553B\",\"#00cc96\",\"#ab63fa\",\"#FFA15A\",\"#19d3f3\",\"#FF6692\",\"#B6E880\",\"#FF97FF\",\"#FECB52\"],\"font\":{\"color\":\"#2a3f5f\"},\"geo\":{\"bgcolor\":\"white\",\"lakecolor\":\"white\",\"landcolor\":\"#E5ECF6\",\"showlakes\":true,\"showland\":true,\"subunitcolor\":\"white\"},\"hoverlabel\":{\"align\":\"left\"},\"hovermode\":\"closest\",\"mapbox\":{\"style\":\"light\"},\"paper_bgcolor\":\"white\",\"plot_bgcolor\":\"#E5ECF6\",\"polar\":{\"angularaxis\":{\"gridcolor\":\"white\",\"linecolor\":\"white\",\"ticks\":\"\"},\"bgcolor\":\"#E5ECF6\",\"radialaxis\":{\"gridcolor\":\"white\",\"linecolor\":\"white\",\"ticks\":\"\"}},\"scene\":{\"xaxis\":{\"backgroundcolor\":\"#E5ECF6\",\"gridcolor\":\"white\",\"gridwidth\":2,\"linecolor\":\"white\",\"showbackground\":true,\"ticks\":\"\",\"zerolinecolor\":\"white\"},\"yaxis\":{\"backgroundcolor\":\"#E5ECF6\",\"gridcolor\":\"white\",\"gridwidth\":2,\"linecolor\":\"white\",\"showbackground\":true,\"ticks\":\"\",\"zerolinecolor\":\"white\"},\"zaxis\":{\"backgroundcolor\":\"#E5ECF6\",\"gridcolor\":\"white\",\"gridwidth\":2,\"linecolor\":\"white\",\"showbackground\":true,\"ticks\":\"\",\"zerolinecolor\":\"white\"}},\"shapedefaults\":{\"line\":{\"color\":\"#2a3f5f\"}},\"ternary\":{\"aaxis\":{\"gridcolor\":\"white\",\"linecolor\":\"white\",\"ticks\":\"\"},\"baxis\":{\"gridcolor\":\"white\",\"linecolor\":\"white\",\"ticks\":\"\"},\"bgcolor\":\"#E5ECF6\",\"caxis\":{\"gridcolor\":\"white\",\"linecolor\":\"white\",\"ticks\":\"\"}},\"title\":{\"x\":0.05},\"xaxis\":{\"automargin\":true,\"gridcolor\":\"white\",\"linecolor\":\"white\",\"ticks\":\"\",\"title\":{\"standoff\":15},\"zerolinecolor\":\"white\",\"zerolinewidth\":2},\"yaxis\":{\"automargin\":true,\"gridcolor\":\"white\",\"linecolor\":\"white\",\"ticks\":\"\",\"title\":{\"standoff\":15},\"zerolinecolor\":\"white\",\"zerolinewidth\":2}}},\"title\":{\"text\":\"CLOUDLAB:NIC traffic: mmult_eigen, tape_prefetching_asyncwrites\"},\"updatemenus\":[{\"buttons\":[{\"args\":[null,{\"frame\":{\"duration\":500,\"redraw\":false},\"fromcurrent\":true,\"mode\":\"immediate\",\"transition\":{\"duration\":500,\"easing\":\"linear\"}}],\"label\":\"&#9654;\",\"method\":\"animate\"},{\"args\":[[null],{\"frame\":{\"duration\":0,\"redraw\":false},\"fromcurrent\":true,\"mode\":\"immediate\",\"transition\":{\"duration\":0,\"easing\":\"linear\"}}],\"label\":\"&#9724;\",\"method\":\"animate\"}],\"direction\":\"left\",\"pad\":{\"r\":10,\"t\":70},\"showactive\":false,\"type\":\"buttons\",\"x\":0.1,\"xanchor\":\"right\",\"y\":0,\"yanchor\":\"top\"}],\"xaxis\":{\"anchor\":\"y\",\"domain\":[0.0,1.0],\"title\":{\"text\":\"Seconds after App start\"}},\"yaxis\":{\"anchor\":\"x\",\"domain\":[0.0,1.0],\"title\":{\"text\":\"Bandwidth (Gbps)\"}}},                        {\"responsive\": true}                    ).then(function(){\n",
       "                            Plotly.addFrames('50afdd6f-7718-4a18-a279-6cfbfe778f1a', [{\"data\":[{\"hovertemplate\":\"variable=Xmit Rate(Gbps)<br>RATIO=20<br>Time(s)=%{x}<br>value=%{y}<extra></extra>\",\"legendgroup\":\"Xmit Rate(Gbps)\",\"line\":{\"color\":\"#636efa\",\"dash\":\"solid\"},\"marker\":{\"symbol\":\"circle\"},\"mode\":\"lines\",\"name\":\"Xmit Rate(Gbps)\",\"orientation\":\"v\",\"showlegend\":true,\"type\":\"scatter\",\"x\":[0.004,0.107,0.209,0.312,0.415,0.519,0.622,0.726,0.829,0.932,1.036,1.139,1.243,1.346,1.45,1.553,1.657,1.76,1.863,1.967,2.07,2.174,2.277,2.381,2.484,2.588,2.691,2.795,2.898,3.001,3.105,3.208,3.311,3.415,3.518,3.621,3.724,3.828,3.931,4.035,4.138,4.241,4.344,4.448,4.551,4.655,4.758,4.862,4.965,5.068,5.172,5.275,5.378,5.482,5.585,5.689,5.792,5.896,5.999,6.102,6.205,6.308,6.412,6.515,6.618,6.721,6.824],\"xaxis\":\"x\",\"y\":[0.0,0.0,0.0,0.0,0.5003911100696524,5.668694301938688,5.51034476893487,7.183818033861496,9.127092754574916,2.2689843501545157,3.1748829153612417,4.010243859832202,3.5480097093682894,3.1858509195070615,3.8154994376454687,3.746950603248308,2.8785711063088164,3.821905612020558,3.0335494896142263,3.2489255113629136,3.9677658668429356,3.7454857377337185,3.0700866743618658,3.3564924277673076,3.41688366796528,3.2123307787833792,3.9758888063329128,3.7694249327198768,3.045121809444181,3.299791759709274,3.603864586433459,3.1405649754055194,3.8433086513663675,3.7801875504705302,3.1030204085674784,3.281001843490372,3.7322087153777854,3.02608659013205,3.8188149579859303,3.9198210214217237,2.9056631281581766,3.5117466859049835,3.6850392413763484,3.002245304792916,3.6402585781626597,4.086767562184619,2.850486628646191,3.5496521293830656,3.435602763922447,3.097200717426533,3.647440963932001,3.980398467162854,3.0512513753630213,3.629754244651388,3.2650635267899717,3.0875652599059853,3.8092680976416364,5.206571074200863,4.696361250835766,5.350219289962779,0.8306077796203455,0.0,0.0,0.0,0.0,0.0,0.0],\"yaxis\":\"y\"},{\"hovertemplate\":\"variable=Recv Rate(Gbps)<br>RATIO=20<br>Time(s)=%{x}<br>value=%{y}<extra></extra>\",\"legendgroup\":\"Recv Rate(Gbps)\",\"line\":{\"color\":\"#EF553B\",\"dash\":\"solid\"},\"marker\":{\"symbol\":\"circle\"},\"mode\":\"lines\",\"name\":\"Recv Rate(Gbps)\",\"orientation\":\"v\",\"showlegend\":true,\"type\":\"scatter\",\"x\":[0.004,0.107,0.209,0.312,0.415,0.519,0.622,0.726,0.829,0.932,1.036,1.139,1.243,1.346,1.45,1.553,1.657,1.76,1.863,1.967,2.07,2.174,2.277,2.381,2.484,2.588,2.691,2.795,2.898,3.001,3.105,3.208,3.311,3.415,3.518,3.621,3.724,3.828,3.931,4.035,4.138,4.241,4.344,4.448,4.551,4.655,4.758,4.862,4.965,5.068,5.172,5.275,5.378,5.482,5.585,5.689,5.792,5.896,5.999,6.102,6.205,6.308,6.412,6.515,6.618,6.721,6.824],\"xaxis\":\"x\",\"y\":[0.0,0.0,0.0,0.0,0.0061023940633039364,0.08397698974975817,0.08002111451586513,0.10537454191019167,0.7834894696447483,4.276476590871575,4.104670999602099,4.426738686288711,3.921265618143802,4.085133540526279,4.417249265482062,4.14934439293744,4.33266535043487,4.416321748443071,4.035472927685506,4.093543367816434,4.320383129711883,4.262984886865676,4.381606523326935,4.172724788860002,4.441684074013347,4.076059911253354,4.285006530069829,4.320710353503191,4.392801905927085,4.177005341860081,4.388949942062037,4.14279019451048,4.122777833855358,4.358320540813842,4.296963302749215,4.2994804571949,4.387498769103374,4.153523905476521,4.135665387117542,4.492162169457394,4.196645101219801,4.310915183373506,4.437787803368675,4.050960401064148,4.080052114481154,4.601531825766435,4.182123189754107,4.202315259964616,4.319320247661256,4.1423756791826225,4.0206819858605956,4.506787839846948,4.397602941548222,4.182793736801363,4.353741785487898,4.1343422032227055,4.092506074304155,5.716706387247745,6.205453731618279,6.890493498394217,5.063481636121375,0.0,0.0,0.0,0.0,0.0,0.0],\"yaxis\":\"y\"}],\"name\":\"20\"},{\"data\":[{\"hovertemplate\":\"variable=Xmit Rate(Gbps)<br>RATIO=30<br>Time(s)=%{x}<br>value=%{y}<extra></extra>\",\"legendgroup\":\"Xmit Rate(Gbps)\",\"line\":{\"color\":\"#636efa\",\"dash\":\"solid\"},\"marker\":{\"symbol\":\"circle\"},\"mode\":\"lines\",\"name\":\"Xmit Rate(Gbps)\",\"orientation\":\"v\",\"showlegend\":true,\"type\":\"scatter\",\"x\":[0.004,0.107,0.209,0.312,0.415,0.519,0.622,0.725,0.829,0.932,1.035,1.139,1.242,1.345,1.449,1.552,1.655,1.759,1.862,1.966,2.069,2.173,2.276,2.379,2.483,2.586,2.689,2.793,2.896,3.0,3.103,3.207,3.31,3.414,3.517,3.62,3.724,3.827,3.93,4.034,4.137,4.241,4.344,4.447,4.551,4.654,4.757,4.861,4.964,5.067,5.171,5.274,5.378,5.481,5.584,5.688,5.791,5.894,5.998,6.101,6.205,6.308,6.411,6.514,6.617,6.72,6.824,6.927],\"xaxis\":\"x\",\"y\":[0.0,0.0,0.0,0.0,0.0,3.5104616460149716,5.708979126553763,7.475338204177577,7.206865449460166,4.039748737120601,3.437042294140588,3.780460953139889,3.6565044571426055,3.2053279367959355,4.1051754346842,3.449890534930965,2.8012107577171292,3.634221157583338,3.254672315488378,2.9887429346383283,3.8043864136408194,3.49585593147534,3.149373281591739,3.3038553974214446,3.3924470259293553,3.1925039772381565,3.0393327589062724,3.847210998150385,3.8310593476466686,2.647327987421713,3.601272746732688,3.1826970785655955,3.089703597800455,3.7846636245390375,3.7738978573700246,2.748223037886221,3.643758473318428,3.3220061969109658,2.6862570432409463,3.947704085699089,3.8100826751827475,2.8474441408309397,3.7612490695616434,3.013786011593194,2.7568837293172295,3.903525819140202,3.704102610524257,3.0003274781101577,3.692053048848851,3.2297395364852077,3.3384418395937434,3.3130024846148265,3.633058552096141,3.480988434514998,3.160582828244236,3.5287572945916312,3.01734668091588,3.063041070037168,5.216580188469053,5.098587095332782,5.3067446671118494,3.202791415176621,0.0,0.0,0.0,0.0,0.0,0.0],\"yaxis\":\"y\"},{\"hovertemplate\":\"variable=Recv Rate(Gbps)<br>RATIO=30<br>Time(s)=%{x}<br>value=%{y}<extra></extra>\",\"legendgroup\":\"Recv Rate(Gbps)\",\"line\":{\"color\":\"#EF553B\",\"dash\":\"solid\"},\"marker\":{\"symbol\":\"circle\"},\"mode\":\"lines\",\"name\":\"Recv Rate(Gbps)\",\"orientation\":\"v\",\"showlegend\":true,\"type\":\"scatter\",\"x\":[0.004,0.107,0.209,0.312,0.415,0.519,0.622,0.725,0.829,0.932,1.035,1.139,1.242,1.345,1.449,1.552,1.655,1.759,1.862,1.966,2.069,2.173,2.276,2.379,2.483,2.586,2.689,2.793,2.896,3.0,3.103,3.207,3.31,3.414,3.517,3.62,3.724,3.827,3.93,4.034,4.137,4.241,4.344,4.447,4.551,4.654,4.757,4.861,4.964,5.067,5.171,5.274,5.378,5.481,5.584,5.688,5.791,5.894,5.998,6.101,6.205,6.308,6.411,6.514,6.617,6.72,6.824,6.927],\"xaxis\":\"x\",\"y\":[0.0,0.0,0.0,0.0,0.0,0.05139741155530944,0.08310829980297071,0.10810900844496277,1.755360224061466,4.010409492525972,4.032485468889421,4.050886539400594,3.915930638373419,4.05266750911043,4.288304550617958,3.9234092580127444,3.874685496062937,4.519689667121827,3.8992439393969365,3.990035980052385,4.275825911650487,3.885889316727399,4.245160738318793,3.9938647231352586,4.179180240997545,3.8919321087005736,3.8990846660736036,4.2113289594879255,4.191905346804757,3.983769762641984,4.425082359350956,3.85763264984953,3.990153163295705,4.045183159317907,4.237255462735294,3.979059819684913,4.432937139278412,3.9660410321417974,3.862383293943647,4.405393037053983,3.983593183622915,4.07188729983356,4.433298665961488,3.871178592326694,3.8216640236970867,4.2523618581570295,3.9758090251401,4.136704058743344,4.398473597174098,4.019342095498096,3.9725198869402845,4.099642155126513,4.166018550608958,4.105409236930169,4.289064097473865,4.07537855172134,3.9700705605033972,3.9358895225043993,5.4104221084733926,6.170687920600913,6.764511668143875,4.658297528119842,0.0,0.0,0.0,0.0,0.0,0.0],\"yaxis\":\"y\"}],\"name\":\"30\"},{\"data\":[{\"hovertemplate\":\"variable=Xmit Rate(Gbps)<br>RATIO=40<br>Time(s)=%{x}<br>value=%{y}<extra></extra>\",\"legendgroup\":\"Xmit Rate(Gbps)\",\"line\":{\"color\":\"#636efa\",\"dash\":\"solid\"},\"marker\":{\"symbol\":\"circle\"},\"mode\":\"lines\",\"name\":\"Xmit Rate(Gbps)\",\"orientation\":\"v\",\"showlegend\":true,\"type\":\"scatter\",\"x\":[0.004,0.107,0.21,0.313,0.416,0.519,0.623,0.726,0.829,0.932,1.035,1.139,1.242,1.345,1.448,1.551,1.655,1.758,1.861,1.964,2.067,2.17,2.274,2.377,2.48,2.583,2.687,2.79,2.893,2.997,3.1,3.203,3.306,3.409,3.512,3.615,3.719,3.822,3.925,4.028,4.131,4.235,4.338,4.442,4.545,4.648,4.752,4.855,4.958,5.061,5.164,5.268,5.371,5.475,5.578,5.681,5.785,5.888,5.992,6.095,6.198,6.301,6.404,6.507],\"xaxis\":\"x\",\"y\":[0.0,0.0,0.0,0.0,0.0,0.7530980383043259,6.085675456681926,7.924581475909999,6.70183959455888,0.0157969652392353,0.3710811168215559,0.6740131593460531,0.6535941252537312,2.0002948786886314,3.150827264924517,2.803571818524721,2.381900660013715,3.2214145424525564,2.247127193946728,2.825637966770206,3.506802275386622,2.7253648589584754,2.9505510151558005,2.8211378449958993,2.6950968572170675,3.013272347898875,3.637197668110386,2.8631677914313216,2.9849219854079276,2.9050565246889817,2.7596950531005806,3.174893435173893,3.632771575716827,2.9884453656948686,3.060212884564398,2.9216809369890986,2.8073764786367668,3.11996321673536,3.601156832753291,3.031978436052864,3.267941141914769,2.8424149631423266,2.949645401319183,3.3493851035060356,3.6781988712795575,3.086435170455777,3.004040601274119,2.9766556710206964,2.9789401303207215,3.3909039053375887,3.7169352419508273,3.265151888217978,2.9437473742968634,2.9589500596727345,2.7140804451721197,3.883692966168891,4.874418608622404,1.227840651133824,0.0,0.0,0.0,0.0,0.0,0.0],\"yaxis\":\"y\"},{\"hovertemplate\":\"variable=Recv Rate(Gbps)<br>RATIO=40<br>Time(s)=%{x}<br>value=%{y}<extra></extra>\",\"legendgroup\":\"Recv Rate(Gbps)\",\"line\":{\"color\":\"#EF553B\",\"dash\":\"solid\"},\"marker\":{\"symbol\":\"circle\"},\"mode\":\"lines\",\"name\":\"Recv Rate(Gbps)\",\"orientation\":\"v\",\"showlegend\":true,\"type\":\"scatter\",\"x\":[0.004,0.107,0.21,0.313,0.416,0.519,0.623,0.726,0.829,0.932,1.035,1.139,1.242,1.345,1.448,1.551,1.655,1.758,1.861,1.964,2.067,2.17,2.274,2.377,2.48,2.583,2.687,2.79,2.893,2.997,3.1,3.203,3.306,3.409,3.512,3.615,3.719,3.822,3.925,4.028,4.131,4.235,4.338,4.442,4.545,4.648,4.752,4.855,4.958,5.061,5.164,5.268,5.371,5.475,5.578,5.681,5.785,5.888,5.992,6.095,6.198,6.301,6.404,6.507],\"xaxis\":\"x\",\"y\":[0.0,0.0,0.0,0.0,0.0,0.010493250290938188,0.08798985385070275,0.11641463530398943,1.4760090123092402,0.9356437668305471,0.4296792466934165,0.6258261535857064,1.3517986560307236,1.9571442377440107,3.5614104784309695,3.0621588519195355,3.6393711477603934,3.5470625824655415,2.8020250461959475,3.7046125164087487,3.8682885475232616,3.909574158554752,3.461959439899687,3.5385716666768374,3.6798838153842737,3.168821970775905,3.7914454421667396,4.0263229498692015,3.491357966144618,3.6333874941559245,3.8472095470076892,3.3709346149640758,3.8569165478622107,4.137987135453331,3.6884657857952172,3.642042959696099,3.6852861916526605,3.4749363372906266,3.8950126455549445,4.030259689234864,3.910183790930234,3.5482521932017415,3.9563496406510867,3.6652104197272157,3.9443434383196325,4.209295334339614,3.6597486646214286,3.589500395796094,3.8852573712975254,3.765678949198838,4.023420475387213,4.14607447002165,3.710654785515126,3.5264910584339186,3.7430838169574963,4.066590772567744,5.246408276553337,2.1129545948091515,0.0,0.0,0.0,0.0,0.0,0.0],\"yaxis\":\"y\"}],\"name\":\"40\"},{\"data\":[{\"hovertemplate\":\"variable=Xmit Rate(Gbps)<br>RATIO=50<br>Time(s)=%{x}<br>value=%{y}<extra></extra>\",\"legendgroup\":\"Xmit Rate(Gbps)\",\"line\":{\"color\":\"#636efa\",\"dash\":\"solid\"},\"marker\":{\"symbol\":\"circle\"},\"mode\":\"lines\",\"name\":\"Xmit Rate(Gbps)\",\"orientation\":\"v\",\"showlegend\":true,\"type\":\"scatter\",\"x\":[0.004,0.106,0.209,0.312,0.415,0.519,0.622,0.725,0.828,0.931,1.035,1.138,1.241,1.344,1.447,1.55,1.653,1.757,1.86,1.963,2.066,2.169,2.273,2.376,2.479,2.582,2.685,2.788,2.891,2.994,3.097,3.201,3.304,3.407,3.51,3.613,3.717,3.82,3.923,4.026,4.129,4.232,4.336,4.438,4.542,4.645,4.748,4.851,4.954,5.057,5.161,5.264],\"xaxis\":\"x\",\"y\":[0.0,0.0,0.0,0.0,0.0,0.0,4.12744185394968,8.46978620229475,4.872867600878505,0.00875396247515969,0.5500145993704533,0.0,1.0631925035286114,0.7577030896909255,0.8613142888599179,0.053867625450186085,1.787305109484698,0.3344685154162731,0.061015846888840826,0.1217998658188562,0.0,0.5878101958451505,1.6893115785692183,1.956496160083557,0.254406903578631,0.0,0.014973426767047663,0.009625774350244969,1.0352664844834818,0.8429735754440394,0.5894179603177074,0.016418474437409458,0.010160539591925245,0.016577722492088484,0.0,2.7472061167401503,0.011932666661301895,0.07613235949082489,0.027771370718481413,0.0,0.01871678345880966,0.21446514314638404,1.336366482129128,0.012320822996911129,0.011122192360825763,0.013711380796682276,0.0002511951324433275,0.0,0.0,0.0,0.0,0.0],\"yaxis\":\"y\"},{\"hovertemplate\":\"variable=Recv Rate(Gbps)<br>RATIO=50<br>Time(s)=%{x}<br>value=%{y}<extra></extra>\",\"legendgroup\":\"Recv Rate(Gbps)\",\"line\":{\"color\":\"#EF553B\",\"dash\":\"solid\"},\"marker\":{\"symbol\":\"circle\"},\"mode\":\"lines\",\"name\":\"Recv Rate(Gbps)\",\"orientation\":\"v\",\"showlegend\":true,\"type\":\"scatter\",\"x\":[0.004,0.106,0.209,0.312,0.415,0.519,0.622,0.725,0.828,0.931,1.035,1.138,1.241,1.344,1.447,1.55,1.653,1.757,1.86,1.963,2.066,2.169,2.273,2.376,2.479,2.582,2.685,2.788,2.891,2.994,3.097,3.201,3.304,3.407,3.51,3.613,3.717,3.82,3.923,4.026,4.129,4.232,4.336,4.438,4.542,4.645,4.748,4.851,4.954,5.057,5.161,5.264],\"xaxis\":\"x\",\"y\":[0.0,0.0,0.0,0.0,0.0,0.0,0.05906612172390396,0.12441674675557594,1.1748431031849638,0.5129433510722055,0.6274874684446491,0.0,0.9846539895125184,0.7206403896949688,0.7976627719853252,0.19563446914421254,1.4503116635415998,1.6221882172437059,0.5958857291191082,0.8472060255352211,0.0,1.1112479534574649,1.5448086772482617,1.8275339087736984,1.7031414432507102,0.0,0.877361871107009,0.5640183457116511,1.2615872285067722,1.07633472067077,0.9101967460084746,0.9620338535217218,0.5953526982511873,0.9713649287256172,0.0,0.9458285876550665,0.6991813780594965,0.9115929168826993,1.020394518581207,0.0,1.096702338883766,0.7236425906679864,1.4888369956918899,0.6021692049958715,0.6148485354112955,0.8406220536921138,0.014727145693581875,0.0,0.0,0.0,0.0,0.0],\"yaxis\":\"y\"}],\"name\":\"50\"},{\"data\":[{\"hovertemplate\":\"variable=Xmit Rate(Gbps)<br>RATIO=60<br>Time(s)=%{x}<br>value=%{y}<extra></extra>\",\"legendgroup\":\"Xmit Rate(Gbps)\",\"line\":{\"color\":\"#636efa\",\"dash\":\"solid\"},\"marker\":{\"symbol\":\"circle\"},\"mode\":\"lines\",\"name\":\"Xmit Rate(Gbps)\",\"orientation\":\"v\",\"showlegend\":true,\"type\":\"scatter\",\"x\":[0.004,0.107,0.21,0.312,0.415,0.519,0.622,0.725,0.829,0.932,1.035,1.138,1.242,1.345,1.448,1.552,1.655,1.758,1.861,1.964,2.067,2.171,2.274,2.377,2.48,2.583,2.687,2.79,2.893,2.997,3.1,3.203,3.306,3.409,3.513,3.616,3.719,3.822,3.925,4.029,4.132,4.235,4.338,4.441,4.544,4.647,4.75,4.854,4.957],\"xaxis\":\"x\",\"y\":[0.0,0.0,0.0,0.0,0.0,0.0,1.331027795919276,8.873802209571078,4.851692405374548,0.003219286754915251,0.010695304833605509,0.0,0.5453040574629867,0.24128896766906802,0.655804295544481,0.0,1.0139068044816026,0.7292986725512116,0.6482840509349924,0.0,1.0252079838809152,0.5942554455554699,0.26755576915352414,0.014555731753951513,0.0,0.2450305899870726,0.14508835520455796,0.1645169133242762,0.17153650204263574,0.523509713575086,0.08496697034567549,0.36417108271216875,0.43556889090921813,0.01871678345880966,0.011651820568484132,0.012299600558646295,0.0,0.018716783458809578,0.012299600558646349,0.012181448776142502,0.0,0.20440693160611015,0.003925176873933226,0.0,0.0,0.0,0.0,0.0,0.0],\"yaxis\":\"y\"},{\"hovertemplate\":\"variable=Recv Rate(Gbps)<br>RATIO=60<br>Time(s)=%{x}<br>value=%{y}<extra></extra>\",\"legendgroup\":\"Recv Rate(Gbps)\",\"line\":{\"color\":\"#EF553B\",\"dash\":\"solid\"},\"marker\":{\"symbol\":\"circle\"},\"mode\":\"lines\",\"name\":\"Recv Rate(Gbps)\",\"orientation\":\"v\",\"showlegend\":true,\"type\":\"scatter\",\"x\":[0.004,0.107,0.21,0.312,0.415,0.519,0.622,0.725,0.829,0.932,1.035,1.138,1.242,1.345,1.448,1.552,1.655,1.758,1.861,1.964,2.067,2.171,2.274,2.377,2.48,2.583,2.687,2.79,2.893,2.997,3.1,3.203,3.306,3.409,3.513,3.616,3.719,3.822,3.925,4.029,4.132,4.235,4.338,4.441,4.544,4.647,4.75,4.854,4.957],\"xaxis\":\"x\",\"y\":[0.0,0.0,0.0,0.0,0.0,0.0,0.018822291195681674,0.13010722705163966,1.0629477807813603,0.18863280228800713,0.6266870507907227,0.0,1.0186705763356019,0.2970531308223159,0.6348952636570752,0.0,0.9840489821336897,0.6931020031844842,0.6723620727383663,0.0,0.9855544185545908,0.597084232755401,1.7076219087891125,0.735744183556071,0.0,1.3183816096715595,0.5600114033613856,0.6283939636297056,0.19943303673389973,1.144211928965836,0.5648785950950219,0.6318531720876477,0.6224803272436001,1.096702338883766,0.6827337024992864,0.7206901084093289,0.0,1.0967023388837613,0.720690108409332,0.7137670526128903,0.0,1.2365610823830084,0.24902947774567094,0.0,0.0,0.0,0.0,0.0,0.0],\"yaxis\":\"y\"}],\"name\":\"60\"},{\"data\":[{\"hovertemplate\":\"variable=Xmit Rate(Gbps)<br>RATIO=70<br>Time(s)=%{x}<br>value=%{y}<extra></extra>\",\"legendgroup\":\"Xmit Rate(Gbps)\",\"line\":{\"color\":\"#636efa\",\"dash\":\"solid\"},\"marker\":{\"symbol\":\"circle\"},\"mode\":\"lines\",\"name\":\"Xmit Rate(Gbps)\",\"orientation\":\"v\",\"showlegend\":true,\"type\":\"scatter\",\"x\":[0.004,0.107,0.21,0.313,0.416,0.519,0.622,0.725,0.829,0.932,1.035,1.139,1.242,1.345,1.448,1.551,1.654,1.757,1.861,1.964,2.067,2.17,2.274,2.377,2.48,2.583,2.686,2.789,2.893,2.996,3.099,3.202,3.306,3.409,3.512,3.615,3.718,3.821,3.925,4.028,4.131,4.234,4.337,4.44,4.543,4.646,4.749,4.852],\"xaxis\":\"x\",\"y\":[0.0,0.0,0.0,0.0,0.0,0.0,0.0,7.969608131134893,2.9978219072596604,0.0,0.010695304833605509,0.0,0.6699807775702787,0.0,0.6278331827816747,0.0,1.0960340268628097,0.0,0.6277411174132884,0.17003713592988098,1.1988581094085047,0.1945348761824012,0.6457736695992266,0.0,1.2133427318384273,0.8442737776370545,0.21453798684417152,0.0,0.2076257088227879,0.15676195013303384,0.29690975592508634,0.0,0.34753344129989255,0.2917829470999842,0.3566132600046145,0.0,0.5973327749568683,0.3193149742400258,0.44863574443014775,0.0,0.3818692106511474,0.06930095032507896,0.0,0.0,0.0,0.0,0.0,0.0],\"yaxis\":\"y\"},{\"hovertemplate\":\"variable=Recv Rate(Gbps)<br>RATIO=70<br>Time(s)=%{x}<br>value=%{y}<extra></extra>\",\"legendgroup\":\"Recv Rate(Gbps)\",\"line\":{\"color\":\"#EF553B\",\"dash\":\"solid\"},\"marker\":{\"symbol\":\"circle\"},\"mode\":\"lines\",\"name\":\"Recv Rate(Gbps)\",\"orientation\":\"v\",\"showlegend\":true,\"type\":\"scatter\",\"x\":[0.004,0.107,0.21,0.313,0.416,0.519,0.622,0.725,0.829,0.932,1.035,1.139,1.242,1.345,1.448,1.551,1.654,1.757,1.861,1.964,2.067,2.17,2.274,2.377,2.48,2.583,2.686,2.789,2.893,2.996,3.099,3.202,3.306,3.409,3.512,3.615,3.718,3.821,3.925,4.028,4.131,4.234,4.337,4.44,4.543,4.646,4.749,4.852],\"xaxis\":\"x\",\"y\":[0.0,0.0,0.0,0.0,0.0,0.0,0.0,0.11540783133816651,0.7983503950890387,0.0,0.6266870507907227,0.0,0.785134523153074,0.0,0.6326434683961619,0.0,1.0700583111072028,0.0,0.6283526232789957,0.08138057447890423,1.234431560471955,0.1807567219960821,0.6285876636889889,0.0,1.2313287658210381,0.8042192829106164,1.7081904943190576,0.0,0.9641371932199237,0.5969029393274718,0.974299778184417,0.0,0.9657300858401419,0.6924877458122854,0.8499344845169599,0.0,0.9781078848297704,0.7240013169733546,0.8427904959943435,0.0,0.8953828816270448,0.6034155127842619,0.0,0.0,0.0,0.0,0.0,0.0],\"yaxis\":\"y\"}],\"name\":\"70\"},{\"data\":[{\"hovertemplate\":\"variable=Xmit Rate(Gbps)<br>RATIO=80<br>Time(s)=%{x}<br>value=%{y}<extra></extra>\",\"legendgroup\":\"Xmit Rate(Gbps)\",\"line\":{\"color\":\"#636efa\",\"dash\":\"solid\"},\"marker\":{\"symbol\":\"circle\"},\"mode\":\"lines\",\"name\":\"Xmit Rate(Gbps)\",\"orientation\":\"v\",\"showlegend\":true,\"type\":\"scatter\",\"x\":[0.004,0.107,0.21,0.312,0.416,0.519,0.622,0.725,0.828,0.931,1.035,1.138,1.241,1.344,1.447,1.551,1.654,1.757,1.86,1.963,2.067,2.17,2.273,2.376,2.48,2.583,2.686,2.789,2.893,2.996,3.099,3.202,3.305,3.409,3.512,3.616,3.719,3.822,3.925,4.028,4.131,4.234,4.337,4.441,4.544,4.647,4.75,4.853],\"xaxis\":\"x\",\"y\":[0.0,0.0,0.0,0.0,0.0,0.0,0.0,7.054278795055461,0.0,0.5101446499533144,0.0,0.7000672481917966,0.0,0.6303766418960232,0.0,0.6014062852154097,0.0,0.6736923374098327,0.0,0.7574747304796133,0.0,0.6479562542949584,0.0,0.9502674282233097,0.26898700153449745,0.6469824034305119,0.0,0.7611082435001095,0.7421977810855125,1.184457604105787,0.29846548918493676,0.0,0.01903070510879054,0.0124923548483139,0.012299600558646295,0.0,0.2648313570438839,0.39569101324368094,0.3628570055290993,0.0,0.4071121534945058,0.0002566873160065325,0.0,0.0,0.0,0.0,0.0,0.0],\"yaxis\":\"y\"},{\"hovertemplate\":\"variable=Recv Rate(Gbps)<br>RATIO=80<br>Time(s)=%{x}<br>value=%{y}<extra></extra>\",\"legendgroup\":\"Recv Rate(Gbps)\",\"line\":{\"color\":\"#EF553B\",\"dash\":\"solid\"},\"marker\":{\"symbol\":\"circle\"},\"mode\":\"lines\",\"name\":\"Recv Rate(Gbps)\",\"orientation\":\"v\",\"showlegend\":true,\"type\":\"scatter\",\"x\":[0.004,0.107,0.21,0.312,0.416,0.519,0.622,0.725,0.828,0.931,1.035,1.138,1.241,1.344,1.447,1.551,1.654,1.757,1.86,1.963,2.067,2.17,2.273,2.376,2.48,2.583,2.686,2.789,2.893,2.996,3.099,3.202,3.305,3.409,3.512,3.616,3.719,3.822,3.925,4.028,4.131,4.234,4.337,4.441,4.544,4.647,4.75,4.853],\"xaxis\":\"x\",\"y\":[0.0,0.0,0.0,0.0,0.0,0.0,0.0,0.8635738888027367,0.0,0.6330493118552527,0.0,0.635495646039221,0.0,0.6345009826896957,0.0,0.5971638201293074,0.0,0.6348149043396767,0.0,0.7257258626122018,0.0,0.6346666153834716,0.0,0.8778159879690018,0.31617515712375227,0.6325090544300085,0.0,0.7173991342057991,0.7040299095864736,1.0989018138696776,1.144593890492597,0.0,1.096706963880446,0.658842317194579,0.7761519124043077,0.0,1.0994131650656458,0.6939258307189632,0.7559984893502846,0.0,0.4806556710910119,0.015040489218977363,0.0,0.0,0.0,0.0,0.0,0.0],\"yaxis\":\"y\"}],\"name\":\"80\"},{\"data\":[{\"hovertemplate\":\"variable=Xmit Rate(Gbps)<br>RATIO=90<br>Time(s)=%{x}<br>value=%{y}<extra></extra>\",\"legendgroup\":\"Xmit Rate(Gbps)\",\"line\":{\"color\":\"#636efa\",\"dash\":\"solid\"},\"marker\":{\"symbol\":\"circle\"},\"mode\":\"lines\",\"name\":\"Xmit Rate(Gbps)\",\"orientation\":\"v\",\"showlegend\":true,\"type\":\"scatter\",\"x\":[0.004,0.107,0.21,0.313,0.416,0.519,0.622,0.726,0.829,0.932,1.035,1.139,1.242,1.345,1.448,1.551,1.655,1.758,1.861,1.964,2.067,2.171,2.274,2.377,2.48,2.583,2.686,2.79,2.893,2.996,3.099,3.202,3.305,3.409,3.512,3.615,3.718,3.822,3.925,4.028,4.131,4.235,4.338,4.441,4.544,4.647,4.75],\"xaxis\":\"x\",\"y\":[0.0,0.0,0.0,0.0,0.0,0.0,0.0,3.8019034521265977,0.0,0.6445031161451658,0.0,0.5341583896897134,0.0,0.6495258625448619,0.0,0.6709601206182857,0.0,0.6196232355415648,0.0,0.6127900920020621,0.0,0.639633417816604,0.0,0.6199154775195872,0.0,0.6355100991538597,0.0,0.589300702101444,0.0,0.679437739541527,0.0,1.1459802332488715,0.7653479201486093,0.448008206575452,0.0,0.017261354814560835,0.012294397437375945,0.017737105531719973,0.0,0.0031285211949760145,0.0030426696940143443,0.00021729070789875814,0.0,0.0,0.0,0.0,0.0],\"yaxis\":\"y\"},{\"hovertemplate\":\"variable=Recv Rate(Gbps)<br>RATIO=90<br>Time(s)=%{x}<br>value=%{y}<extra></extra>\",\"legendgroup\":\"Recv Rate(Gbps)\",\"line\":{\"color\":\"#EF553B\",\"dash\":\"solid\"},\"marker\":{\"symbol\":\"circle\"},\"mode\":\"lines\",\"name\":\"Recv Rate(Gbps)\",\"orientation\":\"v\",\"showlegend\":true,\"type\":\"scatter\",\"x\":[0.004,0.107,0.21,0.313,0.416,0.519,0.622,0.726,0.829,0.932,1.035,1.139,1.242,1.345,1.448,1.551,1.655,1.758,1.861,1.964,2.067,2.171,2.274,2.377,2.48,2.583,2.686,2.79,2.893,2.996,3.099,3.202,3.305,3.409,3.512,3.615,3.718,3.822,3.925,4.028,4.131,4.235,4.338,4.441,4.544,4.647,4.75],\"xaxis\":\"x\",\"y\":[0.0,0.0,0.0,0.0,0.0,0.0,0.0,0.8090222603305961,0.0,0.6347787715530759,0.0,0.627190017791806,0.0,0.6349267714469903,0.0,0.6034669658723789,0.0,0.629720181429074,0.0,0.6155480353376683,0.0,0.614986525030807,0.0,0.6285338697794236,0.0,0.6227821082772835,0.0,0.5799580605183503,0.0,0.6217304996560766,0.0,0.8330142232079067,0.5168136061105061,0.724032678704901,0.0,0.7539539517533059,0.7203767648839366,1.0393068953045956,0.0,0.1833059623562866,0.1782924659499593,0.012723673546577611,0.0,0.0,0.0,0.0,0.0],\"yaxis\":\"y\"}],\"name\":\"90\"},{\"data\":[{\"hovertemplate\":\"variable=Xmit Rate(Gbps)<br>RATIO=100<br>Time(s)=%{x}<br>value=%{y}<extra></extra>\",\"legendgroup\":\"Xmit Rate(Gbps)\",\"line\":{\"color\":\"#636efa\",\"dash\":\"solid\"},\"marker\":{\"symbol\":\"circle\"},\"mode\":\"lines\",\"name\":\"Xmit Rate(Gbps)\",\"orientation\":\"v\",\"showlegend\":true,\"type\":\"scatter\",\"x\":[0.004,0.107,0.21,0.312,0.415,0.518,0.621,0.725,0.828,0.931,1.034,1.137,1.24,1.343,1.446,1.55,1.653,1.756,1.859,1.962,2.065,2.168,2.272,2.375,2.478,2.581,2.684,2.787,2.89,2.994,3.097,3.2,3.303,3.406,3.51,3.613,3.716,3.819,3.922,4.025,4.129,4.232,4.335,4.438,4.542],\"xaxis\":\"x\",\"y\":[0.0,0.0,0.0,0.0,0.0,0.0,0.0,0.0,0.0,0.0,0.0,0.0,0.0,0.0,0.0,0.0,0.0,0.0,0.0,0.0,0.0,0.0,0.0,0.0,0.0,0.0,0.0,0.0,0.0,0.0,0.0,0.0,0.0,0.0,0.0,0.0,0.0,0.0,0.0,0.0,0.0,0.0,0.0,0.0,0.0],\"yaxis\":\"y\"},{\"hovertemplate\":\"variable=Recv Rate(Gbps)<br>RATIO=100<br>Time(s)=%{x}<br>value=%{y}<extra></extra>\",\"legendgroup\":\"Recv Rate(Gbps)\",\"line\":{\"color\":\"#EF553B\",\"dash\":\"solid\"},\"marker\":{\"symbol\":\"circle\"},\"mode\":\"lines\",\"name\":\"Recv Rate(Gbps)\",\"orientation\":\"v\",\"showlegend\":true,\"type\":\"scatter\",\"x\":[0.004,0.107,0.21,0.312,0.415,0.518,0.621,0.725,0.828,0.931,1.034,1.137,1.24,1.343,1.446,1.55,1.653,1.756,1.859,1.962,2.065,2.168,2.272,2.375,2.478,2.581,2.684,2.787,2.89,2.994,3.097,3.2,3.303,3.406,3.51,3.613,3.716,3.819,3.922,4.025,4.129,4.232,4.335,4.438,4.542],\"xaxis\":\"x\",\"y\":[0.0,0.0,0.0,0.0,0.0,0.0,0.0,0.0,0.0,0.0,0.0,0.0,0.0,0.0,0.0,0.0,0.0,0.0,0.0,0.0,0.0,0.0,0.0,0.0,0.0,0.0,0.0,0.0,0.0,0.0,0.0,0.0,0.0,0.0,0.0,0.0,0.0,0.0,0.0,0.0,0.0,0.0,0.0,0.0,0.0],\"yaxis\":\"y\"}],\"name\":\"100\"}]);\n",
       "                        }).then(function(){\n",
       "                            \n",
       "var gd = document.getElementById('50afdd6f-7718-4a18-a279-6cfbfe778f1a');\n",
       "var x = new MutationObserver(function (mutations, observer) {{\n",
       "        var display = window.getComputedStyle(gd).display;\n",
       "        if (!display || display === 'none') {{\n",
       "            console.log([gd, 'removed!']);\n",
       "            Plotly.purge(gd);\n",
       "            observer.disconnect();\n",
       "        }}\n",
       "}});\n",
       "\n",
       "// Listen for the removal of the full notebook cells\n",
       "var notebookContainer = gd.closest('#notebook-container');\n",
       "if (notebookContainer) {{\n",
       "    x.observe(notebookContainer, {childList: true});\n",
       "}}\n",
       "\n",
       "// Listen for the clearing of the current output cell\n",
       "var outputEl = gd.closest('.output');\n",
       "if (outputEl) {{\n",
       "    x.observe(outputEl, {childList: true});\n",
       "}}\n",
       "\n",
       "                        })                };                });            </script>        </div>"
      ]
     },
     "metadata": {},
     "output_type": "display_data"
    }
   ],
   "source": [
    "# data_dir = \"../final2_exp_results/experiment_results_nproc_6\"\n",
    "data_dir = \"../prefetching-data/evictions-data/multiprocess/10gbps/experiment_results_nproc_1\"\n",
    "\n",
    "for w in [\"mmult_eigen\"]:#WORKLOADS:\n",
    "    nic_data = get_nic_monitor_data(EXPERIMENT_TYPES,  w, data_dir)\n",
    "\n",
    "    for exp in EXPERIMENT_TYPES:\n",
    "        exp_nic_data = nic_data.loc[nic_data[\"Experiment Name\"] == exp].sort_values([\"RATIO\", \"Time(s)\"])\n",
    "\n",
    "        sum_data = 0\n",
    "        sum_time = 0\n",
    "        for ratio in set(exp_nic_data[\"RATIO\"]):\n",
    "            #[tx, rx]\n",
    "            sum_data = [0,0]\n",
    "            sum_time = [0,0]\n",
    "            last_row = [0,0, 0]\n",
    "            vs = [[], []]\n",
    "\n",
    "            for i, row in exp_nic_data[exp_nic_data[\"RATIO\"] == ratio].iterrows():\n",
    "                tx, rx, t = row['Xmit(MB)'], row['Recv(MB)'], row['Time(s)']\n",
    "\n",
    "                for i,v in enumerate([tx, rx]):\n",
    "                    vs[i].append((v - last_row[i])/ (t - last_row[2]+0.0001) * 8/1024)\n",
    "                    last_row[i] = v\n",
    "                last_row[2] = t\n",
    "\n",
    "\n",
    "            exp_nic_data.loc[exp_nic_data[\"RATIO\"] == ratio, \"Xmit Rate(Gbps)\"] = vs[0]\n",
    "            exp_nic_data.loc[exp_nic_data[\"RATIO\"] == ratio, \"Recv Rate(Gbps)\"] = vs[1]\n",
    "\n",
    "        fig = px.line(exp_nic_data, \n",
    "                x='Time(s)', y=[ #'Xmit(MB)','Recv(MB)',\n",
    "                                'Xmit Rate(Gbps)', 'Recv Rate(Gbps)'],\n",
    "                      animation_frame=\"RATIO\",\n",
    "                      title= \"NIC traffic: mmult_eigen, %s\" % exp\n",
    "                    )\n",
    "\n",
    "        fig.update_layout(\n",
    "            xaxis_title=\"Seconds after App start\",\n",
    "            yaxis_title=\"Bandwidth (Gbps)\",\n",
    "        )\n",
    "        plot(fig)\n",
    "#         fig.show()\n"
   ]
  },
  {
   "cell_type": "markdown",
   "id": "2672d977",
   "metadata": {},
   "source": [
    "Multi-Switch Analysis\n",
    "=================="
   ]
  },
  {
   "cell_type": "code",
   "execution_count": null,
   "id": "23067e23",
   "metadata": {},
   "outputs": [],
   "source": [
    "hops = (0, 1, 2, 3, 4)\n",
    "data_by_hop = {}\n",
    "for hop in hops:\n",
    "    data_by_hop[hop] = {}\n",
    "    for workload in WORKLOADS:\n",
    "        data_by_hop[hop][workload] = augment_tables(get_experiment_data(EXPERIMENT_TYPES, workload,\"../experiment_results_{0}\".format(hop)), filter_raw=True)"
   ]
  },
  {
   "cell_type": "code",
   "execution_count": null,
   "id": "a613271e",
   "metadata": {},
   "outputs": [],
   "source": [
    "SLICE_RATIO = 30\n",
    "\n",
    "frames_by_hop = []\n",
    "for hop in data_by_hop:\n",
    "    data = data_by_hop[hop]\n",
    "    degradations = take_column_named(\"Degradation(%)\",data).dropna()\n",
    "#     degradations = take_column_named(\"Measured(wallclock) runtime\",data).dropna()\n",
    "    degradation_for_hop = degradations.loc[SLICE_RATIO]\n",
    "    degradation_for_hop[\"Hop Count\"] = hop\n",
    "    degradation_for_hop = degradation_for_hop.set_index(\"Hop Count\")\n",
    "    frames_by_hop.append(degradation_for_hop)\n",
    "    \n",
    "hop_frame = pd.concat(frames_by_hop)\n",
    "hop_frame"
   ]
  },
  {
   "cell_type": "code",
   "execution_count": null,
   "id": "d13489b0",
   "metadata": {},
   "outputs": [],
   "source": [
    "fig = px.line(hop_frame, title='Normalized Runtime(Wallclock) vs. Local Memory', \n",
    "              animation_frame=\"Experiment Name\")\n",
    "fig.update_layout(\n",
    "    xaxis_title=\"Hop Count\",\n",
    "    yaxis_title=\"Normalized Runtime(Wallclock)\",\n",
    "    yaxis_range=[0, 800],\n",
    ")"
   ]
  },
  {
   "cell_type": "code",
   "execution_count": null,
   "id": "d5080b38",
   "metadata": {
    "scrolled": true
   },
   "outputs": [],
   "source": [
    "runtime_components = []\n",
    "\n",
    "def revised_get_components_of_runtime(table, name=\"unnamed\"):\n",
    "    sub_tbl = table[[\"Baseline User Time\",\n",
    "                     \"Extra User Time\",\n",
    "                     \"Eviction Time\",\n",
    "                     \"Baseline minor PF Time\",\n",
    "                     \"Extra Minor PF Time\",\n",
    "                     \"Major PF Time\",\n",
    "                                     ]] / 1e6\n",
    "    sub_tbl[\"Experiment Name\"] = table[\"Experiment Name\"]\n",
    "    fig = px.area(sub_tbl, title='Components of runtime(%s)'%name,\n",
    "                  color_discrete_sequence=['#ab63fa', '#3c0c73', '#636efa', '#ef553b',  '#9e1700','#00cc96'],\n",
    "                  animation_frame=\"Experiment Name\")\n",
    "    fig.update_layout(\n",
    "        xaxis_title=\"Hop Count\",\n",
    "        yaxis_title=\"Time(seconds)\",\n",
    "    )\n",
    " #   fig.add_trace(px.line(table[\"Measured(wallclock) runtime\"]).data[0])\n",
    "  #  fig.add_trace(px.line(table[\"sys+usr\"] / 1e6).data[0])\n",
    "\n",
    "    def anno(text, posx = 1.1, posy=0.32):\n",
    "        dy = -0.04\n",
    "        if anno.counter > 0:\n",
    "            posx += 0.15\n",
    "        fig.add_annotation(text=text,\n",
    "              xref=\"paper\", yref=\"paper\",\n",
    "              x=posx, y=posy + dy * anno.counter, showarrow=False)\n",
    "        anno.counter+= 1\n",
    "    anno.counter = 0\n",
    "\n",
    "    #anno(\"Workload constants:\")\n",
    "    #anno(\"Baseline System Time(s): %.2f\" % (table[\"Baseline System Time\"].values[0]/1e6))\n",
    "    #anno(\"Baseline App Time(s): %.2f\" % (table[\"Baseline App Time(us)\"].values[0] / 1e6))\n",
    "    #anno(\"Baseline Minor PF Time(us): %.2f\" % table[\"Baseline Single Minor PF Time(us)\"].values[0])\n",
    "\n",
    "    return fig\n",
    "\n",
    "for workload in WORKLOADS:\n",
    "    hop_data_frames = []\n",
    "    for hop in data_by_hop:\n",
    "        data_for_hop = data_by_hop[hop][workload]\n",
    "        data_for_hop = data_for_hop.loc[SLICE_RATIO]\n",
    "        data_for_hop[\"Hop Count\"] = hop\n",
    "        data_for_hop = data_for_hop.set_index(\"Hop Count\")\n",
    "        hop_data_frames.append(data_for_hop)\n",
    "    hop_data = pd.concat(hop_data_frames)\n",
    "    fig = revised_get_components_of_runtime(hop_data, \"%s\" % workload)\n",
    "    runtime_components.append(fig)\n",
    "    fig.update_layout(yaxis_range=[0,20])\n",
    "    plot(fig)"
   ]
  }
 ],
 "metadata": {
  "kernelspec": {
   "display_name": "Python 3 (ipykernel)",
   "language": "python",
   "name": "python3"
  },
  "language_info": {
   "codemirror_mode": {
    "name": "ipython",
    "version": 3
   },
   "file_extension": ".py",
   "mimetype": "text/x-python",
   "name": "python",
   "nbconvert_exporter": "python",
   "pygments_lexer": "ipython3",
   "version": "3.9.5"
  }
 },
 "nbformat": 4,
 "nbformat_minor": 5
}
