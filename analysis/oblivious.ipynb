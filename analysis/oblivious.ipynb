{
 "cells": [
  {
   "cell_type": "code",
   "execution_count": null,
   "id": "intermediate-deficit",
   "metadata": {},
   "outputs": [],
   "source": [
    "#import pandas as pd\n",
    "import numpy as np \n",
    "import plotly.express as px\n",
    "import plotly.graph_objects as go\n",
    "import chart_studio\n",
    "import chart_studio.plotly as py\n",
    "import os\n",
    "\n",
    "import experiment_helpers\n",
    "\n",
    "#debug\n",
    "from importlib import reload\n",
    "from experiment_helpers import *\n",
    "reload(experiment_helpers)\n",
    "from experiment_helpers import *"
   ]
  },
  {
   "cell_type": "code",
   "execution_count": null,
   "id": "54c82a9b",
   "metadata": {},
   "outputs": [],
   "source": [
    "### update per hardware setting\n",
    "## updates plot titles when uploading charts to chart-studio.\n",
    "PLACE=\"CLOUDLAB:\""
   ]
  },
  {
   "cell_type": "code",
   "execution_count": null,
   "id": "greek-checklist",
   "metadata": {},
   "outputs": [],
   "source": [
    "def add_annotation(text):\n",
    "    anno = \"<h3><pre>%s</pre></h3>\" % text\n",
    "    annotations.append(anno)"
   ]
  },
  {
   "cell_type": "code",
   "execution_count": null,
   "id": "retired-bearing",
   "metadata": {},
   "outputs": [],
   "source": [
    "%%javascript\n",
    "IPython.OutputArea.prototype._should_scroll = function(lines) {\n",
    "    return false;\n",
    "}"
   ]
  },
  {
   "cell_type": "markdown",
   "id": "4a0a7425",
   "metadata": {},
   "source": [
    "### set up remote plotting"
   ]
  },
  {
   "cell_type": "code",
   "execution_count": null,
   "id": "f7957507",
   "metadata": {},
   "outputs": [],
   "source": [
    "if os.getlogin() == 'narekg':\n",
    "    # Please do not override my chartly plots if you are not me\n",
    "    chart_studio.tools.set_credentials_file(username='ngalstyan', api_key='dApbes8sgyjaWkPJL8cA')\n",
    "\n",
    "from datetime import date\n",
    "UPLOAD_PLOTS = False\n",
    "def plot(fig):\n",
    "    fig.layout.title.text = PLACE + fig.layout.title.text\n",
    "    if UPLOAD_PLOTS:\n",
    "        f = \"%s:%s\" % (date.today(), fig.layout.title.text)\n",
    "        f = f[:50]\n",
    "        url = py.plot(fig, auto_open=False)\n",
    "        print(url)\n",
    "        fig.layout.title.text += url\n",
    "\n",
    "    return fig.show()"
   ]
  },
  {
   "cell_type": "markdown",
   "id": "growing-portrait",
   "metadata": {},
   "source": [
    "# Experiment plots"
   ]
  },
  {
   "cell_type": "markdown",
   "id": "functioning-register",
   "metadata": {},
   "source": [
    "## Define experiments"
   ]
  },
  {
   "cell_type": "code",
   "execution_count": null,
   "id": "opened-manitoba",
   "metadata": {},
   "outputs": [],
   "source": [
    "EXPERIMENT_TYPES = [\n",
    "    \"no_prefetching\",\n",
    "    \"linux_prefetching\",\n",
    "    #\"linux_prefetching_ssdopt\",\n",
    "    #\"linux_prefetching_ssdopt_asyncwrites\",\n",
    "    #\"linux_prefetching_ssdopt_asyncwrites\",\n",
    "\n",
    "    \"tape_prefetching_syncwrites\",\n",
    "    \"tape_prefetching_asyncwrites\",\n",
    "   # \"tape_prefetching_asyncwrites_linux\",\n",
    "\n",
    "    #\"tape_prefetching_asyncwrites_offload_fetch\",\n",
    "]\n",
    "annotations=[]"
   ]
  },
  {
   "cell_type": "code",
   "execution_count": null,
   "id": "printable-receiver",
   "metadata": {},
   "outputs": [],
   "source": [
    "WORKLOADS = [\"mmult_eigen\", \"mmult_eigen_vec\", \"mmult_eigen_dot\", \"sort\"\n",
    "             # \"vec_eigen\",\n",
    "             # \"dot_eigen\", \"mmap_random_rw\",\"kissfft\",  \"kmeans\", \"torch\",\n",
    "             # \"bitonic_merge\", \"native_sort\",\n",
    "             # \"bitonic_sort\", \"torch\", \"torch_par\",\"torch_par4\",\"linpack\", \"mmult_eigen_par\"\n",
    "             # \"alexnet\", \"vgg16\", \"batcher_sort\"\n",
    "            ]"
   ]
  },
  {
   "cell_type": "markdown",
   "id": "subject-bruce",
   "metadata": {},
   "source": [
    "## Load data(single pandas table of all experiments per workload)"
   ]
  },
  {
   "cell_type": "code",
   "execution_count": null,
   "id": "exposed-intervention",
   "metadata": {},
   "outputs": [],
   "source": [
    "data = {}\n",
    "for workload in WORKLOADS:\n",
    "    data[workload] = augment_tables(get_experiment_data(EXPERIMENT_TYPES, workload,\"../experiment_results\"), filter_raw=True)"
   ]
  },
  {
   "cell_type": "markdown",
   "id": "explicit-escape",
   "metadata": {},
   "source": [
    "## Explore & Plot"
   ]
  },
  {
   "cell_type": "code",
   "execution_count": null,
   "id": "purple-jungle",
   "metadata": {},
   "outputs": [],
   "source": [
    "## TODO:::take_column_named:: VERY VERY HACKY.. assumes all tables have data appropriately sorted\n",
    "## sanity check later with more data, if these plots become crucial\n",
    "runtime = take_column_named(\"Measured(wallclock) runtime\",data).dropna()\n",
    "fig = px.line(runtime, title='Absolute(Wallclock) Runtime vs. Local Memory', \n",
    "              animation_frame=\"Experiment Name\")\n",
    "fig.update_layout(\n",
    "    xaxis_title=\"Ratio(%)\",\n",
    "    yaxis_title=\"Measured(wallclock) runtime(s)\",\n",
    ")\n",
    "#plot(fig)\n",
    "\n",
    "degradations = take_column_named(\"Degradation(%)\",data).dropna()\n",
    "fig = px.line(degradations, title='Normalized Runtime(Wallclock) vs. Local Memory',\n",
    "                animation_frame=\"Experiment Name\")\n",
    "\n",
    "fig.update_layout(\n",
    "    xaxis_title=\"Ratio(%)\",\n",
    "    yaxis_title=\"Degradation(%)\",\n",
    ")\n",
    "plot(fig)\n",
    "\n",
    "degradations_no_ev = take_column_named(\"Degradation w/o Evictions(%)\",data).dropna()\n",
    "fig = px.line(degradations_no_ev, title='Normalized Runtime vs. Local Memory (SUBTRACT time spent in evictions)',\n",
    "             animation_frame=\"Experiment Name\")\n",
    "fig.update_layout(\n",
    "    xaxis_title=\"Ratio(%)\",\n",
    "    yaxis_title=\"Degradation w/o Evictions(%)\",\n",
    ")\n",
    "#plot(fig)\n",
    "\n",
    "    \n",
    "for exp in WORKLOADS:\n",
    "    fig = px.line(degradations.pivot(columns=\"Experiment Name\", values=\"(%s)Degradation(%%)\" % exp), title='Perfrormance comparison under different prefetching strategies - %s' % exp)\n",
    "    fig.update_layout(\n",
    "        xaxis_title=\"Ratio(%)\",\n",
    "        yaxis_title=\"Degradation(%)\",\n",
    "    )\n",
    "    plot(fig)"
   ]
  },
  {
   "cell_type": "code",
   "execution_count": null,
   "id": "rational-couple",
   "metadata": {},
   "outputs": [],
   "source": [
    "runtime_components = []\n",
    "\n",
    "for workload in WORKLOADS:\n",
    "    fig = get_components_of_runtime(data[workload], \"%s\" % workload)\n",
    "    runtime_components.append(fig)\n",
    "    fig.update_layout(yaxis_range=[0,15])\n",
    "    plot(fig)"
   ]
  },
  {
   "cell_type": "code",
   "execution_count": null,
   "id": "86526e36",
   "metadata": {},
   "outputs": [],
   "source": [
    "nic_data = get_nic_monitor_data(EXPERIMENT_TYPES, \"mmult_eigen\", \"../experiment_results\")"
   ]
  },
  {
   "cell_type": "code",
   "execution_count": null,
   "id": "662503d4",
   "metadata": {},
   "outputs": [],
   "source": [
    "for exp in EXPERIMENT_TYPES:\n",
    "    fig = px.line(nic_data.loc[nic_data[\"Experiment Name\"] == exp].sort_values([\"RATIO\", \"Time(s)\"]), \n",
    "            x='Time(s)', y=['Xmit(MB)','Recv(MB)'],\n",
    "                  animation_frame=\"RATIO\",\n",
    "                  title= \"NIC traffic: mmult_eigen, %s\" % exp\n",
    "                )\n",
    "    \n",
    "    fig.update_layout(\n",
    "        xaxis_title=\"Seconds after App start\",\n",
    "        yaxis_title=\"Data (MB)\",\n",
    "    )\n",
    "    #plot(fig)\n",
    "    fig.show()"
   ]
  }
 ],
 "metadata": {
  "kernelspec": {
   "display_name": "Python 3",
   "language": "python",
   "name": "python3"
  },
  "language_info": {
   "codemirror_mode": {
    "name": "ipython",
    "version": 3
   },
   "file_extension": ".py",
   "mimetype": "text/x-python",
   "name": "python",
   "nbconvert_exporter": "python",
   "pygments_lexer": "ipython3",
   "version": "3.8.5"
  }
 },
 "nbformat": 4,
 "nbformat_minor": 5
}
